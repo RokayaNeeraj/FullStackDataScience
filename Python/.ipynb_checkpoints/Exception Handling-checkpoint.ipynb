{
 "cells": [
  {
   "cell_type": "code",
   "execution_count": 1,
   "id": "38e1ea62",
   "metadata": {},
   "outputs": [
    {
     "ename": "NameError",
     "evalue": "name 'a' is not defined",
     "output_type": "error",
     "traceback": [
      "\u001b[1;31m---------------------------------------------------------------------------\u001b[0m",
      "\u001b[1;31mNameError\u001b[0m                                 Traceback (most recent call last)",
      "\u001b[1;32mC:\\Users\\ROKAYA~1\\AppData\\Local\\Temp/ipykernel_7604/792776550.py\u001b[0m in \u001b[0;36m<module>\u001b[1;34m\u001b[0m\n\u001b[1;32m----> 1\u001b[1;33m \u001b[0ma\u001b[0m\u001b[1;33m/\u001b[0m\u001b[1;36m10\u001b[0m\u001b[1;33m\u001b[0m\u001b[1;33m\u001b[0m\u001b[0m\n\u001b[0m",
      "\u001b[1;31mNameError\u001b[0m: name 'a' is not defined"
     ]
    }
   ],
   "source": [
    "a/10"
   ]
  },
  {
   "cell_type": "code",
   "execution_count": 2,
   "id": "ee4319d0",
   "metadata": {},
   "outputs": [
    {
     "data": {
      "text/plain": [
       "0.5"
      ]
     },
     "execution_count": 2,
     "metadata": {},
     "output_type": "execute_result"
    }
   ],
   "source": [
    "a=5\n",
    "a/10"
   ]
  },
  {
   "cell_type": "code",
   "execution_count": 3,
   "id": "316dcfb7",
   "metadata": {},
   "outputs": [
    {
     "ename": "ZeroDivisionError",
     "evalue": "division by zero",
     "output_type": "error",
     "traceback": [
      "\u001b[1;31m---------------------------------------------------------------------------\u001b[0m",
      "\u001b[1;31mZeroDivisionError\u001b[0m                         Traceback (most recent call last)",
      "\u001b[1;32mC:\\Users\\ROKAYA~1\\AppData\\Local\\Temp/ipykernel_7604/4102073204.py\u001b[0m in \u001b[0;36m<module>\u001b[1;34m\u001b[0m\n\u001b[1;32m----> 1\u001b[1;33m \u001b[0ma\u001b[0m\u001b[1;33m/\u001b[0m\u001b[1;36m0\u001b[0m\u001b[1;33m\u001b[0m\u001b[1;33m\u001b[0m\u001b[0m\n\u001b[0m",
      "\u001b[1;31mZeroDivisionError\u001b[0m: division by zero"
     ]
    }
   ],
   "source": [
    "a/0"
   ]
  },
  {
   "cell_type": "code",
   "execution_count": 6,
   "id": "131b5130",
   "metadata": {},
   "outputs": [
    {
     "ename": "UnsupportedOperation",
     "evalue": "not writable",
     "output_type": "error",
     "traceback": [
      "\u001b[1;31m---------------------------------------------------------------------------\u001b[0m",
      "\u001b[1;31mUnsupportedOperation\u001b[0m                      Traceback (most recent call last)",
      "\u001b[1;32mC:\\Users\\ROKAYA~1\\AppData\\Local\\Temp/ipykernel_7604/180139864.py\u001b[0m in \u001b[0;36m<module>\u001b[1;34m\u001b[0m\n\u001b[0;32m      1\u001b[0m \u001b[0mf\u001b[0m \u001b[1;33m=\u001b[0m \u001b[0mopen\u001b[0m\u001b[1;33m(\u001b[0m\u001b[1;34m\"test.txt\"\u001b[0m\u001b[1;33m,\u001b[0m\u001b[1;34m'r'\u001b[0m\u001b[1;33m)\u001b[0m\u001b[1;33m\u001b[0m\u001b[1;33m\u001b[0m\u001b[0m\n\u001b[1;32m----> 2\u001b[1;33m \u001b[0mf\u001b[0m\u001b[1;33m.\u001b[0m\u001b[0mwrite\u001b[0m\u001b[1;33m(\u001b[0m\u001b[1;34m\"jfjdkkdaas\"\u001b[0m\u001b[1;33m)\u001b[0m\u001b[1;33m\u001b[0m\u001b[1;33m\u001b[0m\u001b[0m\n\u001b[0m\u001b[0;32m      3\u001b[0m \u001b[0mprint\u001b[0m\u001b[1;33m(\u001b[0m\u001b[1;34m\"this is my code\"\u001b[0m\u001b[1;33m)\u001b[0m\u001b[1;33m\u001b[0m\u001b[1;33m\u001b[0m\u001b[0m\n",
      "\u001b[1;31mUnsupportedOperation\u001b[0m: not writable"
     ]
    }
   ],
   "source": [
    "f = open(\"test.txt\",'r')\n",
    "f.write(\"jfjdkkdaas\")\n",
    "print(\"this is my code\")"
   ]
  },
  {
   "cell_type": "code",
   "execution_count": 7,
   "id": "526bc407",
   "metadata": {},
   "outputs": [
    {
     "name": "stdout",
     "output_type": "stream",
     "text": [
      "there was a error\n",
      "this is my code\n"
     ]
    }
   ],
   "source": [
    "try:\n",
    "    f = open('test.txt','r')\n",
    "    f.write(\"fsds\") #open file into read mode and did write operation.Therefore, invalid program\n",
    "except:\n",
    "    print(\"there was a error\")\n",
    "print(\"this is my code\")"
   ]
  },
  {
   "cell_type": "markdown",
   "id": "7e4982b7",
   "metadata": {},
   "source": [
    "#A compile-time error generally refers to the errors that correspond to the semantics or syntax. A runtime error refers to\n",
    "the error that we encounter during the code execution during runtime. "
   ]
  },
  {
   "cell_type": "code",
   "execution_count": 9,
   "id": "c461282c",
   "metadata": {},
   "outputs": [
    {
     "ename": "SyntaxError",
     "evalue": "invalid syntax (Temp/ipykernel_7604/1697059642.py, line 3)",
     "output_type": "error",
     "traceback": [
      "\u001b[1;36m  File \u001b[1;32m\"C:\\Users\\ROKAYA~1\\AppData\\Local\\Temp/ipykernel_7604/1697059642.py\"\u001b[1;36m, line \u001b[1;32m3\u001b[0m\n\u001b[1;33m    for i range(len(l)):\u001b[0m\n\u001b[1;37m          ^\u001b[0m\n\u001b[1;31mSyntaxError\u001b[0m\u001b[1;31m:\u001b[0m invalid syntax\n"
     ]
    }
   ],
   "source": [
    "#exception handling only handles run time error not compile time error\n",
    "l = [1,2,3,4,5]\n",
    "try:\n",
    "    for i range(len(l)):\n",
    "        print(l)\n",
    "except:\n",
    "    print(\"this is my code\")\n",
    "    "
   ]
  },
  {
   "cell_type": "code",
   "execution_count": 15,
   "id": "65e2e15e",
   "metadata": {},
   "outputs": [
    {
     "name": "stdout",
     "output_type": "stream",
     "text": [
      "1\n",
      "2\n",
      "3\n",
      "4\n",
      "5\n"
     ]
    },
    {
     "ename": "IndexError",
     "evalue": "list index out of range",
     "output_type": "error",
     "traceback": [
      "\u001b[1;31m---------------------------------------------------------------------------\u001b[0m",
      "\u001b[1;31mIndexError\u001b[0m                                Traceback (most recent call last)",
      "\u001b[1;32mC:\\Users\\ROKAYA~1\\AppData\\Local\\Temp/ipykernel_7604/2925511926.py\u001b[0m in \u001b[0;36m<module>\u001b[1;34m\u001b[0m\n\u001b[0;32m      1\u001b[0m \u001b[0ml\u001b[0m\u001b[1;33m=\u001b[0m\u001b[1;33m[\u001b[0m\u001b[1;36m1\u001b[0m\u001b[1;33m,\u001b[0m\u001b[1;36m2\u001b[0m\u001b[1;33m,\u001b[0m\u001b[1;36m3\u001b[0m\u001b[1;33m,\u001b[0m\u001b[1;36m4\u001b[0m\u001b[1;33m,\u001b[0m\u001b[1;36m5\u001b[0m\u001b[1;33m]\u001b[0m\u001b[1;33m\u001b[0m\u001b[1;33m\u001b[0m\u001b[0m\n\u001b[0;32m      2\u001b[0m \u001b[1;32mfor\u001b[0m \u001b[0mi\u001b[0m \u001b[1;32min\u001b[0m \u001b[0mrange\u001b[0m\u001b[1;33m(\u001b[0m\u001b[0mlen\u001b[0m\u001b[1;33m(\u001b[0m\u001b[0ml\u001b[0m\u001b[1;33m)\u001b[0m\u001b[1;33m+\u001b[0m\u001b[1;36m1\u001b[0m\u001b[1;33m)\u001b[0m\u001b[1;33m:\u001b[0m\u001b[1;33m\u001b[0m\u001b[1;33m\u001b[0m\u001b[0m\n\u001b[1;32m----> 3\u001b[1;33m     \u001b[0mprint\u001b[0m\u001b[1;33m(\u001b[0m\u001b[0ml\u001b[0m\u001b[1;33m[\u001b[0m\u001b[0mi\u001b[0m\u001b[1;33m]\u001b[0m\u001b[1;33m)\u001b[0m\u001b[1;33m\u001b[0m\u001b[1;33m\u001b[0m\u001b[0m\n\u001b[0m",
      "\u001b[1;31mIndexError\u001b[0m: list index out of range"
     ]
    }
   ],
   "source": [
    "l=[1,2,3,4,5]\n",
    "for i in range(len(l)+1):\n",
    "    print(l[i])"
   ]
  },
  {
   "cell_type": "code",
   "execution_count": 14,
   "id": "5323bd2d",
   "metadata": {},
   "outputs": [
    {
     "name": "stdout",
     "output_type": "stream",
     "text": [
      "1\n",
      "2\n",
      "3\n",
      "4\n",
      "5\n",
      "this is my code\n"
     ]
    }
   ],
   "source": [
    "l=[1,2,3,4,5]\n",
    "try:\n",
    "    for i in range(len(l)+1):\n",
    "        print(l[i])\n",
    "except:\n",
    "    print(\"this is my code\")"
   ]
  },
  {
   "cell_type": "code",
   "execution_count": 17,
   "id": "bc4c60dc",
   "metadata": {},
   "outputs": [
    {
     "name": "stdout",
     "output_type": "stream",
     "text": [
      "1\n",
      "2\n",
      "3\n",
      "4\n",
      "5\n",
      "list index out of range\n"
     ]
    }
   ],
   "source": [
    "#if we use try and except,then we dont know what type of error that we made in pgm,So below is how we get to know\n",
    "l=[1,2,3,4,5]\n",
    "try:\n",
    "    for i in range(len(l)+1):\n",
    "        print(l[i])\n",
    "except Exception as e: #Exception is a super class\n",
    "    print(e) #printed error"
   ]
  },
  {
   "cell_type": "code",
   "execution_count": 18,
   "id": "fb0489b8",
   "metadata": {},
   "outputs": [
    {
     "name": "stdout",
     "output_type": "stream",
     "text": [
      "vghjh\n",
      "invalid literal for int() with base 10: 'vghjh'\n"
     ]
    }
   ],
   "source": [
    "try:\n",
    "    a = int(input())\n",
    "    b = int(input())\n",
    "except Exception as e:\n",
    "    print(e)"
   ]
  },
  {
   "cell_type": "code",
   "execution_count": 23,
   "id": "026a09d6",
   "metadata": {},
   "outputs": [
    {
     "name": "stdout",
     "output_type": "stream",
     "text": [
      "not writable\n",
      "1\n",
      "2\n",
      "3\n",
      "4\n",
      "5\n"
     ]
    }
   ],
   "source": [
    "try:\n",
    "    f= open(\"test.txt\",'r')\n",
    "    f.write(\"this is the code done for exception handling\")\n",
    "    print(\"this is my code after write operation\")\n",
    "except Exception as e:\n",
    "    print(e)\n",
    "try:\n",
    "    l= [1,2,3,4,5]\n",
    "    for i in l:\n",
    "        print(i)\n",
    "except:\n",
    "    print(\"this is the handle for for loop\")"
   ]
  },
  {
   "cell_type": "code",
   "execution_count": 27,
   "id": "eafc853f",
   "metadata": {},
   "outputs": [
    {
     "name": "stdout",
     "output_type": "stream",
     "text": [
      "jksa\n",
      "invalid literal for int() with base 10: 'jksa'\n"
     ]
    }
   ],
   "source": [
    "try:\n",
    "    d={\"key1\": \"niraj\", \"key2\": [1, 2, 3, 4, 5],\"key3\": [4,5,6,7,8]}\n",
    "    d[\"key4\"] = int(input())\n",
    "except Exception as e:\n",
    "    print(e)"
   ]
  },
  {
   "cell_type": "code",
   "execution_count": 28,
   "id": "55769ee7",
   "metadata": {},
   "outputs": [
    {
     "name": "stdout",
     "output_type": "stream",
     "text": [
      "mks\n",
      "invalid literal for int() with base 10: 'mks'\n"
     ]
    }
   ],
   "source": [
    "try:\n",
    "    d={\"key1\": \"niraj\", \"key2\": [1, 2, 3, 4, 5],\"key3\": [4,5,6,7,8]}\n",
    "    d[\"key4\"] = int(input())\n",
    "except ValueError as e: #handles only value error but not other errors\n",
    "    print(e)"
   ]
  },
  {
   "cell_type": "code",
   "execution_count": 29,
   "id": "7cad803c",
   "metadata": {},
   "outputs": [
    {
     "name": "stdout",
     "output_type": "stream",
     "text": [
      "ldksq\n",
      "invalid literal for int() with base 10: 'ldksq'\n"
     ]
    }
   ],
   "source": [
    "try:\n",
    "    d={\"key1\": \"niraj\", \"key2\": [1, 2, 3, 4, 5],\"key3\": [4,5,6,7,8]}\n",
    "    d[\"key4\"] = int(input())\n",
    "    f = open(\"exception.txt\",'r')\n",
    "except ValueError as e: #handles only value error but not other errors\n",
    "    print(e)\n",
    "#We get the below ouput because there was error in value.SO, the code directly passes to the exception block"
   ]
  },
  {
   "cell_type": "code",
   "execution_count": 30,
   "id": "d69b7166",
   "metadata": {},
   "outputs": [
    {
     "name": "stdout",
     "output_type": "stream",
     "text": [
      "123\n"
     ]
    },
    {
     "ename": "FileNotFoundError",
     "evalue": "[Errno 2] No such file or directory: 'exception.txt'",
     "output_type": "error",
     "traceback": [
      "\u001b[1;31m---------------------------------------------------------------------------\u001b[0m",
      "\u001b[1;31mFileNotFoundError\u001b[0m                         Traceback (most recent call last)",
      "\u001b[1;32mC:\\Users\\ROKAYA~1\\AppData\\Local\\Temp/ipykernel_7604/1801448418.py\u001b[0m in \u001b[0;36m<module>\u001b[1;34m\u001b[0m\n\u001b[0;32m      2\u001b[0m     \u001b[0md\u001b[0m\u001b[1;33m=\u001b[0m\u001b[1;33m{\u001b[0m\u001b[1;34m\"key1\"\u001b[0m\u001b[1;33m:\u001b[0m \u001b[1;34m\"niraj\"\u001b[0m\u001b[1;33m,\u001b[0m \u001b[1;34m\"key2\"\u001b[0m\u001b[1;33m:\u001b[0m \u001b[1;33m[\u001b[0m\u001b[1;36m1\u001b[0m\u001b[1;33m,\u001b[0m \u001b[1;36m2\u001b[0m\u001b[1;33m,\u001b[0m \u001b[1;36m3\u001b[0m\u001b[1;33m,\u001b[0m \u001b[1;36m4\u001b[0m\u001b[1;33m,\u001b[0m \u001b[1;36m5\u001b[0m\u001b[1;33m]\u001b[0m\u001b[1;33m,\u001b[0m\u001b[1;34m\"key3\"\u001b[0m\u001b[1;33m:\u001b[0m \u001b[1;33m[\u001b[0m\u001b[1;36m4\u001b[0m\u001b[1;33m,\u001b[0m\u001b[1;36m5\u001b[0m\u001b[1;33m,\u001b[0m\u001b[1;36m6\u001b[0m\u001b[1;33m,\u001b[0m\u001b[1;36m7\u001b[0m\u001b[1;33m,\u001b[0m\u001b[1;36m8\u001b[0m\u001b[1;33m]\u001b[0m\u001b[1;33m}\u001b[0m\u001b[1;33m\u001b[0m\u001b[1;33m\u001b[0m\u001b[0m\n\u001b[0;32m      3\u001b[0m     \u001b[0md\u001b[0m\u001b[1;33m[\u001b[0m\u001b[1;34m\"key4\"\u001b[0m\u001b[1;33m]\u001b[0m \u001b[1;33m=\u001b[0m \u001b[0mint\u001b[0m\u001b[1;33m(\u001b[0m\u001b[0minput\u001b[0m\u001b[1;33m(\u001b[0m\u001b[1;33m)\u001b[0m\u001b[1;33m)\u001b[0m\u001b[1;33m\u001b[0m\u001b[1;33m\u001b[0m\u001b[0m\n\u001b[1;32m----> 4\u001b[1;33m     \u001b[0mf\u001b[0m \u001b[1;33m=\u001b[0m \u001b[0mopen\u001b[0m\u001b[1;33m(\u001b[0m\u001b[1;34m\"exception.txt\"\u001b[0m\u001b[1;33m,\u001b[0m\u001b[1;34m'r'\u001b[0m\u001b[1;33m)\u001b[0m\u001b[1;33m\u001b[0m\u001b[1;33m\u001b[0m\u001b[0m\n\u001b[0m\u001b[0;32m      5\u001b[0m \u001b[1;32mexcept\u001b[0m \u001b[0mValueError\u001b[0m \u001b[1;32mas\u001b[0m \u001b[0me\u001b[0m\u001b[1;33m:\u001b[0m \u001b[1;31m#handles only value error but not other errors\u001b[0m\u001b[1;33m\u001b[0m\u001b[1;33m\u001b[0m\u001b[0m\n\u001b[0;32m      6\u001b[0m     \u001b[0mprint\u001b[0m\u001b[1;33m(\u001b[0m\u001b[0me\u001b[0m\u001b[1;33m)\u001b[0m\u001b[1;33m\u001b[0m\u001b[1;33m\u001b[0m\u001b[0m\n",
      "\u001b[1;31mFileNotFoundError\u001b[0m: [Errno 2] No such file or directory: 'exception.txt'"
     ]
    }
   ],
   "source": [
    "try:\n",
    "    d={\"key1\": \"niraj\", \"key2\": [1, 2, 3, 4, 5],\"key3\": [4,5,6,7,8]}\n",
    "    d[\"key4\"] = int(input())\n",
    "    f = open(\"exception.txt\",'r')\n",
    "except ValueError as e: \n",
    "    print(e)\n",
    "#As we have entered correct value, the code excutes the line number three and returns error"
   ]
  },
  {
   "cell_type": "code",
   "execution_count": 33,
   "id": "af3a11f6",
   "metadata": {},
   "outputs": [
    {
     "name": "stdout",
     "output_type": "stream",
     "text": [
      "1234\n",
      "[Errno 2] No such file or directory: 'exception.txt'\n"
     ]
    }
   ],
   "source": [
    "try:\n",
    "    d={\"key1\": \"niraj\", \"key2\": [1, 2, 3, 4, 5],\"key3\": [4,5,6,7,8]}\n",
    "    d[\"key4\"] = int(input())\n",
    "    f = open(\"exception.txt\",'r')\n",
    "except Exception as e: \n",
    "    print(e)\n",
    "#Get no error becasuse of exception superclass."
   ]
  },
  {
   "cell_type": "code",
   "execution_count": 36,
   "id": "043274c3",
   "metadata": {},
   "outputs": [
    {
     "name": "stdout",
     "output_type": "stream",
     "text": [
      "this will execute once my try block will be executed successfully\n"
     ]
    }
   ],
   "source": [
    "try:\n",
    "    f = open(\"test9.txt\",'w')\n",
    "    f.write(\"try code\")\n",
    "except Exception as e:\n",
    "    print(\"this will handle an error\",e)\n",
    "else:\n",
    "    print(\"this will execute once my try block will be executed successfully\")\n",
    "    f.close()\n",
    "#else will be executed only if try block is executed successfully"
   ]
  },
  {
   "cell_type": "code",
   "execution_count": 37,
   "id": "78f85330",
   "metadata": {},
   "outputs": [
    {
     "name": "stdout",
     "output_type": "stream",
     "text": [
      "this will handle an error [Errno 2] No such file or directory: 'test8.txt'\n"
     ]
    }
   ],
   "source": [
    "try:\n",
    "    f = open(\"test8.txt\",'r')\n",
    "    f.write(\"try code\")\n",
    "except Exception as e:\n",
    "    print(\"this will handle an error\",e)\n",
    "else:\n",
    "    print(\"this will execute once my try block will be executed successfully\")\n",
    "    f.close()"
   ]
  },
  {
   "cell_type": "code",
   "execution_count": 38,
   "id": "b78e69f8",
   "metadata": {},
   "outputs": [
    {
     "name": "stdout",
     "output_type": "stream",
     "text": [
      "[Errno 2] No such file or directory: 'test45'\n",
      "Always executes\n"
     ]
    }
   ],
   "source": [
    "try:\n",
    "    f = open(\"test45\",'r')\n",
    "except Exception as e:\n",
    "    print(e)\n",
    "else:\n",
    "    print(\"only if try gets executed\")\n",
    "finally:\n",
    "    print(\"Always executes\")"
   ]
  },
  {
   "cell_type": "code",
   "execution_count": 39,
   "id": "195e53bc",
   "metadata": {},
   "outputs": [
    {
     "name": "stdout",
     "output_type": "stream",
     "text": [
      "only if try gets executed\n",
      "Always executes\n"
     ]
    }
   ],
   "source": [
    "try:\n",
    "    f = open(\"test45\",'w')\n",
    "except Exception as e:\n",
    "    print(e)\n",
    "else:\n",
    "    print(\"only if try gets executed\")\n",
    "finally:\n",
    "    print(\"Always executes\")"
   ]
  },
  {
   "cell_type": "code",
   "execution_count": 40,
   "id": "53dfade5",
   "metadata": {},
   "outputs": [
    {
     "name": "stdout",
     "output_type": "stream",
     "text": [
      "only if try gets executed\n",
      "Always executes\n",
      "handles above\n",
      "execution comes here for sure\n"
     ]
    }
   ],
   "source": [
    "try:\n",
    "    f = open(\"test45\",'w')\n",
    "except Exception as e:\n",
    "    print(e)\n",
    "else:\n",
    "    print(\"only if try gets executed\")\n",
    "finally:\n",
    "    print(\"Always executes\")\n",
    "    try:\n",
    "        f = open(\"hh\",'r')\n",
    "    except:\n",
    "        print(\"handles above\")\n",
    "    finally:\n",
    "        print(\"execution comes here for sure\")"
   ]
  },
  {
   "cell_type": "code",
   "execution_count": 43,
   "id": "589ce13b",
   "metadata": {},
   "outputs": [],
   "source": [
    "def askint():\n",
    "    a = int(input())\n",
    "    return a"
   ]
  },
  {
   "cell_type": "code",
   "execution_count": 44,
   "id": "f7ff2ae0",
   "metadata": {},
   "outputs": [
    {
     "name": "stdout",
     "output_type": "stream",
     "text": [
      "5\n"
     ]
    },
    {
     "data": {
      "text/plain": [
       "5"
      ]
     },
     "execution_count": 44,
     "metadata": {},
     "output_type": "execute_result"
    }
   ],
   "source": [
    "askint()"
   ]
  },
  {
   "cell_type": "code",
   "execution_count": 45,
   "id": "07413a8f",
   "metadata": {},
   "outputs": [
    {
     "name": "stdout",
     "output_type": "stream",
     "text": [
      "hghjg\n"
     ]
    },
    {
     "ename": "ValueError",
     "evalue": "invalid literal for int() with base 10: 'hghjg'",
     "output_type": "error",
     "traceback": [
      "\u001b[1;31m---------------------------------------------------------------------------\u001b[0m",
      "\u001b[1;31mValueError\u001b[0m                                Traceback (most recent call last)",
      "\u001b[1;32mC:\\Users\\ROKAYA~1\\AppData\\Local\\Temp/ipykernel_7604/577270890.py\u001b[0m in \u001b[0;36m<module>\u001b[1;34m\u001b[0m\n\u001b[1;32m----> 1\u001b[1;33m \u001b[0maskint\u001b[0m\u001b[1;33m(\u001b[0m\u001b[1;33m)\u001b[0m\u001b[1;33m\u001b[0m\u001b[1;33m\u001b[0m\u001b[0m\n\u001b[0m",
      "\u001b[1;32mC:\\Users\\ROKAYA~1\\AppData\\Local\\Temp/ipykernel_7604/3304994160.py\u001b[0m in \u001b[0;36maskint\u001b[1;34m()\u001b[0m\n\u001b[0;32m      1\u001b[0m \u001b[1;32mdef\u001b[0m \u001b[0maskint\u001b[0m\u001b[1;33m(\u001b[0m\u001b[1;33m)\u001b[0m\u001b[1;33m:\u001b[0m\u001b[1;33m\u001b[0m\u001b[1;33m\u001b[0m\u001b[0m\n\u001b[1;32m----> 2\u001b[1;33m     \u001b[0ma\u001b[0m \u001b[1;33m=\u001b[0m \u001b[0mint\u001b[0m\u001b[1;33m(\u001b[0m\u001b[0minput\u001b[0m\u001b[1;33m(\u001b[0m\u001b[1;33m)\u001b[0m\u001b[1;33m)\u001b[0m\u001b[1;33m\u001b[0m\u001b[1;33m\u001b[0m\u001b[0m\n\u001b[0m\u001b[0;32m      3\u001b[0m     \u001b[1;32mreturn\u001b[0m \u001b[0ma\u001b[0m\u001b[1;33m\u001b[0m\u001b[1;33m\u001b[0m\u001b[0m\n",
      "\u001b[1;31mValueError\u001b[0m: invalid literal for int() with base 10: 'hghjg'"
     ]
    }
   ],
   "source": [
    "askint()"
   ]
  },
  {
   "cell_type": "code",
   "execution_count": 50,
   "id": "5ee8b4d9",
   "metadata": {},
   "outputs": [],
   "source": [
    "def askint():\n",
    "    try:\n",
    "        a = int(input())\n",
    "        return a\n",
    "    except:\n",
    "        print(\"error free code\")"
   ]
  },
  {
   "cell_type": "code",
   "execution_count": 51,
   "id": "299024a5",
   "metadata": {},
   "outputs": [
    {
     "name": "stdout",
     "output_type": "stream",
     "text": [
      "nk\n",
      "error free code\n"
     ]
    }
   ],
   "source": [
    "askint()"
   ]
  },
  {
   "cell_type": "markdown",
   "id": "737d9836",
   "metadata": {},
   "source": [
    "Code so that the input value is always integer"
   ]
  },
  {
   "cell_type": "code",
   "execution_count": 2,
   "id": "915d415f",
   "metadata": {},
   "outputs": [
    {
     "name": "stdout",
     "output_type": "stream",
     "text": [
      "enter the value of afdw\n",
      "enter integer value\n",
      "enter the value of a2\n"
     ]
    },
    {
     "data": {
      "text/plain": [
       "2"
      ]
     },
     "execution_count": 2,
     "metadata": {},
     "output_type": "execute_result"
    }
   ],
   "source": [
    "#Way1\n",
    "def alwaysint():\n",
    "    flag = True\n",
    "    while flag:\n",
    "        try:\n",
    "            a = int(input(\"a=\"))\n",
    "            if type(a) == int:\n",
    "                return a\n",
    "                flag = False    \n",
    "        except:\n",
    "            print(\"enter integer value\")\n",
    "alwaysint()"
   ]
  },
  {
   "cell_type": "code",
   "execution_count": 4,
   "id": "eb7a43b0",
   "metadata": {},
   "outputs": [
    {
     "name": "stdout",
     "output_type": "stream",
     "text": [
      "enter the value of anfdwk\n",
      "invalid literal for int() with base 10: 'nfdwk'\n",
      "enter the value of a3\n"
     ]
    },
    {
     "data": {
      "text/plain": [
       "3"
      ]
     },
     "execution_count": 4,
     "metadata": {},
     "output_type": "execute_result"
    }
   ],
   "source": [
    "#way2\n",
    "def integer():\n",
    "    #function to take integer value only\n",
    "    while True:\n",
    "        try:\n",
    "            a = int(input(\"enter the value of a\"))\n",
    "            if type(a) == int:\n",
    "                return a\n",
    "            break #breaks loop if we enter integer\n",
    "        except Exception as e:\n",
    "            print(e)\n",
    "            continue\n",
    "integer()"
   ]
  },
  {
   "cell_type": "markdown",
   "id": "7f5fee24",
   "metadata": {},
   "source": [
    "User Defined Exception Case"
   ]
  },
  {
   "cell_type": "code",
   "execution_count": 9,
   "id": "d8231e01",
   "metadata": {},
   "outputs": [],
   "source": [
    "def test(a):\n",
    "    if a < 0:\n",
    "        raise Exception(\"you have entered a negative value\",a)\n",
    "    return a"
   ]
  },
  {
   "cell_type": "code",
   "execution_count": 10,
   "id": "9413f77a",
   "metadata": {},
   "outputs": [
    {
     "ename": "Exception",
     "evalue": "('you have entered a negative value', -4)",
     "output_type": "error",
     "traceback": [
      "\u001b[1;31m---------------------------------------------------------------------------\u001b[0m",
      "\u001b[1;31mException\u001b[0m                                 Traceback (most recent call last)",
      "\u001b[1;32mC:\\Users\\ROKAYA~1\\AppData\\Local\\Temp/ipykernel_5252/2430745927.py\u001b[0m in \u001b[0;36m<module>\u001b[1;34m\u001b[0m\n\u001b[1;32m----> 1\u001b[1;33m \u001b[0mtest\u001b[0m\u001b[1;33m(\u001b[0m\u001b[1;33m-\u001b[0m\u001b[1;36m4\u001b[0m\u001b[1;33m)\u001b[0m\u001b[1;33m\u001b[0m\u001b[1;33m\u001b[0m\u001b[0m\n\u001b[0m",
      "\u001b[1;32mC:\\Users\\ROKAYA~1\\AppData\\Local\\Temp/ipykernel_5252/3014162422.py\u001b[0m in \u001b[0;36mtest\u001b[1;34m(a)\u001b[0m\n\u001b[0;32m      1\u001b[0m \u001b[1;32mdef\u001b[0m \u001b[0mtest\u001b[0m\u001b[1;33m(\u001b[0m\u001b[0ma\u001b[0m\u001b[1;33m)\u001b[0m\u001b[1;33m:\u001b[0m\u001b[1;33m\u001b[0m\u001b[1;33m\u001b[0m\u001b[0m\n\u001b[0;32m      2\u001b[0m     \u001b[1;32mif\u001b[0m \u001b[0ma\u001b[0m \u001b[1;33m<\u001b[0m \u001b[1;36m0\u001b[0m\u001b[1;33m:\u001b[0m\u001b[1;33m\u001b[0m\u001b[1;33m\u001b[0m\u001b[0m\n\u001b[1;32m----> 3\u001b[1;33m         \u001b[1;32mraise\u001b[0m \u001b[0mException\u001b[0m\u001b[1;33m(\u001b[0m\u001b[1;34m\"you have entered a negative value\"\u001b[0m\u001b[1;33m,\u001b[0m\u001b[0ma\u001b[0m\u001b[1;33m)\u001b[0m\u001b[1;33m\u001b[0m\u001b[1;33m\u001b[0m\u001b[0m\n\u001b[0m\u001b[0;32m      4\u001b[0m     \u001b[1;32mreturn\u001b[0m \u001b[0ma\u001b[0m\u001b[1;33m\u001b[0m\u001b[1;33m\u001b[0m\u001b[0m\n",
      "\u001b[1;31mException\u001b[0m: ('you have entered a negative value', -4)"
     ]
    }
   ],
   "source": [
    "test(-4)"
   ]
  },
  {
   "cell_type": "code",
   "execution_count": 16,
   "id": "4aec27d6",
   "metadata": {},
   "outputs": [
    {
     "ename": "ZeroDivisionError",
     "evalue": "('you have entered a restricted string', 'niraj')",
     "output_type": "error",
     "traceback": [
      "\u001b[1;31m---------------------------------------------------------------------------\u001b[0m",
      "\u001b[1;31mZeroDivisionError\u001b[0m                         Traceback (most recent call last)",
      "\u001b[1;32mC:\\Users\\ROKAYA~1\\AppData\\Local\\Temp/ipykernel_5252/610722092.py\u001b[0m in \u001b[0;36m<module>\u001b[1;34m\u001b[0m\n\u001b[0;32m      3\u001b[0m         \u001b[1;32mraise\u001b[0m \u001b[0mZeroDivisionError\u001b[0m\u001b[1;33m(\u001b[0m\u001b[1;34m\"you have entered a restricted string\"\u001b[0m\u001b[1;33m,\u001b[0m\u001b[0ma\u001b[0m\u001b[1;33m)\u001b[0m\u001b[1;33m\u001b[0m\u001b[1;33m\u001b[0m\u001b[0m\n\u001b[0;32m      4\u001b[0m     \u001b[1;32mreturn\u001b[0m \u001b[0ma\u001b[0m\u001b[1;33m\u001b[0m\u001b[1;33m\u001b[0m\u001b[0m\n\u001b[1;32m----> 5\u001b[1;33m \u001b[0mtest\u001b[0m\u001b[1;33m(\u001b[0m\u001b[1;34m'niraj'\u001b[0m\u001b[1;33m)\u001b[0m\u001b[1;33m\u001b[0m\u001b[1;33m\u001b[0m\u001b[0m\n\u001b[0m",
      "\u001b[1;32mC:\\Users\\ROKAYA~1\\AppData\\Local\\Temp/ipykernel_5252/610722092.py\u001b[0m in \u001b[0;36mtest\u001b[1;34m(a)\u001b[0m\n\u001b[0;32m      1\u001b[0m \u001b[1;32mdef\u001b[0m \u001b[0mtest\u001b[0m\u001b[1;33m(\u001b[0m\u001b[0ma\u001b[0m\u001b[1;33m)\u001b[0m\u001b[1;33m:\u001b[0m\u001b[1;33m\u001b[0m\u001b[1;33m\u001b[0m\u001b[0m\n\u001b[0;32m      2\u001b[0m     \u001b[1;32mif\u001b[0m \u001b[0ma\u001b[0m \u001b[1;33m==\u001b[0m \u001b[1;34m'niraj'\u001b[0m\u001b[1;33m:\u001b[0m\u001b[1;33m\u001b[0m\u001b[1;33m\u001b[0m\u001b[0m\n\u001b[1;32m----> 3\u001b[1;33m         \u001b[1;32mraise\u001b[0m \u001b[0mZeroDivisionError\u001b[0m\u001b[1;33m(\u001b[0m\u001b[1;34m\"you have entered a restricted string\"\u001b[0m\u001b[1;33m,\u001b[0m\u001b[0ma\u001b[0m\u001b[1;33m)\u001b[0m\u001b[1;33m\u001b[0m\u001b[1;33m\u001b[0m\u001b[0m\n\u001b[0m\u001b[0;32m      4\u001b[0m     \u001b[1;32mreturn\u001b[0m \u001b[0ma\u001b[0m\u001b[1;33m\u001b[0m\u001b[1;33m\u001b[0m\u001b[0m\n\u001b[0;32m      5\u001b[0m \u001b[0mtest\u001b[0m\u001b[1;33m(\u001b[0m\u001b[1;34m'niraj'\u001b[0m\u001b[1;33m)\u001b[0m\u001b[1;33m\u001b[0m\u001b[1;33m\u001b[0m\u001b[0m\n",
      "\u001b[1;31mZeroDivisionError\u001b[0m: ('you have entered a restricted string', 'niraj')"
     ]
    }
   ],
   "source": [
    "def test(a):\n",
    "    if a == 'niraj':\n",
    "        raise ZeroDivisionError(\"you have entered a restricted string\",a)\n",
    "    return a\n",
    "test('niraj')\n",
    "#We can overide any type of error.We have string error but we have given zerodivision error which is possbile."
   ]
  },
  {
   "cell_type": "code",
   "execution_count": 17,
   "id": "2c9d8007",
   "metadata": {},
   "outputs": [
    {
     "name": "stdout",
     "output_type": "stream",
     "text": [
      "niraj\n",
      "please dont enter your name\n"
     ]
    }
   ],
   "source": [
    "try:\n",
    "    a = input()\n",
    "    test(a)\n",
    "except:\n",
    "    print(\"please dont enter your name\")"
   ]
  }
 ],
 "metadata": {
  "kernelspec": {
   "display_name": "Python 3 (ipykernel)",
   "language": "python",
   "name": "python3"
  },
  "language_info": {
   "codemirror_mode": {
    "name": "ipython",
    "version": 3
   },
   "file_extension": ".py",
   "mimetype": "text/x-python",
   "name": "python",
   "nbconvert_exporter": "python",
   "pygments_lexer": "ipython3",
   "version": "3.9.7"
  }
 },
 "nbformat": 4,
 "nbformat_minor": 5
}
