{
 "cells": [
  {
   "cell_type": "code",
   "execution_count": 13,
   "id": "69b0c474",
   "metadata": {},
   "outputs": [],
   "source": [
    "import logging"
   ]
  },
  {
   "cell_type": "code",
   "execution_count": 14,
   "id": "8a1e483c",
   "metadata": {},
   "outputs": [],
   "source": [
    "logging.basicConfig(filename = 'test.log')"
   ]
  },
  {
   "cell_type": "code",
   "execution_count": 15,
   "id": "58c6fcd6",
   "metadata": {},
   "outputs": [
    {
     "data": {
      "text/plain": [
       "'C:\\\\Users\\\\Rokaya Neeraj\\\\Full Stack Data Science'"
      ]
     },
     "execution_count": 15,
     "metadata": {},
     "output_type": "execute_result"
    }
   ],
   "source": [
    "pwd()"
   ]
  },
  {
   "cell_type": "markdown",
   "id": "44a21630",
   "metadata": {},
   "source": [
    "Level of Log:\n",
    "    DEBUG\n",
    "    INFO\n",
    "    WARNING\n",
    "    ERROR\n",
    "    CRITICAl"
   ]
  },
  {
   "cell_type": "code",
   "execution_count": 16,
   "id": "f7707232",
   "metadata": {},
   "outputs": [],
   "source": [
    "logging.info(\"this is my info log\")\n",
    "logging.warning(\"this is my warning lol\")\n",
    "logging.error(\"this is my error log\")"
   ]
  },
  {
   "cell_type": "code",
   "execution_count": 19,
   "id": "6482a869",
   "metadata": {},
   "outputs": [],
   "source": [
    "logging.shutdown()"
   ]
  },
  {
   "cell_type": "code",
   "execution_count": 1,
   "id": "53e5f606",
   "metadata": {},
   "outputs": [],
   "source": [
    "import logging"
   ]
  },
  {
   "cell_type": "code",
   "execution_count": 4,
   "id": "0050de3e",
   "metadata": {},
   "outputs": [],
   "source": [
    "logging.basicConfig(filename = 'testtt.log', level = logging.INFO) #logging info will be displayed in file only after\n",
    "                                                                    #we mention the level\n"
   ]
  },
  {
   "cell_type": "code",
   "execution_count": 5,
   "id": "d21049ee",
   "metadata": {},
   "outputs": [],
   "source": [
    "logging.info(\"this is my info log\")\n",
    "logging.warning(\"this is my warning lol\")\n",
    "logging.error(\"this is my error log\")"
   ]
  },
  {
   "cell_type": "code",
   "execution_count": 7,
   "id": "15c273ab",
   "metadata": {},
   "outputs": [],
   "source": [
    "logging.shutdown()"
   ]
  },
  {
   "cell_type": "code",
   "execution_count": 1,
   "id": "5b84a921",
   "metadata": {},
   "outputs": [],
   "source": [
    "import logging"
   ]
  },
  {
   "cell_type": "code",
   "execution_count": 2,
   "id": "71d0d960",
   "metadata": {},
   "outputs": [],
   "source": [
    "logging.basicConfig(filename = 'test2.log',level = logging.DEBUG,format = '%(asctime)s %(levelname)s %(message)s') #displays date-time"
   ]
  },
  {
   "cell_type": "code",
   "execution_count": 3,
   "id": "4ab0df45",
   "metadata": {},
   "outputs": [],
   "source": [
    "logging.info(\"this is my info log\")\n",
    "logging.warning(\"this is my warning lol\")\n",
    "logging.error(\"this is my error log\")\n",
    "logging.debug(\"this is my debug log\")"
   ]
  },
  {
   "cell_type": "code",
   "execution_count": 3,
   "id": "8bb4bfeb",
   "metadata": {},
   "outputs": [],
   "source": [
    "import logging\n",
    "logging.basicConfig(filename = 'test2.log',level = logging.ERROR,format = '%(asctime)s %(levelname)s %(message)s') #displays date-time"
   ]
  },
  {
   "cell_type": "code",
   "execution_count": 4,
   "id": "1079e2a6",
   "metadata": {},
   "outputs": [],
   "source": [
    "logging.info(\"this is my info log\")\n",
    "logging.warning(\"this is my warning lol\")\n",
    "logging.error(\"this is my error log\")\n",
    "logging.debug(\"this is my debug log\")"
   ]
  },
  {
   "cell_type": "markdown",
   "id": "849b0dde",
   "metadata": {},
   "source": [
    "If we set logging as error, then it will always show error only on the created file because error is a top level priority.\n",
    "So, warning,info and debug wont be displayed.If we set logging as warning then warning and error will be created.It will\n",
    "always go the higher priorities and not fall down.The level of priority is:\n",
    "Priority Level\n",
    "    Error\n",
    "    Warning\n",
    "    Info\n",
    "    Debug"
   ]
  },
  {
   "cell_type": "code",
   "execution_count": 6,
   "id": "20827dd0",
   "metadata": {},
   "outputs": [],
   "source": [
    "logging.shutdown()"
   ]
  },
  {
   "cell_type": "code",
   "execution_count": 1,
   "id": "65b35b9e",
   "metadata": {},
   "outputs": [],
   "source": [
    "import logging\n",
    "logging.basicConfig(filename = 'test3.log',level = logging.DEBUG,format = '%(asctime)s %(levelname)s %(message)s')"
   ]
  },
  {
   "cell_type": "code",
   "execution_count": 2,
   "id": "22dd681f",
   "metadata": {},
   "outputs": [],
   "source": [
    "def divbyzero(a,b):\n",
    "    logging.info(\"this is the start of my code and I am trying to enter %s and %s\",a,b)\n",
    "    try:\n",
    "        div = a/b\n",
    "        logging.info(\"executed successfully\")\n",
    "    except Exception as e:\n",
    "        logging.error(\"error has happened\" + str(e))\n",
    "        logging.exception(\"exception occured\")"
   ]
  },
  {
   "cell_type": "code",
   "execution_count": 3,
   "id": "f2df2b58",
   "metadata": {},
   "outputs": [],
   "source": [
    "divbyzero(4,5)"
   ]
  },
  {
   "cell_type": "code",
   "execution_count": 4,
   "id": "a883b1e9",
   "metadata": {},
   "outputs": [],
   "source": [
    "divbyzero(4,0) #It will be error so the error will be displayed though we set level debug.Because of level of debugging"
   ]
  },
  {
   "cell_type": "code",
   "execution_count": null,
   "id": "0f7b43ad",
   "metadata": {},
   "outputs": [],
   "source": []
  }
 ],
 "metadata": {
  "kernelspec": {
   "display_name": "Python 3 (ipykernel)",
   "language": "python",
   "name": "python3"
  },
  "language_info": {
   "codemirror_mode": {
    "name": "ipython",
    "version": 3
   },
   "file_extension": ".py",
   "mimetype": "text/x-python",
   "name": "python",
   "nbconvert_exporter": "python",
   "pygments_lexer": "ipython3",
   "version": "3.9.7"
  }
 },
 "nbformat": 4,
 "nbformat_minor": 5
}
