{
 "cells": [
  {
   "cell_type": "markdown",
   "id": "9115372f",
   "metadata": {},
   "source": [
    "Single file is called module and collection of modules is called package.\n"
   ]
  },
  {
   "cell_type": "code",
   "execution_count": 8,
   "id": "a1dfa051",
   "metadata": {},
   "outputs": [],
   "source": [
    "import os"
   ]
  },
  {
   "cell_type": "code",
   "execution_count": 9,
   "id": "e60cbdc4",
   "metadata": {},
   "outputs": [
    {
     "data": {
      "text/plain": [
       "3"
      ]
     },
     "execution_count": 9,
     "metadata": {},
     "output_type": "execute_result"
    }
   ],
   "source": [
    "def test(a,b):\n",
    "    return a+b\n",
    "test(1,2)"
   ]
  },
  {
   "cell_type": "code",
   "execution_count": 10,
   "id": "5925cd09",
   "metadata": {},
   "outputs": [
    {
     "data": {
      "text/plain": [
       "'C:\\\\Users\\\\Rokaya Neeraj\\\\Full Stack Data Science\\\\Class Module'"
      ]
     },
     "execution_count": 10,
     "metadata": {},
     "output_type": "execute_result"
    }
   ],
   "source": [
    "pwd()"
   ]
  },
  {
   "cell_type": "code",
   "execution_count": 11,
   "id": "5039472e",
   "metadata": {},
   "outputs": [
    {
     "name": "stdout",
     "output_type": "stream",
     "text": [
      " Volume in drive C has no label.\n",
      " Volume Serial Number is 8A66-F804\n",
      "\n",
      " Directory of C:\\Users\\Rokaya Neeraj\\Full Stack Data Science\\Class Module\n",
      "\n",
      "03/16/2022  12:16 PM    <DIR>          .\n",
      "03/16/2022  12:16 PM    <DIR>          ..\n",
      "03/16/2022  11:37 AM    <DIR>          .ipynb_checkpoints\n",
      "03/16/2022  12:08 PM    <DIR>          __pycache__\n",
      "03/16/2022  12:16 PM             5,776 Class Module.ipynb\n",
      "03/16/2022  12:16 PM               155 Module.py\n",
      "               2 File(s)          5,931 bytes\n",
      "               4 Dir(s)  23,432,675,328 bytes free\n"
     ]
    }
   ],
   "source": [
    "%ls"
   ]
  },
  {
   "cell_type": "code",
   "execution_count": 12,
   "id": "4dcf5519",
   "metadata": {},
   "outputs": [],
   "source": [
    "import Module #Module is a file in this juypter notebook"
   ]
  },
  {
   "cell_type": "code",
   "execution_count": 13,
   "id": "770a4855",
   "metadata": {},
   "outputs": [
    {
     "data": {
      "text/plain": [
       "5"
      ]
     },
     "execution_count": 13,
     "metadata": {},
     "output_type": "execute_result"
    }
   ],
   "source": [
    "Module.test(2,3)"
   ]
  },
  {
   "cell_type": "code",
   "execution_count": 14,
   "id": "5c19d44b",
   "metadata": {},
   "outputs": [
    {
     "data": {
      "text/plain": [
       "6"
      ]
     },
     "execution_count": 14,
     "metadata": {},
     "output_type": "execute_result"
    }
   ],
   "source": [
    "Module.test1(2,3)"
   ]
  },
  {
   "cell_type": "code",
   "execution_count": 15,
   "id": "1dd0f35e",
   "metadata": {},
   "outputs": [
    {
     "data": {
      "text/plain": [
       "0.6666666666666666"
      ]
     },
     "execution_count": 15,
     "metadata": {},
     "output_type": "execute_result"
    }
   ],
   "source": [
    "Module.test2(2,3)"
   ]
  },
  {
   "cell_type": "code",
   "execution_count": 17,
   "id": "7852fabd",
   "metadata": {},
   "outputs": [
    {
     "name": "stdout",
     "output_type": "stream",
     "text": [
      "this is my code\n"
     ]
    }
   ],
   "source": [
    "Module.test3()"
   ]
  },
  {
   "cell_type": "code",
   "execution_count": 18,
   "id": "6338fa2a",
   "metadata": {},
   "outputs": [],
   "source": [
    "from Module import test2"
   ]
  },
  {
   "cell_type": "code",
   "execution_count": 19,
   "id": "6f95ea25",
   "metadata": {},
   "outputs": [
    {
     "data": {
      "text/plain": [
       "0.6666666666666666"
      ]
     },
     "execution_count": 19,
     "metadata": {},
     "output_type": "execute_result"
    }
   ],
   "source": [
    "test2(2,3)"
   ]
  },
  {
   "cell_type": "code",
   "execution_count": 20,
   "id": "76ff84e1",
   "metadata": {},
   "outputs": [],
   "source": [
    "from Module import *"
   ]
  },
  {
   "cell_type": "code",
   "execution_count": 22,
   "id": "3ee781db",
   "metadata": {},
   "outputs": [
    {
     "data": {
      "text/plain": [
       "6"
      ]
     },
     "execution_count": 22,
     "metadata": {},
     "output_type": "execute_result"
    }
   ],
   "source": [
    "test1(2,3)"
   ]
  },
  {
   "cell_type": "code",
   "execution_count": 23,
   "id": "a580c8f1",
   "metadata": {},
   "outputs": [
    {
     "data": {
      "text/plain": [
       "['In',\n",
       " 'Module',\n",
       " 'Out',\n",
       " '_',\n",
       " '_10',\n",
       " '_13',\n",
       " '_14',\n",
       " '_15',\n",
       " '_19',\n",
       " '_21',\n",
       " '_22',\n",
       " '_4',\n",
       " '_5',\n",
       " '_9',\n",
       " '__',\n",
       " '___',\n",
       " '__builtin__',\n",
       " '__builtins__',\n",
       " '__doc__',\n",
       " '__loader__',\n",
       " '__name__',\n",
       " '__package__',\n",
       " '__spec__',\n",
       " '_dh',\n",
       " '_exit_code',\n",
       " '_i',\n",
       " '_i1',\n",
       " '_i10',\n",
       " '_i11',\n",
       " '_i12',\n",
       " '_i13',\n",
       " '_i14',\n",
       " '_i15',\n",
       " '_i16',\n",
       " '_i17',\n",
       " '_i18',\n",
       " '_i19',\n",
       " '_i2',\n",
       " '_i20',\n",
       " '_i21',\n",
       " '_i22',\n",
       " '_i23',\n",
       " '_i3',\n",
       " '_i4',\n",
       " '_i5',\n",
       " '_i6',\n",
       " '_i7',\n",
       " '_i8',\n",
       " '_i9',\n",
       " '_ih',\n",
       " '_ii',\n",
       " '_iii',\n",
       " '_oh',\n",
       " 'exit',\n",
       " 'get_ipython',\n",
       " 'os',\n",
       " 'quit',\n",
       " 'test',\n",
       " 'test1',\n",
       " 'test2',\n",
       " 'test3']"
      ]
     },
     "execution_count": 23,
     "metadata": {},
     "output_type": "execute_result"
    }
   ],
   "source": [
    "dir()"
   ]
  },
  {
   "cell_type": "code",
   "execution_count": 24,
   "id": "2c8b1a77",
   "metadata": {},
   "outputs": [],
   "source": [
    "f = open(\"new.py\",'w')"
   ]
  },
  {
   "cell_type": "code",
   "execution_count": 1,
   "id": "c4bec7c5",
   "metadata": {},
   "outputs": [],
   "source": [
    "import new"
   ]
  },
  {
   "cell_type": "code",
   "execution_count": 2,
   "id": "326f567a",
   "metadata": {},
   "outputs": [
    {
     "data": {
      "text/plain": [
       "['data science', 'AI']"
      ]
     },
     "execution_count": 2,
     "metadata": {},
     "output_type": "execute_result"
    }
   ],
   "source": [
    "new.get_course()"
   ]
  },
  {
   "cell_type": "code",
   "execution_count": 3,
   "id": "5e83e916",
   "metadata": {},
   "outputs": [
    {
     "data": {
      "text/plain": [
       "'greeeting from ineuron'"
      ]
     },
     "execution_count": 3,
     "metadata": {},
     "output_type": "execute_result"
    }
   ],
   "source": [
    "new.greetings()"
   ]
  },
  {
   "cell_type": "code",
   "execution_count": null,
   "id": "f9ce427b",
   "metadata": {},
   "outputs": [],
   "source": []
  },
  {
   "cell_type": "code",
   "execution_count": null,
   "id": "ffaf43d8",
   "metadata": {},
   "outputs": [],
   "source": []
  }
 ],
 "metadata": {
  "kernelspec": {
   "display_name": "Python 3 (ipykernel)",
   "language": "python",
   "name": "python3"
  },
  "language_info": {
   "codemirror_mode": {
    "name": "ipython",
    "version": 3
   },
   "file_extension": ".py",
   "mimetype": "text/x-python",
   "name": "python",
   "nbconvert_exporter": "python",
   "pygments_lexer": "ipython3",
   "version": "3.9.7"
  }
 },
 "nbformat": 4,
 "nbformat_minor": 5
}
