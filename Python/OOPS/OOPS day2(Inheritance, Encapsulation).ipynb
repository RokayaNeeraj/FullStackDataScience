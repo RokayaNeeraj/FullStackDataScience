{
 "cells": [
  {
   "cell_type": "code",
   "execution_count": 1,
   "id": "16de4c37",
   "metadata": {},
   "outputs": [],
   "source": [
    "class xyz:\n",
    "    def __init__(self, a , b, c):\n",
    "        self.a = a\n",
    "        self.b = b\n",
    "        self.c = c\n",
    "    \n",
    "    def test(self):\n",
    "        print(\"this is my first test method of xyz\")\n",
    "        \n",
    "    def test1(self):\n",
    "        print(\"this is a test1 math of xyz class\")\n",
    "        \n",
    "    def test2(self):\n",
    "        print(\"this is my test2 math of xyz class\")"
   ]
  },
  {
   "cell_type": "code",
   "execution_count": 2,
   "id": "8e0d0de1",
   "metadata": {},
   "outputs": [],
   "source": [
    "p = xyz(1,2,3)"
   ]
  },
  {
   "cell_type": "code",
   "execution_count": 3,
   "id": "98aab5b4",
   "metadata": {},
   "outputs": [
    {
     "name": "stdout",
     "output_type": "stream",
     "text": [
      "this is a test1 math of xyz class\n"
     ]
    }
   ],
   "source": [
    "p.test1()"
   ]
  },
  {
   "cell_type": "code",
   "execution_count": 4,
   "id": "7a9d7cca",
   "metadata": {},
   "outputs": [],
   "source": [
    "class xyz1(xyz):\n",
    "    pass"
   ]
  },
  {
   "cell_type": "code",
   "execution_count": 5,
   "id": "e594695b",
   "metadata": {},
   "outputs": [
    {
     "ename": "TypeError",
     "evalue": "__init__() missing 3 required positional arguments: 'a', 'b', and 'c'",
     "output_type": "error",
     "traceback": [
      "\u001b[1;31m---------------------------------------------------------------------------\u001b[0m",
      "\u001b[1;31mTypeError\u001b[0m                                 Traceback (most recent call last)",
      "\u001b[1;32mC:\\Users\\ROKAYA~1\\AppData\\Local\\Temp/ipykernel_9128/2295378873.py\u001b[0m in \u001b[0;36m<module>\u001b[1;34m\u001b[0m\n\u001b[1;32m----> 1\u001b[1;33m \u001b[0mq\u001b[0m \u001b[1;33m=\u001b[0m \u001b[0mxyz1\u001b[0m\u001b[1;33m(\u001b[0m\u001b[1;33m)\u001b[0m \u001b[1;31m# As we inherited class xyz,we must fulfill need of xyz class\u001b[0m\u001b[1;33m\u001b[0m\u001b[1;33m\u001b[0m\u001b[0m\n\u001b[0m",
      "\u001b[1;31mTypeError\u001b[0m: __init__() missing 3 required positional arguments: 'a', 'b', and 'c'"
     ]
    }
   ],
   "source": [
    "q = xyz1() # As we inherited class xyz,we must fulfill need of xyz class"
   ]
  },
  {
   "cell_type": "code",
   "execution_count": 6,
   "id": "6e37925c",
   "metadata": {},
   "outputs": [],
   "source": [
    "q = xyz1(3,4,5)"
   ]
  },
  {
   "cell_type": "code",
   "execution_count": 7,
   "id": "5fcc1554",
   "metadata": {},
   "outputs": [
    {
     "name": "stdout",
     "output_type": "stream",
     "text": [
      "this is a test1 math of xyz class\n"
     ]
    }
   ],
   "source": [
    "q.test1()"
   ]
  },
  {
   "cell_type": "code",
   "execution_count": 8,
   "id": "954045e1",
   "metadata": {},
   "outputs": [],
   "source": [
    "class xyz1(xyz):\n",
    "    def test(self):\n",
    "        print(\"this is test method available in xyz1\")"
   ]
  },
  {
   "cell_type": "code",
   "execution_count": 9,
   "id": "e65cec0d",
   "metadata": {},
   "outputs": [],
   "source": [
    "g = xyz(4,5,6)"
   ]
  },
  {
   "cell_type": "code",
   "execution_count": 10,
   "id": "38f9939a",
   "metadata": {},
   "outputs": [
    {
     "name": "stdout",
     "output_type": "stream",
     "text": [
      "this is my first test method of xyz\n"
     ]
    }
   ],
   "source": [
    "g.test()"
   ]
  },
  {
   "cell_type": "code",
   "execution_count": 11,
   "id": "dad8f408",
   "metadata": {},
   "outputs": [],
   "source": [
    "class abc:\n",
    "    def __init__(self,a,b,c):\n",
    "        self.a = a\n",
    "        self.b = b\n",
    "        self.c = c\n",
    "        \n",
    "    def test(self):\n",
    "        print(\"this is a math of xyz class\")\n",
    "        \n",
    "class abc1:\n",
    "    \n",
    "    def __init__(self,p,q,r):\n",
    "        self.p = p\n",
    "        self.q= q\n",
    "        self.r = r\n",
    "        \n",
    "    def test1(self):\n",
    "        print(\"this is a math from class xyz1\")\n",
    "        \n",
    "class child(abc,abc1):\n",
    "    pass"
   ]
  },
  {
   "cell_type": "code",
   "execution_count": 12,
   "id": "56f47fa1",
   "metadata": {},
   "outputs": [],
   "source": [
    "n = child(4,5,6)"
   ]
  },
  {
   "cell_type": "markdown",
   "id": "2e1a213e",
   "metadata": {},
   "source": [
    "The child class will inherit only the value of first class only but inherites functions of both the class"
   ]
  },
  {
   "cell_type": "code",
   "execution_count": 13,
   "id": "7e91052c",
   "metadata": {},
   "outputs": [
    {
     "name": "stdout",
     "output_type": "stream",
     "text": [
      "this is a math of xyz class\n"
     ]
    }
   ],
   "source": [
    "n.test() #press tab to check what method is available"
   ]
  },
  {
   "cell_type": "code",
   "execution_count": 14,
   "id": "ea3c2778",
   "metadata": {},
   "outputs": [
    {
     "name": "stdout",
     "output_type": "stream",
     "text": [
      "this is a math from class xyz1\n"
     ]
    }
   ],
   "source": [
    "n.test1()"
   ]
  },
  {
   "cell_type": "code",
   "execution_count": 15,
   "id": "fd5f3f75",
   "metadata": {},
   "outputs": [
    {
     "ename": "SyntaxError",
     "evalue": "invalid syntax (Temp/ipykernel_9128/716552811.py, line 1)",
     "output_type": "error",
     "traceback": [
      "\u001b[1;36m  File \u001b[1;32m\"C:\\Users\\ROKAYA~1\\AppData\\Local\\Temp/ipykernel_9128/716552811.py\"\u001b[1;36m, line \u001b[1;32m1\u001b[0m\n\u001b[1;33m    Now to inherit value of both the class,We must do as following.\u001b[0m\n\u001b[1;37m        ^\u001b[0m\n\u001b[1;31mSyntaxError\u001b[0m\u001b[1;31m:\u001b[0m invalid syntax\n"
     ]
    }
   ],
   "source": [
    "Now to inherit value of both the class,We must do as following."
   ]
  },
  {
   "cell_type": "code",
   "execution_count": 16,
   "id": "bf7ce8a3",
   "metadata": {},
   "outputs": [],
   "source": [
    "class abc:\n",
    "    def __init__(self,a,b,c):\n",
    "        self.a = a\n",
    "        self.b = b\n",
    "        self.c = c\n",
    "        \n",
    "    def test(self):\n",
    "        print(\"this is a math of xyz class\")\n",
    "        \n",
    "class abc1:\n",
    "    \n",
    "    def __init__(self,p,q,r):\n",
    "        self.p = p\n",
    "        self.q= q\n",
    "        self.r = r\n",
    "        \n",
    "    def test1(self):\n",
    "        print(\"this is a math from class xyz1\")\n",
    "        \n",
    "class child(abc,abc1):\n",
    "    def __init__(self,*args):\n",
    "        abc.__init__(self,*args)\n",
    "        abc1.__init__(self,*args)"
   ]
  },
  {
   "cell_type": "code",
   "execution_count": 17,
   "id": "ad7d5a9f",
   "metadata": {},
   "outputs": [],
   "source": [
    "n = child(4,5,6)"
   ]
  },
  {
   "cell_type": "code",
   "execution_count": 18,
   "id": "e7d39f92",
   "metadata": {},
   "outputs": [
    {
     "data": {
      "text/plain": [
       "6"
      ]
     },
     "execution_count": 18,
     "metadata": {},
     "output_type": "execute_result"
    }
   ],
   "source": [
    "n.r #By pressing tab after n. , we can see we inherited every values of class abc and abc1 to child class"
   ]
  },
  {
   "cell_type": "code",
   "execution_count": 19,
   "id": "3a64f305",
   "metadata": {},
   "outputs": [
    {
     "data": {
      "text/plain": [
       "4"
      ]
     },
     "execution_count": 19,
     "metadata": {},
     "output_type": "execute_result"
    }
   ],
   "source": [
    "n.a #Value of abc is same as pqr"
   ]
  },
  {
   "cell_type": "code",
   "execution_count": 6,
   "id": "deb3fba2",
   "metadata": {},
   "outputs": [],
   "source": [
    "class abc:\n",
    "    def __init__(self,a,b,c):\n",
    "        self.a = a\n",
    "        self.b = b\n",
    "        self.c = c\n",
    "        \n",
    "    def test(self):\n",
    "        print(\"this is a math of xyz class\")\n",
    "        \n",
    "class abc1:\n",
    "    \n",
    "    def __init__(self,p,q,r):\n",
    "        self.p = p\n",
    "        self.q= q\n",
    "        self.r = r\n",
    "        \n",
    "    def test1(self):\n",
    "        print(\"this is a math from class xyz1\")\n",
    "        \n",
    "class child(abc,abc1): #Inheriting two classes at once and acessing every propery of both class\n",
    "    def __init__(self,*args,**kwargs):\n",
    "        abc.__init__(self,*args)\n",
    "        abc1.__init__(self,**kwargs)"
   ]
  },
  {
   "cell_type": "code",
   "execution_count": 7,
   "id": "d2793fcd",
   "metadata": {},
   "outputs": [],
   "source": [
    "n = child(4,5,6,p=7,q=8,r=9)"
   ]
  },
  {
   "cell_type": "code",
   "execution_count": 8,
   "id": "9edbb5ce",
   "metadata": {},
   "outputs": [
    {
     "data": {
      "text/plain": [
       "8"
      ]
     },
     "execution_count": 8,
     "metadata": {},
     "output_type": "execute_result"
    }
   ],
   "source": [
    "n.q"
   ]
  },
  {
   "cell_type": "code",
   "execution_count": 9,
   "id": "1518c608",
   "metadata": {},
   "outputs": [
    {
     "data": {
      "text/plain": [
       "4"
      ]
     },
     "execution_count": 9,
     "metadata": {},
     "output_type": "execute_result"
    }
   ],
   "source": [
    "n.a"
   ]
  },
  {
   "cell_type": "code",
   "execution_count": 10,
   "id": "18e061f6",
   "metadata": {},
   "outputs": [
    {
     "data": {
      "text/plain": [
       "9"
      ]
     },
     "execution_count": 10,
     "metadata": {},
     "output_type": "execute_result"
    }
   ],
   "source": [
    "n.r"
   ]
  },
  {
   "cell_type": "code",
   "execution_count": 11,
   "id": "4d365132",
   "metadata": {},
   "outputs": [
    {
     "name": "stdout",
     "output_type": "stream",
     "text": [
      "this is a math of xyz class\n"
     ]
    }
   ],
   "source": [
    "n.test()"
   ]
  },
  {
   "cell_type": "code",
   "execution_count": 12,
   "id": "9a57da87",
   "metadata": {},
   "outputs": [
    {
     "name": "stdout",
     "output_type": "stream",
     "text": [
      "this is a math from class xyz1\n"
     ]
    }
   ],
   "source": [
    "n.test1()"
   ]
  },
  {
   "cell_type": "code",
   "execution_count": 14,
   "id": "869af7ec",
   "metadata": {},
   "outputs": [],
   "source": [
    "#Multi-level Inheritance\n",
    "class abc:\n",
    "    def __init__(self,a,b,c):\n",
    "        self.a = a\n",
    "        self.b = b\n",
    "        self.c = c\n",
    "        \n",
    "    def test(self):\n",
    "        print(\"this is a math of xyz class\")\n",
    "        \n",
    "class abc1(abc):\n",
    "    def test1(self):\n",
    "        print(\"this is a math from class xyz1\")\n",
    "        \n",
    "class abc2(abc1):\n",
    "    def test2(self):\n",
    "        print(\"this is a math from class2\")"
   ]
  },
  {
   "cell_type": "code",
   "execution_count": 16,
   "id": "500b04e6",
   "metadata": {},
   "outputs": [],
   "source": [
    "v = abc2(3,4,5)"
   ]
  },
  {
   "cell_type": "code",
   "execution_count": 17,
   "id": "34f9be90",
   "metadata": {},
   "outputs": [
    {
     "name": "stdout",
     "output_type": "stream",
     "text": [
      "this is a math of xyz class\n"
     ]
    }
   ],
   "source": [
    "v.test()"
   ]
  },
  {
   "cell_type": "code",
   "execution_count": 18,
   "id": "53294f1b",
   "metadata": {},
   "outputs": [
    {
     "name": "stdout",
     "output_type": "stream",
     "text": [
      "this is a math from class xyz1\n"
     ]
    }
   ],
   "source": [
    "v.test1()"
   ]
  },
  {
   "cell_type": "code",
   "execution_count": 19,
   "id": "42c8f3e6",
   "metadata": {},
   "outputs": [
    {
     "name": "stdout",
     "output_type": "stream",
     "text": [
      "this is a math from class2\n"
     ]
    }
   ],
   "source": [
    "v.test2()"
   ]
  },
  {
   "cell_type": "markdown",
   "id": "0475a59b",
   "metadata": {},
   "source": [
    "q1. create a file class for reading data from respective file with a method name read and write\n",
    "q2. try to inherit read and write method from parent class to child class to perform read and write operation"
   ]
  },
  {
   "cell_type": "code",
   "execution_count": 21,
   "id": "a53a23eb",
   "metadata": {},
   "outputs": [],
   "source": [
    "import logging\n",
    "logging.basicConfig(filename = 'list.log', level = logging.DEBUG, format = \"%(asctime)s %(levelname)s %(message)s\",filemode = 'w')\n",
    "\n",
    "class file:\n",
    "    \n",
    "    def __init__(self,file):\n",
    "        self.file = file\n",
    "    \n",
    "    def write(self):\n",
    "        logging.info(\"executing read method\")\n",
    "        try:\n",
    "            f = open(self.file,'w')\n",
    "            data = f.write('I dont know what I am doing but everything seems alright')\n",
    "            return data\n",
    "        except FileNotFoundError as e:\n",
    "            logging.error(\"Error occured while opening the file\")\n",
    "            logging.exception(f\"error is {e}\")\n",
    "\n",
    "class file1(file):\n",
    "    \n",
    "    def read(self):\n",
    "        logging.info(\"Executing write method\")\n",
    "        try:\n",
    "            f= open(self.file,'r') \n",
    "            data = f.read()\n",
    "            return data \n",
    "        except FileNotFoundError as e:\n",
    "            logging.error(\"error occured while opening the file\")\n",
    "            logging.exception(f\"error is {e}\")\n",
    "\n",
    "x = file1('Logs.txt')"
   ]
  },
  {
   "cell_type": "code",
   "execution_count": 22,
   "id": "81e8081a",
   "metadata": {},
   "outputs": [
    {
     "data": {
      "text/plain": [
       "56"
      ]
     },
     "execution_count": 22,
     "metadata": {},
     "output_type": "execute_result"
    }
   ],
   "source": [
    "x.write()"
   ]
  },
  {
   "cell_type": "code",
   "execution_count": 23,
   "id": "a867b2fd",
   "metadata": {},
   "outputs": [
    {
     "data": {
      "text/plain": [
       "'I dont know what I am doing but everything seems alright'"
      ]
     },
     "execution_count": 23,
     "metadata": {},
     "output_type": "execute_result"
    }
   ],
   "source": [
    "x.read()"
   ]
  },
  {
   "cell_type": "code",
   "execution_count": 24,
   "id": "61a77f93",
   "metadata": {},
   "outputs": [],
   "source": [
    "class file:\n",
    "    def __init__(self,file):\n",
    "        self.file = file\n",
    "        \n",
    "    def write(self):\n",
    "        try:\n",
    "            f= open(self.file,'w') \n",
    "            data = f.write('I am noob in python')\n",
    "            return data\n",
    "            f.close()\n",
    "        except FileNotFoundError as e:\n",
    "            return e\n",
    "\n",
    "    def read(self):\n",
    "        try:\n",
    "            f = open(self.file,'r')\n",
    "            data = f.read()\n",
    "            return data\n",
    "        except FileNotFoundError as e:\n",
    "            return e\n",
    "\n",
    "class child(file):\n",
    "    pass\n",
    "\n",
    "obj1 = file('abc.txt')\n",
    "obj2 = child('child.txt')"
   ]
  },
  {
   "cell_type": "code",
   "execution_count": 25,
   "id": "0309f436",
   "metadata": {},
   "outputs": [
    {
     "data": {
      "text/plain": [
       "19"
      ]
     },
     "execution_count": 25,
     "metadata": {},
     "output_type": "execute_result"
    }
   ],
   "source": [
    "obj2.write()"
   ]
  },
  {
   "cell_type": "code",
   "execution_count": 26,
   "id": "19a1662d",
   "metadata": {},
   "outputs": [
    {
     "data": {
      "text/plain": [
       "'I am noob in python'"
      ]
     },
     "execution_count": 26,
     "metadata": {},
     "output_type": "execute_result"
    }
   ],
   "source": [
    "obj2.read()"
   ]
  },
  {
   "cell_type": "markdown",
   "id": "064e4dec",
   "metadata": {},
   "source": [
    "---ENCAPSULATION\n",
    "\n",
    "PUBLIC(a) .... The members declared as Public are accessible from outside the Class through an object of the class.\n",
    "PRIVATE(__a)...These members are only accessible from within the class. No outside Access is allowed.\n",
    "PROTECTED(_a)...The members declared as Protected are accessible from outside the class but only in a class derived from it that is in the child or subclass."
   ]
  },
  {
   "cell_type": "code",
   "execution_count": 118,
   "id": "05285f14",
   "metadata": {},
   "outputs": [],
   "source": [
    "class test:\n",
    "    def __init__(self,a,b,c):\n",
    "        self.a = a\n",
    "        self.b = b\n",
    "        self.c = c\n",
    "        \n",
    "u = test(1,2,3)"
   ]
  },
  {
   "cell_type": "code",
   "execution_count": 119,
   "id": "4cb47210",
   "metadata": {},
   "outputs": [
    {
     "data": {
      "text/plain": [
       "1"
      ]
     },
     "execution_count": 119,
     "metadata": {},
     "output_type": "execute_result"
    }
   ],
   "source": [
    "u.a"
   ]
  },
  {
   "cell_type": "code",
   "execution_count": 120,
   "id": "77822e01",
   "metadata": {},
   "outputs": [],
   "source": [
    "class test:\n",
    "    def __init__(self,a,b,c):\n",
    "        self.a = a\n",
    "        self.b = b\n",
    "        self.c = c\n",
    "\n",
    "class test1(test):\n",
    "    pass\n",
    "        \n",
    "u = test(1,2,3)"
   ]
  },
  {
   "cell_type": "code",
   "execution_count": 121,
   "id": "90e82d2a",
   "metadata": {},
   "outputs": [],
   "source": [
    "v = test1(4,5,6)"
   ]
  },
  {
   "cell_type": "code",
   "execution_count": 122,
   "id": "e9466b8b",
   "metadata": {},
   "outputs": [
    {
     "data": {
      "text/plain": [
       "4"
      ]
     },
     "execution_count": 122,
     "metadata": {},
     "output_type": "execute_result"
    }
   ],
   "source": [
    "v.a #overriding a,b,c"
   ]
  },
  {
   "cell_type": "code",
   "execution_count": 123,
   "id": "9aa45da0",
   "metadata": {},
   "outputs": [],
   "source": [
    "class test:\n",
    "    def __init__(self):\n",
    "        self.a = 4\n",
    "\n",
    "class test1(test):\n",
    "    pass\n",
    "        \n",
    "u = test()"
   ]
  },
  {
   "cell_type": "code",
   "execution_count": 124,
   "id": "60c0fd30",
   "metadata": {},
   "outputs": [
    {
     "data": {
      "text/plain": [
       "4"
      ]
     },
     "execution_count": 124,
     "metadata": {},
     "output_type": "execute_result"
    }
   ],
   "source": [
    "u.a"
   ]
  },
  {
   "cell_type": "code",
   "execution_count": 125,
   "id": "eefac9dc",
   "metadata": {},
   "outputs": [],
   "source": [
    "v = test1()"
   ]
  },
  {
   "cell_type": "code",
   "execution_count": 126,
   "id": "31911b7b",
   "metadata": {},
   "outputs": [
    {
     "data": {
      "text/plain": [
       "4"
      ]
     },
     "execution_count": 126,
     "metadata": {},
     "output_type": "execute_result"
    }
   ],
   "source": [
    "v.a"
   ]
  },
  {
   "cell_type": "code",
   "execution_count": 127,
   "id": "d339e95d",
   "metadata": {},
   "outputs": [],
   "source": [
    "class test:\n",
    "    def __init__(self):\n",
    "        self.a = 4\n",
    "\n",
    "class test1(test): #if we want to use self(pointer) than we must create a constructor(__init__)\n",
    "    def __init__(self):\n",
    "        self.a = 7\n",
    "        \n",
    "u = test()"
   ]
  },
  {
   "cell_type": "code",
   "execution_count": 128,
   "id": "90316caf",
   "metadata": {},
   "outputs": [
    {
     "data": {
      "text/plain": [
       "4"
      ]
     },
     "execution_count": 128,
     "metadata": {},
     "output_type": "execute_result"
    }
   ],
   "source": [
    "u.a"
   ]
  },
  {
   "cell_type": "code",
   "execution_count": 129,
   "id": "82e2fe2f",
   "metadata": {},
   "outputs": [
    {
     "data": {
      "text/plain": [
       "7"
      ]
     },
     "execution_count": 129,
     "metadata": {},
     "output_type": "execute_result"
    }
   ],
   "source": [
    "v= test1()\n",
    "v.a"
   ]
  },
  {
   "cell_type": "code",
   "execution_count": 130,
   "id": "49f5dd82",
   "metadata": {},
   "outputs": [],
   "source": [
    "class test:\n",
    "    def __init__(self):\n",
    "        self.a = 4\n",
    "\n",
    "class test1(test): #if we want to use self(pointer) than we must create a constructor(__init__)\n",
    "    def __init__(self):\n",
    "        test.__init__(self)\n",
    "        self.a = 7\n",
    "u = test()"
   ]
  },
  {
   "cell_type": "code",
   "execution_count": 131,
   "id": "cff692b5",
   "metadata": {},
   "outputs": [
    {
     "data": {
      "text/plain": [
       "4"
      ]
     },
     "execution_count": 131,
     "metadata": {},
     "output_type": "execute_result"
    }
   ],
   "source": [
    "u.a"
   ]
  },
  {
   "cell_type": "code",
   "execution_count": 132,
   "id": "d1a17e45",
   "metadata": {},
   "outputs": [
    {
     "data": {
      "text/plain": [
       "7"
      ]
     },
     "execution_count": 132,
     "metadata": {},
     "output_type": "execute_result"
    }
   ],
   "source": [
    "v= test1()\n",
    "v.a"
   ]
  },
  {
   "cell_type": "code",
   "execution_count": 133,
   "id": "07dfff17",
   "metadata": {},
   "outputs": [],
   "source": [
    "class test:\n",
    "    def __init__(self):\n",
    "        self._a = 4     # _ makes it protected\n",
    "\n",
    "class test1(test): #if we want to use self(pointer) than we must create a constructor(__init__)\n",
    "    def __init__(self):\n",
    "        self._a = 7\n",
    "u = test()"
   ]
  },
  {
   "cell_type": "code",
   "execution_count": 134,
   "id": "9d146b81",
   "metadata": {},
   "outputs": [
    {
     "data": {
      "text/plain": [
       "4"
      ]
     },
     "execution_count": 134,
     "metadata": {},
     "output_type": "execute_result"
    }
   ],
   "source": [
    "u._a"
   ]
  },
  {
   "cell_type": "code",
   "execution_count": 135,
   "id": "77b6ff86",
   "metadata": {},
   "outputs": [],
   "source": [
    "v = test1()"
   ]
  },
  {
   "cell_type": "code",
   "execution_count": 136,
   "id": "98a956c7",
   "metadata": {},
   "outputs": [
    {
     "data": {
      "text/plain": [
       "7"
      ]
     },
     "execution_count": 136,
     "metadata": {},
     "output_type": "execute_result"
    }
   ],
   "source": [
    "v._a"
   ]
  },
  {
   "cell_type": "code",
   "execution_count": 137,
   "id": "b6bb3d76",
   "metadata": {},
   "outputs": [],
   "source": [
    "class test:\n",
    "    def __init__(self):\n",
    "        self.__a = 4     # makes it private\n",
    "\n",
    "class test1(test): #if we want to use self(pointer) than we must create a constructor(__init__)\n",
    "    def __init__(self):\n",
    "        self.__a = 7\n",
    "u = test()"
   ]
  },
  {
   "cell_type": "code",
   "execution_count": 138,
   "id": "194df0af",
   "metadata": {},
   "outputs": [
    {
     "ename": "AttributeError",
     "evalue": "'test' object has no attribute '__a'",
     "output_type": "error",
     "traceback": [
      "\u001b[1;31m---------------------------------------------------------------------------\u001b[0m",
      "\u001b[1;31mAttributeError\u001b[0m                            Traceback (most recent call last)",
      "\u001b[1;32mC:\\Users\\ROKAYA~1\\AppData\\Local\\Temp/ipykernel_8668/3701111835.py\u001b[0m in \u001b[0;36m<module>\u001b[1;34m\u001b[0m\n\u001b[1;32m----> 1\u001b[1;33m \u001b[0mu\u001b[0m\u001b[1;33m.\u001b[0m\u001b[0m__a\u001b[0m\u001b[1;33m\u001b[0m\u001b[1;33m\u001b[0m\u001b[0m\n\u001b[0m",
      "\u001b[1;31mAttributeError\u001b[0m: 'test' object has no attribute '__a'"
     ]
    }
   ],
   "source": [
    "u.__a"
   ]
  },
  {
   "cell_type": "code",
   "execution_count": 139,
   "id": "f778b8af",
   "metadata": {},
   "outputs": [],
   "source": [
    "class test:\n",
    "    def __init__(self,a,b,c):\n",
    "        self.a = a #Publiv\n",
    "        self._b = b #Protected\n",
    "        self.__c = c #private\n",
    "        \n",
    "v = test(4,5,6)"
   ]
  },
  {
   "cell_type": "code",
   "execution_count": 140,
   "id": "b19d1eb1",
   "metadata": {},
   "outputs": [
    {
     "data": {
      "text/plain": [
       "4"
      ]
     },
     "execution_count": 140,
     "metadata": {},
     "output_type": "execute_result"
    }
   ],
   "source": [
    "v.a"
   ]
  },
  {
   "cell_type": "code",
   "execution_count": 141,
   "id": "9dfb2bd7",
   "metadata": {},
   "outputs": [
    {
     "data": {
      "text/plain": [
       "5"
      ]
     },
     "execution_count": 141,
     "metadata": {},
     "output_type": "execute_result"
    }
   ],
   "source": [
    "v._b"
   ]
  },
  {
   "cell_type": "code",
   "execution_count": 142,
   "id": "ed95c5b4",
   "metadata": {},
   "outputs": [
    {
     "ename": "AttributeError",
     "evalue": "'test' object has no attribute '__c'",
     "output_type": "error",
     "traceback": [
      "\u001b[1;31m---------------------------------------------------------------------------\u001b[0m",
      "\u001b[1;31mAttributeError\u001b[0m                            Traceback (most recent call last)",
      "\u001b[1;32mC:\\Users\\ROKAYA~1\\AppData\\Local\\Temp/ipykernel_8668/2906453552.py\u001b[0m in \u001b[0;36m<module>\u001b[1;34m\u001b[0m\n\u001b[1;32m----> 1\u001b[1;33m \u001b[0mv\u001b[0m\u001b[1;33m.\u001b[0m\u001b[0m__c\u001b[0m \u001b[1;31m#Not accessible\u001b[0m\u001b[1;33m\u001b[0m\u001b[1;33m\u001b[0m\u001b[0m\n\u001b[0m",
      "\u001b[1;31mAttributeError\u001b[0m: 'test' object has no attribute '__c'"
     ]
    }
   ],
   "source": [
    "v.__c #Not accessible "
   ]
  },
  {
   "cell_type": "code",
   "execution_count": 143,
   "id": "bf03c053",
   "metadata": {},
   "outputs": [
    {
     "data": {
      "text/plain": [
       "6"
      ]
     },
     "execution_count": 143,
     "metadata": {},
     "output_type": "execute_result"
    }
   ],
   "source": [
    "v._test__c"
   ]
  },
  {
   "cell_type": "code",
   "execution_count": 144,
   "id": "2ed53fd8",
   "metadata": {},
   "outputs": [],
   "source": [
    "class test:\n",
    "    def __init__(self,a,b,c):\n",
    "        self.a = a #Publiv\n",
    "        self._b = b #Protected\n",
    "        self.__c = c #private\n",
    "\n",
    "class test1(test):\n",
    "    pass\n",
    "v = test(4,5,6)"
   ]
  },
  {
   "cell_type": "code",
   "execution_count": 145,
   "id": "2ea13318",
   "metadata": {},
   "outputs": [
    {
     "data": {
      "text/plain": [
       "4"
      ]
     },
     "execution_count": 145,
     "metadata": {},
     "output_type": "execute_result"
    }
   ],
   "source": [
    "v.a"
   ]
  },
  {
   "cell_type": "code",
   "execution_count": 146,
   "id": "a6d621b8",
   "metadata": {},
   "outputs": [
    {
     "data": {
      "text/plain": [
       "5"
      ]
     },
     "execution_count": 146,
     "metadata": {},
     "output_type": "execute_result"
    }
   ],
   "source": [
    "v._b"
   ]
  },
  {
   "cell_type": "code",
   "execution_count": 147,
   "id": "72007fd4",
   "metadata": {},
   "outputs": [
    {
     "data": {
      "text/plain": [
       "6"
      ]
     },
     "execution_count": 147,
     "metadata": {},
     "output_type": "execute_result"
    }
   ],
   "source": [
    "v._test__c #Allowed inside the parent class"
   ]
  },
  {
   "cell_type": "code",
   "execution_count": 148,
   "id": "aaa9f016",
   "metadata": {},
   "outputs": [],
   "source": [
    "v = test1(6,7,8)"
   ]
  },
  {
   "cell_type": "code",
   "execution_count": 149,
   "id": "b421ba94",
   "metadata": {},
   "outputs": [
    {
     "data": {
      "text/plain": [
       "6"
      ]
     },
     "execution_count": 149,
     "metadata": {},
     "output_type": "execute_result"
    }
   ],
   "source": [
    "v.a"
   ]
  },
  {
   "cell_type": "code",
   "execution_count": 150,
   "id": "77940091",
   "metadata": {},
   "outputs": [
    {
     "data": {
      "text/plain": [
       "7"
      ]
     },
     "execution_count": 150,
     "metadata": {},
     "output_type": "execute_result"
    }
   ],
   "source": [
    "v._b"
   ]
  },
  {
   "cell_type": "code",
   "execution_count": 151,
   "id": "a74bcf18",
   "metadata": {},
   "outputs": [
    {
     "ename": "AttributeError",
     "evalue": "'test1' object has no attribute '_test1__c'",
     "output_type": "error",
     "traceback": [
      "\u001b[1;31m---------------------------------------------------------------------------\u001b[0m",
      "\u001b[1;31mAttributeError\u001b[0m                            Traceback (most recent call last)",
      "\u001b[1;32mC:\\Users\\ROKAYA~1\\AppData\\Local\\Temp/ipykernel_8668/1962608822.py\u001b[0m in \u001b[0;36m<module>\u001b[1;34m\u001b[0m\n\u001b[1;32m----> 1\u001b[1;33m \u001b[0mv\u001b[0m\u001b[1;33m.\u001b[0m\u001b[0m_test1__c\u001b[0m \u001b[1;31m#Not allowed in the child class\u001b[0m\u001b[1;33m\u001b[0m\u001b[1;33m\u001b[0m\u001b[0m\n\u001b[0m",
      "\u001b[1;31mAttributeError\u001b[0m: 'test1' object has no attribute '_test1__c'"
     ]
    }
   ],
   "source": [
    "v._test1__c #Not allowed in the child class"
   ]
  },
  {
   "cell_type": "code",
   "execution_count": 152,
   "id": "b27f9c4c",
   "metadata": {},
   "outputs": [
    {
     "data": {
      "text/plain": [
       "8"
      ]
     },
     "execution_count": 152,
     "metadata": {},
     "output_type": "execute_result"
    }
   ],
   "source": [
    "v._test__c #Inherited from parent class using the parent class"
   ]
  },
  {
   "cell_type": "code",
   "execution_count": 153,
   "id": "142fabfa",
   "metadata": {},
   "outputs": [],
   "source": [
    "class bonuscalculator:\n",
    "    def __init__(self,empid,emprating):\n",
    "        self.empid = empid\n",
    "        self.emprating = emprating\n",
    "        self.__bonusforratingsA= \"70%\"\n",
    "        self.__bonusforratingsB = \"60%\"\n",
    "        self.__bonusforratingC = \"40%\"\n",
    "        \n",
    "    def bonuscalculator(self):\n",
    "        if self.emprating == \"A\":\n",
    "            bonus = self.__bonusforratingsA\n",
    "            return bonus\n",
    "        elif self.emprating == \"B\":\n",
    "            bonus = self.__bonusforratingsB\n",
    "            return bonus\n",
    "        else:\n",
    "            bonus = self.__bonusforratingC\n",
    "            return bonus"
   ]
  },
  {
   "cell_type": "code",
   "execution_count": 154,
   "id": "1ac6e9ea",
   "metadata": {},
   "outputs": [],
   "source": [
    "emp1 = bonuscalculator(101,\"A\")\n",
    "emp2 = bonuscalculator(102, \"B\")\n",
    "emp3 = bonuscalculator(103,\"C\")"
   ]
  },
  {
   "cell_type": "code",
   "execution_count": 155,
   "id": "052ec4f1",
   "metadata": {},
   "outputs": [
    {
     "data": {
      "text/plain": [
       "'70%'"
      ]
     },
     "execution_count": 155,
     "metadata": {},
     "output_type": "execute_result"
    }
   ],
   "source": [
    "emp1.bonuscalculator()"
   ]
  },
  {
   "cell_type": "code",
   "execution_count": 156,
   "id": "5f103b94",
   "metadata": {},
   "outputs": [
    {
     "data": {
      "text/plain": [
       "'60%'"
      ]
     },
     "execution_count": 156,
     "metadata": {},
     "output_type": "execute_result"
    }
   ],
   "source": [
    "emp2.bonuscalculator()"
   ]
  },
  {
   "cell_type": "code",
   "execution_count": 157,
   "id": "af6833a4",
   "metadata": {},
   "outputs": [
    {
     "data": {
      "text/plain": [
       "'40%'"
      ]
     },
     "execution_count": 157,
     "metadata": {},
     "output_type": "execute_result"
    }
   ],
   "source": [
    "emp3.bonuscalculator()"
   ]
  },
  {
   "cell_type": "code",
   "execution_count": 158,
   "id": "61673e32",
   "metadata": {},
   "outputs": [],
   "source": [
    "emp1.empid = 104 #Overriding employee id"
   ]
  },
  {
   "cell_type": "code",
   "execution_count": 159,
   "id": "6deb381d",
   "metadata": {},
   "outputs": [
    {
     "data": {
      "text/plain": [
       "104"
      ]
     },
     "execution_count": 159,
     "metadata": {},
     "output_type": "execute_result"
    }
   ],
   "source": [
    "emp1.empid"
   ]
  },
  {
   "cell_type": "code",
   "execution_count": 160,
   "id": "273e2913",
   "metadata": {},
   "outputs": [],
   "source": [
    "emp1.emprating = \"B\""
   ]
  },
  {
   "cell_type": "code",
   "execution_count": 161,
   "id": "3f2f441c",
   "metadata": {},
   "outputs": [
    {
     "data": {
      "text/plain": [
       "'60%'"
      ]
     },
     "execution_count": 161,
     "metadata": {},
     "output_type": "execute_result"
    }
   ],
   "source": [
    "emp1.bonuscalculator()"
   ]
  },
  {
   "cell_type": "code",
   "execution_count": 162,
   "id": "e02bae99",
   "metadata": {},
   "outputs": [],
   "source": [
    "emp1.__bonusratingB = \"90%\" #Value change but outcome unchanged"
   ]
  },
  {
   "cell_type": "code",
   "execution_count": 163,
   "id": "86be8b80",
   "metadata": {},
   "outputs": [
    {
     "data": {
      "text/plain": [
       "'60%'"
      ]
     },
     "execution_count": 163,
     "metadata": {},
     "output_type": "execute_result"
    }
   ],
   "source": [
    "emp1.bonuscalculator()"
   ]
  },
  {
   "cell_type": "code",
   "execution_count": 164,
   "id": "88ddd6fc",
   "metadata": {},
   "outputs": [],
   "source": [
    "emp1._bonuscalculator__bonusforratingA = \"743\" # RIght way to change the private variable"
   ]
  },
  {
   "cell_type": "code",
   "execution_count": 165,
   "id": "97fe57ad",
   "metadata": {},
   "outputs": [
    {
     "data": {
      "text/plain": [
       "'743'"
      ]
     },
     "execution_count": 165,
     "metadata": {},
     "output_type": "execute_result"
    }
   ],
   "source": [
    "emp1._bonuscalculator__bonusforratingA"
   ]
  },
  {
   "cell_type": "code",
   "execution_count": 1,
   "id": "2c5cd70b",
   "metadata": {},
   "outputs": [],
   "source": [
    "import logging\n",
    "logging.basicConfig(filename = 'test9999.log',level = logging.DEBUG,format = '%(asctime)s %(levelname)s %(message)s') #displays date-time\n",
    "\n",
    "class ListMethod:\n",
    "    def __init__(self, a):\n",
    "        self.a = a\n",
    "\n",
    "    def append(self,x):\n",
    "        logging.info(f\"I am trying to enter value of %x and append it to the main list\")\n",
    "        try:\n",
    "            if type(x) == list:\n",
    "                x.extend(self.a)\n",
    "                print(x)\n",
    "                \n",
    "        except Exception as e:\n",
    "            logging.error(\"Please enter the list\")\n",
    "            logging.exception(\"f error is\",e)\n",
    "\n",
    "#     def extend(self):\n",
    "#         '''It helps to add elements at the end of the list'''\n",
    "#         x = [4,5,6]\n",
    "#         x.extend(self.a)\n",
    "#         return x\n",
    "\n",
    "#     def reverse(self):\n",
    "#         '''It helps to reverese the element of the list'''\n",
    "#         return self.a[::-1]\n",
    "\n",
    "n = ListMethod([1, 2, 3, 4, 6])\n",
    "n.append({1,2,3,4})\n"
   ]
  },
  {
   "cell_type": "code",
   "execution_count": null,
   "id": "ac4cec7f",
   "metadata": {},
   "outputs": [],
   "source": []
  },
  {
   "cell_type": "code",
   "execution_count": null,
   "id": "2f180a2f",
   "metadata": {},
   "outputs": [],
   "source": []
  }
 ],
 "metadata": {
  "kernelspec": {
   "display_name": "Python 3 (ipykernel)",
   "language": "python",
   "name": "python3"
  },
  "language_info": {
   "codemirror_mode": {
    "name": "ipython",
    "version": 3
   },
   "file_extension": ".py",
   "mimetype": "text/x-python",
   "name": "python",
   "nbconvert_exporter": "python",
   "pygments_lexer": "ipython3",
   "version": "3.9.7"
  }
 },
 "nbformat": 4,
 "nbformat_minor": 5
}
