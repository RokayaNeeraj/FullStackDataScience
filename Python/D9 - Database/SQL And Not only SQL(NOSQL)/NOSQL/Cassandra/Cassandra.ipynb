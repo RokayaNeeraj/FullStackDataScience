{
 "cells": [
  {
   "cell_type": "markdown",
   "id": "95c3f200",
   "metadata": {},
   "source": [
    "Scalability-horizontal scalibility\n",
    "High Availability-\n",
    "Decentralized"
   ]
  },
  {
   "cell_type": "code",
   "execution_count": 1,
   "id": "c003ffc4",
   "metadata": {},
   "outputs": [
    {
     "name": "stdout",
     "output_type": "stream",
     "text": [
      "Collecting cassandra-driver\n",
      "  Downloading cassandra-driver-3.25.0.tar.gz (289 kB)\n",
      "Requirement already satisfied: six>=1.9 in c:\\programdata\\anaconda3\\lib\\site-packages (from cassandra-driver) (1.16.0)\n",
      "Collecting geomet<0.3,>=0.1\n",
      "  Downloading geomet-0.2.1.post1-py3-none-any.whl (18 kB)\n",
      "Requirement already satisfied: click in c:\\programdata\\anaconda3\\lib\\site-packages (from geomet<0.3,>=0.1->cassandra-driver) (8.0.3)\n",
      "Requirement already satisfied: colorama in c:\\programdata\\anaconda3\\lib\\site-packages (from click->geomet<0.3,>=0.1->cassandra-driver) (0.4.4)\n",
      "Building wheels for collected packages: cassandra-driver\n",
      "  Building wheel for cassandra-driver (setup.py): started\n",
      "  Building wheel for cassandra-driver (setup.py): finished with status 'done'\n",
      "  Created wheel for cassandra-driver: filename=cassandra_driver-3.25.0-cp39-cp39-win_amd64.whl size=329419 sha256=23aefb095a18ff79b5929c11ca79a207e6095b18d470fb554902ea881111b5f6\n",
      "  Stored in directory: c:\\users\\rokaya neeraj\\appdata\\local\\pip\\cache\\wheels\\3d\\bd\\75\\12875d7c70c5b18e8738c9e06f2d3f5b752fa372917c663fcc\n",
      "Successfully built cassandra-driver\n",
      "Installing collected packages: geomet, cassandra-driver\n",
      "Successfully installed cassandra-driver-3.25.0 geomet-0.2.1.post1\n",
      "Note: you may need to restart the kernel to use updated packages.\n"
     ]
    }
   ],
   "source": [
    "pip install cassandra-driver"
   ]
  },
  {
   "cell_type": "code",
   "execution_count": null,
   "id": "48a9d9ec",
   "metadata": {},
   "outputs": [],
   "source": []
  },
  {
   "cell_type": "code",
   "execution_count": null,
   "id": "f614cc88",
   "metadata": {},
   "outputs": [],
   "source": []
  },
  {
   "cell_type": "code",
   "execution_count": null,
   "id": "62574a19",
   "metadata": {},
   "outputs": [],
   "source": []
  },
  {
   "cell_type": "code",
   "execution_count": null,
   "id": "56f2c8b0",
   "metadata": {},
   "outputs": [],
   "source": []
  }
 ],
 "metadata": {
  "kernelspec": {
   "display_name": "Python 3 (ipykernel)",
   "language": "python",
   "name": "python3"
  },
  "language_info": {
   "codemirror_mode": {
    "name": "ipython",
    "version": 3
   },
   "file_extension": ".py",
   "mimetype": "text/x-python",
   "name": "python",
   "nbconvert_exporter": "python",
   "pygments_lexer": "ipython3",
   "version": "3.9.7"
  }
 },
 "nbformat": 4,
 "nbformat_minor": 5
}
