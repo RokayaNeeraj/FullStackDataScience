{
 "cells": [
  {
   "cell_type": "markdown",
   "id": "2ab5646c",
   "metadata": {},
   "source": [
    "SQLite is used to develop embedded software for devices like televisions, cell phones, cameras, etc. It can manage low to medium-traffic HTTP requests. SQLite can change files into smaller size archives with lesser metadata. SQLite is used as a temporary dataset to get processed with some data within an application."
   ]
  },
  {
   "cell_type": "code",
   "execution_count": 1,
   "id": "d6b57612",
   "metadata": {},
   "outputs": [],
   "source": [
    "import sqlite3"
   ]
  },
  {
   "cell_type": "code",
   "execution_count": 3,
   "id": "b0df7bd5",
   "metadata": {},
   "outputs": [],
   "source": [
    "db = sqlite3.connect(\"ineuron.db\")"
   ]
  },
  {
   "cell_type": "code",
   "execution_count": 4,
   "id": "12ff099e",
   "metadata": {},
   "outputs": [
    {
     "name": "stdout",
     "output_type": "stream",
     "text": [
      " Volume in drive C has no label.\n",
      " Volume Serial Number is 8A66-F804\n",
      "\n",
      " Directory of C:\\Users\\Rokaya Neeraj\\Full Stack Data Science\\Python\\SQL And Not only SQL(NOSQL)\\SQL\n",
      "\n",
      "03/27/2022  11:24 AM    <DIR>          .\n",
      "03/27/2022  11:24 AM    <DIR>          ..\n",
      "03/27/2022  11:15 AM    <DIR>          .ipynb_checkpoints\n",
      "03/27/2022  11:24 AM                 0 ineuron.db\n",
      "03/27/2022  11:06 AM    <DIR>          SQL\n",
      "03/27/2022  11:13 AM    <DIR>          SQL Lite\n",
      "03/27/2022  11:23 AM             1,475 SQL Lite.ipynb\n",
      "               2 File(s)          1,475 bytes\n",
      "               5 Dir(s)  18,764,115,968 bytes free\n"
     ]
    }
   ],
   "source": [
    "ls"
   ]
  },
  {
   "cell_type": "code",
   "execution_count": 5,
   "id": "0f492309",
   "metadata": {},
   "outputs": [],
   "source": [
    "c = db.cursor()"
   ]
  },
  {
   "cell_type": "code",
   "execution_count": 6,
   "id": "6bc9fa58",
   "metadata": {},
   "outputs": [
    {
     "data": {
      "text/plain": [
       "<sqlite3.Cursor at 0x1cd4e50de30>"
      ]
     },
     "execution_count": 6,
     "metadata": {},
     "output_type": "execute_result"
    }
   ],
   "source": [
    "c.execute('create table fsds(name text,beatchid, marks real)')"
   ]
  },
  {
   "cell_type": "code",
   "execution_count": 7,
   "id": "549c01f9",
   "metadata": {},
   "outputs": [
    {
     "name": "stdout",
     "output_type": "stream",
     "text": [
      " Volume in drive C has no label.\n",
      " Volume Serial Number is 8A66-F804\n",
      "\n",
      " Directory of C:\\Users\\Rokaya Neeraj\\Full Stack Data Science\\Python\\SQL And Not only SQL(NOSQL)\\SQL\n",
      "\n",
      "03/27/2022  11:36 AM    <DIR>          .\n",
      "03/27/2022  11:36 AM    <DIR>          ..\n",
      "03/27/2022  11:15 AM    <DIR>          .ipynb_checkpoints\n",
      "03/27/2022  11:36 AM             8,192 ineuron.db\n",
      "03/27/2022  11:06 AM    <DIR>          SQL\n",
      "03/27/2022  11:25 AM    <DIR>          SQL Lite\n",
      "03/27/2022  11:35 AM             3,249 SQL Lite.ipynb\n",
      "               2 File(s)         11,441 bytes\n",
      "               5 Dir(s)  18,767,622,144 bytes free\n"
     ]
    }
   ],
   "source": [
    "ls"
   ]
  },
  {
   "cell_type": "code",
   "execution_count": 8,
   "id": "a799ebe5",
   "metadata": {},
   "outputs": [
    {
     "data": {
      "text/plain": [
       "<sqlite3.Cursor at 0x1cd4e50de30>"
      ]
     },
     "execution_count": 8,
     "metadata": {},
     "output_type": "execute_result"
    }
   ],
   "source": [
    "c.execute(\"insert into fsds values('sudh', 432, 432.67)\")"
   ]
  },
  {
   "cell_type": "code",
   "execution_count": 9,
   "id": "c0e76991",
   "metadata": {},
   "outputs": [
    {
     "name": "stdout",
     "output_type": "stream",
     "text": [
      " Volume in drive C has no label.\n",
      " Volume Serial Number is 8A66-F804\n",
      "\n",
      " Directory of C:\\Users\\Rokaya Neeraj\\Full Stack Data Science\\Python\\SQL And Not only SQL(NOSQL)\\SQL\n",
      "\n",
      "03/27/2022  11:37 AM    <DIR>          .\n",
      "03/27/2022  11:37 AM    <DIR>          ..\n",
      "03/27/2022  11:15 AM    <DIR>          .ipynb_checkpoints\n",
      "03/27/2022  11:36 AM             8,192 ineuron.db\n",
      "03/27/2022  11:37 AM                 0 ineuron.db-journal\n",
      "03/27/2022  11:06 AM    <DIR>          SQL\n",
      "03/27/2022  11:25 AM    <DIR>          SQL Lite\n",
      "03/27/2022  11:37 AM             4,354 SQL Lite.ipynb\n",
      "               3 File(s)         12,546 bytes\n",
      "               5 Dir(s)  18,764,394,496 bytes free\n"
     ]
    }
   ],
   "source": [
    "ls"
   ]
  },
  {
   "cell_type": "code",
   "execution_count": 10,
   "id": "a44ed112",
   "metadata": {},
   "outputs": [
    {
     "data": {
      "text/plain": [
       "<sqlite3.Cursor at 0x1cd4e50de30>"
      ]
     },
     "execution_count": 10,
     "metadata": {},
     "output_type": "execute_result"
    }
   ],
   "source": [
    "c.execute(\"insert into fsds values('sudh', 432, 432.67)\")\n",
    "c.execute(\"insert into fsds values('sudh', 432, 432.67)\")\n",
    "c.execute(\"insert into fsds values('sudh', 432, 432.67)\")\n",
    "c.execute(\"insert into fsds values('sudh', 432, 432.67)\")\n",
    "c.execute(\"insert into fsds values('sudh', 432, 432.67)\")\n",
    "c.execute(\"insert into fsds values('sudh', 432, 432.67)\")\n",
    "c.execute(\"insert into fsds values('sudh', 432, 432.67)\")\n",
    "c.execute(\"insert into fsds values('sudh', 432, 432.67)\")"
   ]
  },
  {
   "cell_type": "code",
   "execution_count": 12,
   "id": "5ecaa8f5",
   "metadata": {},
   "outputs": [],
   "source": [
    "data = c.execute(\"select * from fsds\")"
   ]
  },
  {
   "cell_type": "code",
   "execution_count": 13,
   "id": "f037af1d",
   "metadata": {},
   "outputs": [
    {
     "name": "stdout",
     "output_type": "stream",
     "text": [
      "('sudh', 432, 432.67)\n",
      "('sudh', 432, 432.67)\n",
      "('sudh', 432, 432.67)\n",
      "('sudh', 432, 432.67)\n",
      "('sudh', 432, 432.67)\n",
      "('sudh', 432, 432.67)\n",
      "('sudh', 432, 432.67)\n",
      "('sudh', 432, 432.67)\n",
      "('sudh', 432, 432.67)\n"
     ]
    }
   ],
   "source": [
    "for i in data:\n",
    "    print(i)"
   ]
  },
  {
   "cell_type": "code",
   "execution_count": 14,
   "id": "38fdf70c",
   "metadata": {},
   "outputs": [],
   "source": [
    "db.commit() # changing the values permanently"
   ]
  },
  {
   "cell_type": "code",
   "execution_count": 15,
   "id": "cded7ee1",
   "metadata": {},
   "outputs": [],
   "source": [
    "db.close() #closing the database"
   ]
  },
  {
   "cell_type": "code",
   "execution_count": 16,
   "id": "19f5d5fc",
   "metadata": {},
   "outputs": [
    {
     "name": "stdout",
     "output_type": "stream",
     "text": [
      " Volume in drive C has no label.\n",
      " Volume Serial Number is 8A66-F804\n",
      "\n",
      " Directory of C:\\Users\\Rokaya Neeraj\\Full Stack Data Science\\Python\\SQL And Not only SQL(NOSQL)\\SQL\n",
      "\n",
      "03/27/2022  11:43 AM    <DIR>          .\n",
      "03/27/2022  11:43 AM    <DIR>          ..\n",
      "03/27/2022  11:15 AM    <DIR>          .ipynb_checkpoints\n",
      "03/27/2022  11:41 AM             8,192 ineuron.db\n",
      "03/27/2022  11:06 AM    <DIR>          SQL\n",
      "03/27/2022  11:25 AM    <DIR>          SQL Lite\n",
      "03/27/2022  11:43 AM             7,851 SQL Lite.ipynb\n",
      "               2 File(s)         16,043 bytes\n",
      "               5 Dir(s)  18,770,063,360 bytes free\n"
     ]
    }
   ],
   "source": [
    "ls"
   ]
  },
  {
   "cell_type": "code",
   "execution_count": 24,
   "id": "67a0b3ed",
   "metadata": {},
   "outputs": [],
   "source": [
    "db = sqlite3.connect(\"ineuron.db\") # connection with the previously created database"
   ]
  },
  {
   "cell_type": "code",
   "execution_count": 25,
   "id": "53514bff",
   "metadata": {},
   "outputs": [],
   "source": [
    "c  = db.cursor() #we need to create cursor object everytime when we start the connection"
   ]
  },
  {
   "cell_type": "code",
   "execution_count": 27,
   "id": "92a1faf2",
   "metadata": {},
   "outputs": [],
   "source": [
    "data = c.execute(\"select * from fsds where marks > 400\")"
   ]
  },
  {
   "cell_type": "code",
   "execution_count": 28,
   "id": "8933ee6b",
   "metadata": {},
   "outputs": [
    {
     "name": "stdout",
     "output_type": "stream",
     "text": [
      "('sudh', 432, 432.67)\n",
      "('sudh', 432, 432.67)\n",
      "('sudh', 432, 432.67)\n",
      "('sudh', 432, 432.67)\n",
      "('sudh', 432, 432.67)\n",
      "('sudh', 432, 432.67)\n",
      "('sudh', 432, 432.67)\n",
      "('sudh', 432, 432.67)\n",
      "('sudh', 432, 432.67)\n"
     ]
    }
   ],
   "source": [
    "for i in data:\n",
    "    print(i)"
   ]
  },
  {
   "cell_type": "code",
   "execution_count": 29,
   "id": "44c27241",
   "metadata": {},
   "outputs": [],
   "source": [
    "data = c.execute(\"select * from fsds where name = 'sudh'\")"
   ]
  },
  {
   "cell_type": "code",
   "execution_count": 31,
   "id": "1642ef76",
   "metadata": {},
   "outputs": [
    {
     "name": "stdout",
     "output_type": "stream",
     "text": [
      "('sudh', 432, 432.67)\n",
      "('sudh', 432, 432.67)\n",
      "('sudh', 432, 432.67)\n",
      "('sudh', 432, 432.67)\n",
      "('sudh', 432, 432.67)\n",
      "('sudh', 432, 432.67)\n",
      "('sudh', 432, 432.67)\n",
      "('sudh', 432, 432.67)\n",
      "('sudh', 432, 432.67)\n"
     ]
    }
   ],
   "source": [
    "for i in data:\n",
    "    print(i)"
   ]
  },
  {
   "cell_type": "code",
   "execution_count": 32,
   "id": "caf47a53",
   "metadata": {},
   "outputs": [],
   "source": [
    "data = c.execute(\"select name,marks from fsds where name = 'sudh'\")"
   ]
  },
  {
   "cell_type": "code",
   "execution_count": 33,
   "id": "7f7ab23e",
   "metadata": {},
   "outputs": [
    {
     "name": "stdout",
     "output_type": "stream",
     "text": [
      "('sudh', 432.67)\n",
      "('sudh', 432.67)\n",
      "('sudh', 432.67)\n",
      "('sudh', 432.67)\n",
      "('sudh', 432.67)\n",
      "('sudh', 432.67)\n",
      "('sudh', 432.67)\n",
      "('sudh', 432.67)\n",
      "('sudh', 432.67)\n"
     ]
    }
   ],
   "source": [
    "for i in data:\n",
    "    print(i)"
   ]
  },
  {
   "cell_type": "code",
   "execution_count": 34,
   "id": "b91c4619",
   "metadata": {},
   "outputs": [
    {
     "data": {
      "text/plain": [
       "<sqlite3.Cursor at 0x1cd4e53d110>"
      ]
     },
     "execution_count": 34,
     "metadata": {},
     "output_type": "execute_result"
    }
   ],
   "source": [
    "c.execute(\"drop table fsds\")"
   ]
  },
  {
   "cell_type": "code",
   "execution_count": 47,
   "id": "2454994b",
   "metadata": {},
   "outputs": [
    {
     "ename": "OperationalError",
     "evalue": "no such table: fsds",
     "output_type": "error",
     "traceback": [
      "\u001b[1;31m---------------------------------------------------------------------------\u001b[0m",
      "\u001b[1;31mOperationalError\u001b[0m                          Traceback (most recent call last)",
      "\u001b[1;32mC:\\Users\\ROKAYA~1\\AppData\\Local\\Temp/ipykernel_8964/3504368798.py\u001b[0m in \u001b[0;36m<module>\u001b[1;34m\u001b[0m\n\u001b[1;32m----> 1\u001b[1;33m \u001b[0mc\u001b[0m\u001b[1;33m.\u001b[0m\u001b[0mexecute\u001b[0m\u001b[1;33m(\u001b[0m\u001b[1;34m\"select * from fsds\"\u001b[0m\u001b[1;33m)\u001b[0m \u001b[1;31m#Note: there is no drop database command in sqlite\u001b[0m\u001b[1;33m\u001b[0m\u001b[1;33m\u001b[0m\u001b[0m\n\u001b[0m",
      "\u001b[1;31mOperationalError\u001b[0m: no such table: fsds"
     ]
    }
   ],
   "source": [
    "c.execute(\"select * from fsds\") #Note: there is no drop database command in sqlite"
   ]
  },
  {
   "cell_type": "code",
   "execution_count": 48,
   "id": "f40a58e7",
   "metadata": {},
   "outputs": [],
   "source": [
    "db.close()"
   ]
  },
  {
   "cell_type": "code",
   "execution_count": 2,
   "id": "5894889d",
   "metadata": {},
   "outputs": [],
   "source": [
    "import sqlite3"
   ]
  },
  {
   "cell_type": "code",
   "execution_count": 3,
   "id": "6d2ebf39",
   "metadata": {},
   "outputs": [],
   "source": [
    "db = sqlite3.connect(\"jobdb.db\")"
   ]
  },
  {
   "cell_type": "code",
   "execution_count": 4,
   "id": "12bf5ef4",
   "metadata": {},
   "outputs": [],
   "source": [
    "c = db.cursor()"
   ]
  },
  {
   "cell_type": "code",
   "execution_count": 5,
   "id": "464c258f",
   "metadata": {},
   "outputs": [
    {
     "data": {
      "text/plain": [
       "<sqlite3.Cursor at 0x14a07251c00>"
      ]
     },
     "execution_count": 5,
     "metadata": {},
     "output_type": "execute_result"
    }
   ],
   "source": [
    "c.execute(\"create table students(student_id int, student_name varchar, student_mailid varchar, marks int)\")"
   ]
  },
  {
   "cell_type": "code",
   "execution_count": 6,
   "id": "9d458b40",
   "metadata": {},
   "outputs": [
    {
     "data": {
      "text/plain": [
       "<sqlite3.Cursor at 0x14a07251c00>"
      ]
     },
     "execution_count": 6,
     "metadata": {},
     "output_type": "execute_result"
    }
   ],
   "source": [
    "c.execute(\"create table addresses(student_id int, pincode int, location varchar, reference_place varchar, phone_no int)\")"
   ]
  },
  {
   "cell_type": "code",
   "execution_count": 7,
   "id": "e82e9779",
   "metadata": {},
   "outputs": [
    {
     "data": {
      "text/plain": [
       "<sqlite3.Cursor at 0x14a07251c00>"
      ]
     },
     "execution_count": 7,
     "metadata": {},
     "output_type": "execute_result"
    }
   ],
   "source": [
    "c.execute(\"insert into students values(1,'niraj','rokayaneeraj@gmail.com',99)\")\n",
    "c.execute(\"insert into students values(2,'pradip','rokayap@gmail.com',91)\")\n",
    "c.execute(\"insert into students values(3,'samir','samir07@gmail.com',82)\")\n",
    "c.execute(\"insert into students values(4,'rajesh','rajesh.dongol999@gmail.com',65)\")"
   ]
  },
  {
   "cell_type": "code",
   "execution_count": 8,
   "id": "b5cc24cf",
   "metadata": {},
   "outputs": [
    {
     "data": {
      "text/plain": [
       "<sqlite3.Cursor at 0x14a07251c00>"
      ]
     },
     "execution_count": 8,
     "metadata": {},
     "output_type": "execute_result"
    }
   ],
   "source": [
    "c.execute(\"insert into addresses values(3,44600, 'dabali','bhatbhateni',984385955)\")\n",
    "c.execute(\"insert into addresses values(1,44600, 'hadigaun','thatumarg',9843008614)\")\n",
    "c.execute(\"insert into addresses values(2,44600, 'baluwatar','shitalniwas',9860652613)\")\n",
    "c.execute(\"insert into addresses values(4,44600, 'gahanapokhari','workshop',9843400278)\")\n",
    "c.execute(\"insert into addresses values(45,40, 'gaapokhari','worksp',9840027756768)\")\n",
    "c.execute(\"insert into addresses values(64,44600, 'gahanapokh','wkshop',98434002765678)\")\n",
    "c.execute(\"insert into addresses values(47,44600, 'gahapokhari','orkshop',984340027867856746)\")\n",
    "c.execute(\"insert into addresses values(49,44600, 'gahanapokhari','worksop',98434002776568)\")\n",
    "c.execute(\"insert into addresses values(14,44600, 'gahanahari','workshop',98434002787658)\")\n",
    "c.execute(\"insert into addresses values(24,44600, 'gahanaokhari','wor',9843400278654)\")\n",
    "c.execute(\"insert into addresses values(44,44600, 'gahaapokhari','work',984340042378)\")\n",
    "c.execute(\"insert into addresses values(54,44600, 'gahapokhari','workp',984423378)\")\n"
   ]
  },
  {
   "cell_type": "code",
   "execution_count": 9,
   "id": "7c93ef8d",
   "metadata": {},
   "outputs": [
    {
     "name": "stdout",
     "output_type": "stream",
     "text": [
      "(1, 'niraj', 'rokayaneeraj@gmail.com', 99)\n",
      "(2, 'pradip', 'rokayap@gmail.com', 91)\n",
      "(3, 'samir', 'samir07@gmail.com', 82)\n",
      "(4, 'rajesh', 'rajesh.dongol999@gmail.com', 65)\n"
     ]
    }
   ],
   "source": [
    "one = c.execute(\"select * from students\")\n",
    "for i in one:\n",
    "    print(i)"
   ]
  },
  {
   "cell_type": "code",
   "execution_count": 10,
   "id": "f3c7d5ee",
   "metadata": {},
   "outputs": [
    {
     "name": "stdout",
     "output_type": "stream",
     "text": [
      "(3, 44600, 'dabali', 'bhatbhateni', 984385955)\n",
      "(1, 44600, 'hadigaun', 'thatumarg', 9843008614)\n",
      "(2, 44600, 'baluwatar', 'shitalniwas', 9860652613)\n",
      "(4, 44600, 'gahanapokhari', 'workshop', 9843400278)\n",
      "(45, 40, 'gaapokhari', 'worksp', 9840027756768)\n",
      "(64, 44600, 'gahanapokh', 'wkshop', 98434002765678)\n",
      "(47, 44600, 'gahapokhari', 'orkshop', 984340027867856746)\n",
      "(49, 44600, 'gahanapokhari', 'worksop', 98434002776568)\n",
      "(14, 44600, 'gahanahari', 'workshop', 98434002787658)\n",
      "(24, 44600, 'gahanaokhari', 'wor', 9843400278654)\n",
      "(44, 44600, 'gahaapokhari', 'work', 984340042378)\n",
      "(54, 44600, 'gahapokhari', 'workp', 984423378)\n"
     ]
    }
   ],
   "source": [
    "two = c.execute(\"select * from addresses\")\n",
    "for i in two:\n",
    "    print(i)"
   ]
  },
  {
   "cell_type": "code",
   "execution_count": 11,
   "id": "bb433747",
   "metadata": {},
   "outputs": [
    {
     "name": "stdout",
     "output_type": "stream",
     "text": [
      "(1, 'niraj', 'rokayaneeraj@gmail.com', 99, 1, 44600, 'hadigaun', 'thatumarg', 9843008614)\n",
      "(2, 'pradip', 'rokayap@gmail.com', 91, 2, 44600, 'baluwatar', 'shitalniwas', 9860652613)\n",
      "(3, 'samir', 'samir07@gmail.com', 82, 3, 44600, 'dabali', 'bhatbhateni', 984385955)\n",
      "(4, 'rajesh', 'rajesh.dongol999@gmail.com', 65, 4, 44600, 'gahanapokhari', 'workshop', 9843400278)\n"
     ]
    }
   ],
   "source": [
    "for i in c.execute(\"select * from students left join addresses on students.student_id = addresses.student_id\"):\n",
    "    print(i)"
   ]
  },
  {
   "cell_type": "code",
   "execution_count": 12,
   "id": "811bdf9c",
   "metadata": {},
   "outputs": [
    {
     "name": "stdout",
     "output_type": "stream",
     "text": [
      "(1, 'niraj', 'rokayaneeraj@gmail.com', 99, 1, 44600, 'hadigaun', 'thatumarg', 9843008614)\n",
      "(2, 'pradip', 'rokayap@gmail.com', 91, 2, 44600, 'baluwatar', 'shitalniwas', 9860652613)\n",
      "(3, 'samir', 'samir07@gmail.com', 82, 3, 44600, 'dabali', 'bhatbhateni', 984385955)\n",
      "(4, 'rajesh', 'rajesh.dongol999@gmail.com', 65, 4, 44600, 'gahanapokhari', 'workshop', 9843400278)\n"
     ]
    }
   ],
   "source": [
    "for i in c.execute(\"select * from students inner join addresses on students.student_id = addresses.student_id\"):\n",
    "    print(i)"
   ]
  },
  {
   "cell_type": "code",
   "execution_count": 13,
   "id": "4c7ffe0b",
   "metadata": {},
   "outputs": [
    {
     "ename": "OperationalError",
     "evalue": "RIGHT and FULL OUTER JOINs are not currently supported",
     "output_type": "error",
     "traceback": [
      "\u001b[1;31m---------------------------------------------------------------------------\u001b[0m",
      "\u001b[1;31mOperationalError\u001b[0m                          Traceback (most recent call last)",
      "\u001b[1;32mC:\\Users\\ROKAYA~1\\AppData\\Local\\Temp/ipykernel_5928/514917840.py\u001b[0m in \u001b[0;36m<module>\u001b[1;34m\u001b[0m\n\u001b[1;32m----> 1\u001b[1;33m \u001b[1;32mfor\u001b[0m \u001b[0mi\u001b[0m \u001b[1;32min\u001b[0m \u001b[0mc\u001b[0m\u001b[1;33m.\u001b[0m\u001b[0mexecute\u001b[0m\u001b[1;33m(\u001b[0m\u001b[1;34m\"select * from students right join addresses on students.student_id = addresses.student_id\"\u001b[0m\u001b[1;33m)\u001b[0m\u001b[1;33m:\u001b[0m\u001b[1;33m\u001b[0m\u001b[1;33m\u001b[0m\u001b[0m\n\u001b[0m\u001b[0;32m      2\u001b[0m     \u001b[0mprint\u001b[0m\u001b[1;33m(\u001b[0m\u001b[0mi\u001b[0m\u001b[1;33m)\u001b[0m\u001b[1;33m\u001b[0m\u001b[1;33m\u001b[0m\u001b[0m\n",
      "\u001b[1;31mOperationalError\u001b[0m: RIGHT and FULL OUTER JOINs are not currently supported"
     ]
    }
   ],
   "source": [
    "for i in c.execute(\"select * from students right join addresses on students.student_id = addresses.student_id\"):\n",
    "    print(i)"
   ]
  },
  {
   "cell_type": "code",
   "execution_count": 14,
   "id": "273de2b6",
   "metadata": {},
   "outputs": [
    {
     "name": "stdout",
     "output_type": "stream",
     "text": [
      "(45, 40, 'gaapokhari', 'worksp', 9840027756768)\n",
      "(64, 44600, 'gahanapokh', 'wkshop', 98434002765678)\n",
      "(47, 44600, 'gahapokhari', 'orkshop', 984340027867856746)\n",
      "(49, 44600, 'gahanapokhari', 'worksop', 98434002776568)\n",
      "(14, 44600, 'gahanahari', 'workshop', 98434002787658)\n",
      "(24, 44600, 'gahanaokhari', 'wor', 9843400278654)\n",
      "(44, 44600, 'gahaapokhari', 'work', 984340042378)\n",
      "(54, 44600, 'gahapokhari', 'workp', 984423378)\n"
     ]
    }
   ],
   "source": [
    "for i in c.execute(\"select * from addresses where student_id > 4 \"):\n",
    "    print(i)"
   ]
  },
  {
   "cell_type": "code",
   "execution_count": 15,
   "id": "ca8763b1",
   "metadata": {},
   "outputs": [
    {
     "data": {
      "text/plain": [
       "[(1, 'niraj', 'rokayaneeraj@gmail.com', 99),\n",
       " (2, 'pradip', 'rokayap@gmail.com', 91),\n",
       " (3, 'samir', 'samir07@gmail.com', 82),\n",
       " (4, 'rajesh', 'rajesh.dongol999@gmail.com', 65)]"
      ]
     },
     "execution_count": 15,
     "metadata": {},
     "output_type": "execute_result"
    }
   ],
   "source": [
    "data = c.execute('select * from students')\n",
    "data.fetchall()"
   ]
  },
  {
   "cell_type": "code",
   "execution_count": 16,
   "id": "35654b0c",
   "metadata": {},
   "outputs": [
    {
     "data": {
      "text/plain": [
       "[]"
      ]
     },
     "execution_count": 16,
     "metadata": {},
     "output_type": "execute_result"
    }
   ],
   "source": [
    "new = c.execute(\"update addresses set pincode = 44600 where pincode = 40\")\n",
    "new.fetchall()"
   ]
  },
  {
   "cell_type": "code",
   "execution_count": 17,
   "id": "3422b412",
   "metadata": {},
   "outputs": [
    {
     "data": {
      "text/plain": [
       "[(3, 44600, 'dabali', 'bhatbhateni', 984385955),\n",
       " (1, 44600, 'hadigaun', 'thatumarg', 9843008614),\n",
       " (2, 44600, 'baluwatar', 'shitalniwas', 9860652613),\n",
       " (4, 44600, 'gahanapokhari', 'workshop', 9843400278),\n",
       " (45, 44600, 'gaapokhari', 'worksp', 9840027756768),\n",
       " (64, 44600, 'gahanapokh', 'wkshop', 98434002765678),\n",
       " (47, 44600, 'gahapokhari', 'orkshop', 984340027867856746),\n",
       " (49, 44600, 'gahanapokhari', 'worksop', 98434002776568),\n",
       " (14, 44600, 'gahanahari', 'workshop', 98434002787658),\n",
       " (24, 44600, 'gahanaokhari', 'wor', 9843400278654),\n",
       " (44, 44600, 'gahaapokhari', 'work', 984340042378),\n",
       " (54, 44600, 'gahapokhari', 'workp', 984423378)]"
      ]
     },
     "execution_count": 17,
     "metadata": {},
     "output_type": "execute_result"
    }
   ],
   "source": [
    "add = c.execute('select * from addresses')\n",
    "add.fetchall()"
   ]
  },
  {
   "cell_type": "code",
   "execution_count": 18,
   "id": "8a8f5261",
   "metadata": {},
   "outputs": [],
   "source": [
    "db.close()"
   ]
  },
  {
   "cell_type": "code",
   "execution_count": null,
   "id": "c0600175",
   "metadata": {},
   "outputs": [],
   "source": []
  },
  {
   "cell_type": "code",
   "execution_count": null,
   "id": "553d4d9d",
   "metadata": {},
   "outputs": [],
   "source": []
  }
 ],
 "metadata": {
  "kernelspec": {
   "display_name": "Python 3 (ipykernel)",
   "language": "python",
   "name": "python3"
  },
  "language_info": {
   "codemirror_mode": {
    "name": "ipython",
    "version": 3
   },
   "file_extension": ".py",
   "mimetype": "text/x-python",
   "name": "python",
   "nbconvert_exporter": "python",
   "pygments_lexer": "ipython3",
   "version": "3.9.7"
  }
 },
 "nbformat": 4,
 "nbformat_minor": 5
}
