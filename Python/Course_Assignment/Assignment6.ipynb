{
 "cells": [
  {
   "cell_type": "markdown",
   "id": "1092468c",
   "metadata": {},
   "source": [
    "### 1. What are escape characters, and how do you use them?\n"
   ]
  },
  {
   "cell_type": "code",
   "execution_count": null,
   "id": "f2bb2cdc",
   "metadata": {},
   "outputs": [],
   "source": [
    "To insert characters that are illegal in a string, use an escape character. An escape character is a backslash \\ followed\n",
    "by the character you want to insert."
   ]
  },
  {
   "cell_type": "markdown",
   "id": "1e2b042b",
   "metadata": {},
   "source": [
    "### 2. What do the escape characters n and t stand for?\n"
   ]
  },
  {
   "cell_type": "code",
   "execution_count": null,
   "id": "b493d480",
   "metadata": {},
   "outputs": [],
   "source": [
    "Escape characters n stands for new line and t stands for tab."
   ]
  },
  {
   "cell_type": "markdown",
   "id": "5072b79c",
   "metadata": {},
   "source": [
    "### 3. What is the way to include backslash characters in a string?\n"
   ]
  },
  {
   "cell_type": "code",
   "execution_count": 1,
   "id": "bc13b297",
   "metadata": {},
   "outputs": [],
   "source": [
    "\"\\\\string\" can be used to include backslash characters in  a string. "
   ]
  },
  {
   "cell_type": "markdown",
   "id": "d59f9468",
   "metadata": {},
   "source": [
    "### 4. The string \"Howl's Moving Castle\" is a correct value. Why isn't the single quote character in the word Howl's not escaped a problem?\n"
   ]
  },
  {
   "cell_type": "code",
   "execution_count": null,
   "id": "a436a9e5",
   "metadata": {},
   "outputs": [],
   "source": [
    "The string \"Howl's Moving Castle\" is a correct value and the single quote character in the word Howl's not escaped a problem\n",
    "because we have used double quotes to mark the beginning and end of the string."
   ]
  },
  {
   "cell_type": "markdown",
   "id": "ecc65f95",
   "metadata": {},
   "source": [
    "### 5. How do you write a string of newlines if you don't want to use the n character?"
   ]
  },
  {
   "cell_type": "code",
   "execution_count": null,
   "id": "5bf83807",
   "metadata": {},
   "outputs": [],
   "source": [
    "We can print strings without adding a new line with end = <character>, which <character> is the character that will be\n",
    "used to separate the lines."
   ]
  },
  {
   "cell_type": "markdown",
   "id": "d2b2e875",
   "metadata": {},
   "source": [
    "### 6. What are the values of the given expressions?\n",
    "'Hello, world!'[1]\n",
    "\n",
    "'Hello, world!'[0:5]\n",
    "\n",
    "'Hello, world!'[:5]\n",
    "\n",
    "'Hello, world!'[3:]"
   ]
  },
  {
   "cell_type": "code",
   "execution_count": 3,
   "id": "94c17dca",
   "metadata": {},
   "outputs": [
    {
     "data": {
      "text/plain": [
       "'e'"
      ]
     },
     "execution_count": 3,
     "metadata": {},
     "output_type": "execute_result"
    }
   ],
   "source": [
    "\"Hello,world!\"[1] will return the character at second index i.e 'e'."
   ]
  },
  {
   "cell_type": "code",
   "execution_count": 4,
   "id": "fa6fb04a",
   "metadata": {},
   "outputs": [
    {
     "data": {
      "text/plain": [
       "'Hello'"
      ]
     },
     "execution_count": 4,
     "metadata": {},
     "output_type": "execute_result"
    }
   ],
   "source": [
    "'Hello, world!'[0:5] will slice the string staring from 0th index to the 5th index and will print 'Hello'."
   ]
  },
  {
   "cell_type": "code",
   "execution_count": 5,
   "id": "f1549571",
   "metadata": {},
   "outputs": [
    {
     "data": {
      "text/plain": [
       "'Hello'"
      ]
     },
     "execution_count": 5,
     "metadata": {},
     "output_type": "execute_result"
    }
   ],
   "source": [
    "'Hello, world!'[:5] will slice the string staring from 0th index to the 5th index and will print 'Hello'."
   ]
  },
  {
   "cell_type": "code",
   "execution_count": 6,
   "id": "5106a5f6",
   "metadata": {},
   "outputs": [
    {
     "data": {
      "text/plain": [
       "'lo, world!'"
      ]
     },
     "execution_count": 6,
     "metadata": {},
     "output_type": "execute_result"
    }
   ],
   "source": [
    "'Hello, world!'[3:] will slice the string from third index to the last index and will print 'lo. world!''"
   ]
  },
  {
   "cell_type": "markdown",
   "id": "d80c58ce",
   "metadata": {},
   "source": [
    "### 7. What are the values of the following expressions?\n",
    "'Hello'.upper()\n",
    "\n",
    "'Hello'.upper().isupper()\n",
    "\n",
    "'Hello'.upper().lower()"
   ]
  },
  {
   "cell_type": "code",
   "execution_count": 8,
   "id": "217d1ec5",
   "metadata": {},
   "outputs": [
    {
     "data": {
      "text/plain": [
       "'HELLO'"
      ]
     },
     "execution_count": 8,
     "metadata": {},
     "output_type": "execute_result"
    }
   ],
   "source": [
    "'Hello'.upper() will change the lowercase letters to the uppercase and will print 'HELLO'."
   ]
  },
  {
   "cell_type": "code",
   "execution_count": 9,
   "id": "eca675fe",
   "metadata": {},
   "outputs": [
    {
     "data": {
      "text/plain": [
       "True"
      ]
     },
     "execution_count": 9,
     "metadata": {},
     "output_type": "execute_result"
    }
   ],
   "source": [
    "'Hello'.upper().isupper() .Here, .upper() will first change 'Hello' to 'HELLO' and .isupper() will check if 'HELLO' is in\n",
    "uppercase or not.As, 'Hello' is changed to \"HELLO\", it will print True as the ouput."
   ]
  },
  {
   "cell_type": "code",
   "execution_count": 12,
   "id": "5935f160",
   "metadata": {},
   "outputs": [
    {
     "data": {
      "text/plain": [
       "'hello'"
      ]
     },
     "execution_count": 12,
     "metadata": {},
     "output_type": "execute_result"
    }
   ],
   "source": [
    "'Hello'.upper().lower() will first change 'Hello' to 'HELLO' and again, change 'HELLO' to 'hello' which is our output."
   ]
  },
  {
   "cell_type": "markdown",
   "id": "b7fcb468",
   "metadata": {},
   "source": [
    "### 8. What are the values of the following expressions?\n",
    "'Remember, remember, the fifth of July.'.split()\n",
    "\n",
    "'-'.join('There can only one.'.split())"
   ]
  },
  {
   "cell_type": "code",
   "execution_count": 15,
   "id": "45b65260",
   "metadata": {},
   "outputs": [
    {
     "data": {
      "text/plain": [
       "['Remember,', 'remember,', 'the', 'fifth', 'of', 'July.']"
      ]
     },
     "execution_count": 15,
     "metadata": {},
     "output_type": "execute_result"
    }
   ],
   "source": [
    "The values of the following expressions are ['Remember,', 'remember,', 'the', 'fifth', 'of', 'July.'] and 'There-can-only-one.'"
   ]
  },
  {
   "cell_type": "markdown",
   "id": "d375572a",
   "metadata": {},
   "source": [
    "### 9. What are the methods for right-justifying, left-justifying, and centering a string?\n"
   ]
  },
  {
   "cell_type": "code",
   "execution_count": null,
   "id": "31ab6a1a",
   "metadata": {},
   "outputs": [],
   "source": [
    "The rjust(), ljust(), and center() string methods, respectively are used for right-justifying, left-justifying, and\n",
    "centering a string."
   ]
  },
  {
   "cell_type": "markdown",
   "id": "fb9d1238",
   "metadata": {},
   "source": [
    "### 10. What is the best way to remove whitespace characters from the start or end?\n"
   ]
  },
  {
   "cell_type": "code",
   "execution_count": null,
   "id": "bcbb0adb",
   "metadata": {},
   "outputs": [],
   "source": [
    "The lstrip() and rstrip() methods remove whitespace from the left and right ends of a string, respectively."
   ]
  }
 ],
 "metadata": {
  "kernelspec": {
   "display_name": "Python 3 (ipykernel)",
   "language": "python",
   "name": "python3"
  },
  "language_info": {
   "codemirror_mode": {
    "name": "ipython",
    "version": 3
   },
   "file_extension": ".py",
   "mimetype": "text/x-python",
   "name": "python",
   "nbconvert_exporter": "python",
   "pygments_lexer": "ipython3",
   "version": "3.9.7"
  }
 },
 "nbformat": 4,
 "nbformat_minor": 5
}
