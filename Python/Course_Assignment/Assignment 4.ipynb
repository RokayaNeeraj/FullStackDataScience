{
 "cells": [
  {
   "cell_type": "markdown",
   "id": "c86af54c",
   "metadata": {},
   "source": [
    "### 1. What exactly is []?"
   ]
  },
  {
   "cell_type": "code",
   "execution_count": null,
   "id": "bbb95fe1",
   "metadata": {},
   "outputs": [],
   "source": [
    "Using () creates a tuple. Using [] creates a list\n",
    "Actually, both brackets are used in several contexts:\n",
    "\n",
    "() are used to:\n",
    "    \n",
    "1. call functions or methods: print(\"hello world\")\n",
    "2. to group expressions: print(3*(4+5))\n",
    "3. to construct (or deconstruct) tuples: a = (3,4)\n",
    "    \n",
    "while [] are used to:\n",
    "\n",
    "1. index specific items in a tuple or list (or in general, any sequence): print(a[1])\n",
    "2. construct/deconstruct lists: b = [3,4]"
   ]
  },
  {
   "cell_type": "markdown",
   "id": "d53934e4",
   "metadata": {},
   "source": [
    "### 2. In a list of values stored in a variable called spam, how would you assign the value 'hello' as the third value? (Assume [2, 4, 6, 8, 10] are in spam.)"
   ]
  },
  {
   "cell_type": "code",
   "execution_count": 2,
   "id": "90426eb7",
   "metadata": {},
   "outputs": [
    {
     "name": "stdout",
     "output_type": "stream",
     "text": [
      "[2, 4, 'hello', 8, 10]\n"
     ]
    }
   ],
   "source": [
    "spam[2] = 'hello' will replace 6 by 'hello'.Thus, spam will have 2, 4, 'hello', 8, 10 inside the list."
   ]
  },
  {
   "cell_type": "markdown",
   "id": "ffff19c7",
   "metadata": {},
   "source": [
    "### Let's pretend the spam includes the list ['a', 'b', 'c', 'd'] for the next three queries.\n",
    "\n",
    "### 3. What is the value of spam[int(int('3' * 2) / 11)]?\n"
   ]
  },
  {
   "cell_type": "code",
   "execution_count": null,
   "id": "101d24e4",
   "metadata": {},
   "outputs": [],
   "source": [
    "Here, '3' * 2 will return '33' will than will be converted to integer, 33. 33 will be divided by 11 and it will be integer.\n",
    "Now,finally,spam[3] will return the element in the third index i.e 'd'."
   ]
  },
  {
   "cell_type": "markdown",
   "id": "555e3666",
   "metadata": {},
   "source": [
    "### 4. What is the value of spam[-1]?\n"
   ]
  },
  {
   "cell_type": "code",
   "execution_count": null,
   "id": "5d39aff5",
   "metadata": {},
   "outputs": [],
   "source": [
    "spam[-1] will give us the last element i.e 'd'."
   ]
  },
  {
   "cell_type": "markdown",
   "id": "a7b0c7d2",
   "metadata": {},
   "source": [
    "### 5. What is the value of spam[:2]?"
   ]
  },
  {
   "cell_type": "code",
   "execution_count": null,
   "id": "571df78d",
   "metadata": {},
   "outputs": [],
   "source": [
    "spam[:2] will slices the spam list at the second index and thus prints ['a','b']."
   ]
  },
  {
   "cell_type": "markdown",
   "id": "dcd9082a",
   "metadata": {},
   "source": [
    "### Let's pretend bacon has the list [3.14, 'cat', 11, 'cat', True] for the next three questions.\n",
    "\n",
    "### 6. What is the value of bacon.index('cat')?\n"
   ]
  },
  {
   "cell_type": "code",
   "execution_count": null,
   "id": "a8baaa38",
   "metadata": {},
   "outputs": [],
   "source": [
    "bacon.index('cat') will return 1 which means 'cat' is present at index 1. This is the limitation of using index as it doesnt\n",
    "show 'cat' at index 3."
   ]
  },
  {
   "cell_type": "markdown",
   "id": "c2892a2d",
   "metadata": {},
   "source": [
    "### 7. How does bacon.append(99) change the look of the list value in bacon?\n"
   ]
  },
  {
   "cell_type": "code",
   "execution_count": null,
   "id": "26d74559",
   "metadata": {},
   "outputs": [],
   "source": [
    "bacon.append(99) will add the integer 99 to the end of the list.If we print bacon, our result will look like\n",
    "[3.14, 'cat', 11, 'cat', True, 99]."
   ]
  },
  {
   "cell_type": "markdown",
   "id": "240cd1a8",
   "metadata": {},
   "source": [
    "### 8. How does bacon.remove('cat') change the look of the list in bacon?\n"
   ]
  },
  {
   "cell_type": "code",
   "execution_count": null,
   "id": "cabbcd4c",
   "metadata": {},
   "outputs": [],
   "source": [
    "bacon.remove('cat') will remove the 'cat' at the index 1.If we print bacon, our result will look like [3.14, 11, 'cat', True]."
   ]
  },
  {
   "cell_type": "markdown",
   "id": "a66f98b0",
   "metadata": {},
   "source": [
    "### 9. What are the list concatenation and list replication operators?"
   ]
  },
  {
   "cell_type": "code",
   "execution_count": null,
   "id": "413abed1",
   "metadata": {},
   "outputs": [],
   "source": [
    "The operator for list concatenation is +, while the operator for replication is *. for example\n",
    "#List Concatination\n",
    "l1 = [1,2,3] #first list\n",
    "l2 = ['ram',4,'shyam'] #second list\n",
    "l3 = l1 + l2 #list concatination\n",
    "print(l3)\n",
    "[1,2,3,'ram',4,'shyam'] \n",
    "\n",
    "#list replication\n",
    "l1 = [1,2,'shyam','ram']\n",
    "l3 = l1 * 2 #replication of list\n",
    "print(l3) \n",
    "[1, 2, 'shyam', 'ram', 1, 2, 'shyam', 'ram'] #Output"
   ]
  },
  {
   "cell_type": "markdown",
   "id": "db67af6d",
   "metadata": {},
   "source": [
    "### 10. What is difference between the list methods append() and insert()?\n"
   ]
  },
  {
   "cell_type": "code",
   "execution_count": null,
   "id": "4780d24b",
   "metadata": {},
   "outputs": [],
   "source": [
    "Append can add elements only to the end of the list whereas using insert(), we can add elements to evey position as we like.\n",
    "for example if l1 = [1,2,3]\n",
    "l1.append('ram') will add ram to the end of the list l1.If we print l1, we can get [1,2,3,'ram'] as output.\n",
    "L1.insert(2,'shyam') will insert 'shyam' at index 2. If we print l1 again, we can get [1,2,'shyam',3,'ram'] as output."
   ]
  },
  {
   "cell_type": "markdown",
   "id": "c89708a0",
   "metadata": {},
   "source": [
    "### 11. What are the two methods for removing items from a list?\n"
   ]
  },
  {
   "cell_type": "code",
   "execution_count": null,
   "id": "4e448047",
   "metadata": {},
   "outputs": [],
   "source": [
    "The two methods for removing items from a list is by using pop and remove.For example:\n",
    "l1 = [1,2,3,'ram']\n",
    "# pop()\n",
    "l1.pop(-2) will pop second element from the end of the list.Thereforem,it will pop 3 from the list and our l1 is [1,2,'ram'].\n",
    "\n",
    "#remove()\n",
    "l1.remove(2) will remove 2 from the list. Therefore, our l1 will have [1,'ram']."
   ]
  },
  {
   "cell_type": "markdown",
   "id": "b36cd71e",
   "metadata": {},
   "source": [
    "### 12. Describe how list values and string values are identical."
   ]
  },
  {
   "cell_type": "code",
   "execution_count": null,
   "id": "d12e1351",
   "metadata": {},
   "outputs": [],
   "source": [
    "he similarity between Lists and Strings in Python is that both are sequences. The differences between them are that firstly,\n",
    "Lists are mutable but Strings are immutable. Secondly, elements of a list can be of different types whereas a String only \n",
    "contains characters that are all of String type."
   ]
  },
  {
   "cell_type": "markdown",
   "id": "7203fab8",
   "metadata": {},
   "source": [
    "### 13. What's the difference between tuples and lists?\n"
   ]
  },
  {
   "cell_type": "code",
   "execution_count": null,
   "id": "05288bff",
   "metadata": {},
   "outputs": [],
   "source": [
    "The syntax of tuples is parenthesis () whereas the syntax of lists is square brackets [] . \n",
    "Lists has variable length, tuple has fixed length.\n",
    "List has mutable nature, tuple has immutable nature."
   ]
  },
  {
   "cell_type": "markdown",
   "id": "5fee70c9",
   "metadata": {},
   "source": [
    "### 14. How do you type a tuple value that only contains the integer 42?"
   ]
  },
  {
   "cell_type": "code",
   "execution_count": 57,
   "id": "816dae40",
   "metadata": {},
   "outputs": [],
   "source": [
    "If we inititate, x = (42). The type of x will be 42. But, if we assign, x = (42,).The type of x will be tuple."
   ]
  },
  {
   "cell_type": "markdown",
   "id": "38e9a37b",
   "metadata": {},
   "source": [
    "### 15. How do you get a list value's tuple form? How do you get a tuple value's list form?"
   ]
  },
  {
   "cell_type": "code",
   "execution_count": null,
   "id": "73420095",
   "metadata": {},
   "outputs": [],
   "source": [
    "We get list value's tuple form by using.\n",
    "python -Create a tuple of lists\n",
    "\n",
    "We get tuple value's list form by following ways.\n",
    "Python – Create a List of Tuples\n",
    "Method 2: Using zip() function.\n",
    "Method 3: Using zip() and iter() method.\n",
    "Method 4: using map() function.\n",
    "Method 5: Using list comprehension and tuple() method."
   ]
  },
  {
   "cell_type": "markdown",
   "id": "27f5d089",
   "metadata": {},
   "source": [
    "### 16. Variables that \"contain\" list values are not necessarily lists themselves. Instead, what do they contain?"
   ]
  },
  {
   "cell_type": "code",
   "execution_count": null,
   "id": "15f6b8e2",
   "metadata": {},
   "outputs": [],
   "source": [
    "Variables will contain references to list values rather than list values themselves. But for strings and integer values,\n",
    "variables simply contain the string or integer value."
   ]
  },
  {
   "cell_type": "markdown",
   "id": "7cbfb956",
   "metadata": {},
   "source": [
    "### 17. How do you distinguish between copy.copy() and copy.deepcopy()?"
   ]
  },
  {
   "cell_type": "code",
   "execution_count": null,
   "id": "3ceb48eb",
   "metadata": {},
   "outputs": [],
   "source": [
    "copy.copy() is a shallow copy.A shallow copy means constructing a new collection object and then populating it with references \n",
    "to the child objects found in the original. The copying process does not recurse and therefore won’t create copies of the child\n",
    "objects themselves.In case of shallow copy, a reference of object is copied in other object. It means that any changes made to \n",
    "a copy of object do reflect in the original object. In python, this is implemented using “copy()” function.\n",
    "\n",
    "copy.deepcopy() is a deep copy.Deep copy is a process in which the copying process occurs recursively. It means first\n",
    "constructing a new collection object and then recursively populating it with copies of the child objects found in the original.\n",
    "In case of deep copy, a copy of object is copied in other object. It means that any changes made to a copy of object do not \n",
    "reflect in the original object.In python, this is implemented using “deepcopy()” function."
   ]
  }
 ],
 "metadata": {
  "kernelspec": {
   "display_name": "Python 3 (ipykernel)",
   "language": "python",
   "name": "python3"
  },
  "language_info": {
   "codemirror_mode": {
    "name": "ipython",
    "version": 3
   },
   "file_extension": ".py",
   "mimetype": "text/x-python",
   "name": "python",
   "nbconvert_exporter": "python",
   "pygments_lexer": "ipython3",
   "version": "3.9.7"
  }
 },
 "nbformat": 4,
 "nbformat_minor": 5
}
