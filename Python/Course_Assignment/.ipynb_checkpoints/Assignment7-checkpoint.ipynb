{
 "cells": [
  {
   "cell_type": "markdown",
   "id": "3caaa4fb",
   "metadata": {},
   "source": [
    "### 1. What is the name of the feature responsible for generating Regex objects?\n",
    "\n"
   ]
  },
  {
   "cell_type": "code",
   "execution_count": null,
   "id": "3c121eb3",
   "metadata": {},
   "outputs": [],
   "source": [
    "The re. compile() function returns Regex objects."
   ]
  },
  {
   "cell_type": "markdown",
   "id": "39f9b4e3",
   "metadata": {},
   "source": [
    "### 2. Why do raw strings often appear in Regex objects?"
   ]
  },
  {
   "cell_type": "code",
   "execution_count": null,
   "id": "2a2752b7",
   "metadata": {},
   "outputs": [],
   "source": [
    "raw string notation (r\"text\") keeps regular expressions meaningful and confusion-free. Without it, every backslash ('\\') in a\n",
    "regular expression would have to be prefixed with another one to escape it."
   ]
  },
  {
   "cell_type": "markdown",
   "id": "beccfe87",
   "metadata": {},
   "source": [
    "### 3. What is the return value of the search() method?\n"
   ]
  },
  {
   "cell_type": "code",
   "execution_count": null,
   "id": "b99fb71a",
   "metadata": {},
   "outputs": [],
   "source": [
    "The search() method returns match objects.If no match is found then it return None."
   ]
  },
  {
   "cell_type": "markdown",
   "id": "da77fef7",
   "metadata": {},
   "source": [
    "### 4. From a Match item, how do you get the actual strings that match the pattern?"
   ]
  },
  {
   "cell_type": "code",
   "execution_count": null,
   "id": "c1defe90",
   "metadata": {},
   "outputs": [],
   "source": [
    "The group() method returns strings of the matched text."
   ]
  },
  {
   "cell_type": "markdown",
   "id": "688890b3",
   "metadata": {},
   "source": [
    "### 5. In the regex which created from the r'(\\d\\d\\d)-(\\d\\d\\d-\\d\\d\\d\\d)', what does group zero cover? Group 2? Group 1?\n"
   ]
  },
  {
   "cell_type": "code",
   "execution_count": null,
   "id": "8559ab0b",
   "metadata": {},
   "outputs": [],
   "source": [
    "Group 0 is the entire match, group 1 covers the first set of parentheses, and group 2 covers the second set of parentheses."
   ]
  },
  {
   "cell_type": "markdown",
   "id": "3595cad2",
   "metadata": {},
   "source": [
    "### 6. In standard expression syntax, parentheses and periods have distinct meanings. How can you tell a regex that you want  it to fit real parentheses and periods?"
   ]
  },
  {
   "cell_type": "code",
   "execution_count": 10,
   "id": "0bf44264",
   "metadata": {},
   "outputs": [],
   "source": [
    "Periods and parentheses can be escaped with a backslash: \\., \\(, and \\)."
   ]
  },
  {
   "cell_type": "markdown",
   "id": "aefc8752",
   "metadata": {},
   "source": [
    "### 7. The findall() method returns a string list or a list of string tuples. What causes it to return one of the two options?\n"
   ]
  },
  {
   "cell_type": "code",
   "execution_count": null,
   "id": "e3085b03",
   "metadata": {},
   "outputs": [],
   "source": [
    "From the findall() method, if the regex has no groups, a list of strings is returned. If the regex has groups, a list of tuples\n",
    "of strings is returned."
   ]
  },
  {
   "cell_type": "markdown",
   "id": "196fd621",
   "metadata": {},
   "source": [
    "### 8. In standard expressions, what does the | character mean?\n"
   ]
  },
  {
   "cell_type": "code",
   "execution_count": null,
   "id": "53729479",
   "metadata": {},
   "outputs": [],
   "source": [
    "The | character signifies matching \"either, or\" between two groups."
   ]
  },
  {
   "cell_type": "markdown",
   "id": "e9240737",
   "metadata": {},
   "source": [
    "### 9. In regular expressions, what does the ? character stand for?\n"
   ]
  },
  {
   "cell_type": "code",
   "execution_count": null,
   "id": "a0c7d2fe",
   "metadata": {},
   "outputs": [],
   "source": [
    "The ? character can either mean \"match zero or one of the preceding group\" or be used to signify nongreedy matching."
   ]
  },
  {
   "cell_type": "markdown",
   "id": "732fcd9b",
   "metadata": {},
   "source": [
    "### 10.In regular expressions, what is the difference between the + and * characters?"
   ]
  },
  {
   "cell_type": "code",
   "execution_count": null,
   "id": "993caa0d",
   "metadata": {},
   "outputs": [],
   "source": [
    "The + matches one or more. The * matches zero or more."
   ]
  },
  {
   "cell_type": "markdown",
   "id": "8fd436fa",
   "metadata": {},
   "source": [
    "### 11. What is the difference between {4} and {4,5} in regular expression?\n"
   ]
  },
  {
   "cell_type": "code",
   "execution_count": null,
   "id": "dc8a4a21",
   "metadata": {},
   "outputs": [],
   "source": [
    "The {4} matches exactly three instances of the preceding group. The {4,5} matches between three and five instances."
   ]
  },
  {
   "cell_type": "markdown",
   "id": "830347bb",
   "metadata": {},
   "source": [
    "### 12. What do you mean by the \\d, \\w, and \\s shorthand character classes signify in regular expressions?\n"
   ]
  },
  {
   "cell_type": "code",
   "execution_count": null,
   "id": "9f72eed0",
   "metadata": {},
   "outputs": [],
   "source": [
    "The \\d, \\w, and \\s shorthand character classes match a single digit, word, or space character, respectively."
   ]
  },
  {
   "cell_type": "markdown",
   "id": "c53e05fa",
   "metadata": {},
   "source": [
    "### 13. What do means by \\D, \\W, and \\S shorthand character classes signify in regular expressions?\n"
   ]
  },
  {
   "cell_type": "code",
   "execution_count": null,
   "id": "08cabbcd",
   "metadata": {},
   "outputs": [],
   "source": [
    "The \\D, \\W, and \\S shorthand character classes match a single character that is not a digit, word, or space character,\n",
    "respectively."
   ]
  },
  {
   "cell_type": "markdown",
   "id": "05fe5fba",
   "metadata": {},
   "source": [
    "### 14. What is the difference between .*? and .*?\n"
   ]
  },
  {
   "cell_type": "code",
   "execution_count": null,
   "id": "69f59b43",
   "metadata": {},
   "outputs": [],
   "source": [
    " The .? performs a nongreedy match and the . performs a greedy match."
   ]
  },
  {
   "cell_type": "markdown",
   "id": "82bac262",
   "metadata": {},
   "source": [
    "### 15. What is the syntax for matching both numbers and lowercase letters with a character class?\n"
   ]
  },
  {
   "cell_type": "code",
   "execution_count": null,
   "id": "ad747a7e",
   "metadata": {},
   "outputs": [],
   "source": [
    "[a-z0-9] is the syntax for matching both numbers and lowercase letter with a character class."
   ]
  },
  {
   "cell_type": "markdown",
   "id": "55307102",
   "metadata": {},
   "source": [
    "### 16. What is the procedure for making a normal expression in regax case insensitive?\n"
   ]
  },
  {
   "cell_type": "code",
   "execution_count": null,
   "id": "9edb52c0",
   "metadata": {},
   "outputs": [],
   "source": [
    "Passing re.I or re.IGNORECASE as the second argument to re.compile() will make the matching case insensitive."
   ]
  },
  {
   "cell_type": "markdown",
   "id": "d674fd58",
   "metadata": {},
   "source": [
    "### 17. What does the . character normally match? What does it match if re.DOTALL is passed as 2nd argument in re.compile()?"
   ]
  },
  {
   "cell_type": "code",
   "execution_count": null,
   "id": "11945b0b",
   "metadata": {},
   "outputs": [],
   "source": [
    "The . character normally matches any character except the newline character. If re.DOTALL is passed as the second argument to\n",
    "re.compile(), then the dot will also match newline characters."
   ]
  },
  {
   "cell_type": "markdown",
   "id": "a391e077",
   "metadata": {},
   "source": [
    "### 18. If numReg = re.compile(r'\\d+'), what will numRegex.sub('X', '11 drummers, 10 pipers, five rings, 4 hen') return?\n"
   ]
  },
  {
   "cell_type": "code",
   "execution_count": null,
   "id": "690bd502",
   "metadata": {},
   "outputs": [],
   "source": [
    "The above operation will result 'X drummers, X pipers, five rings, X hens'."
   ]
  },
  {
   "cell_type": "markdown",
   "id": "2b0e651a",
   "metadata": {},
   "source": [
    "### 19. What does passing re.VERBOSE as the 2nd argument to re.compile() allow to do?\n"
   ]
  },
  {
   "cell_type": "code",
   "execution_count": null,
   "id": "0fc82bfd",
   "metadata": {},
   "outputs": [],
   "source": [
    "The re.VERBOSE argument allows you to add whitespace and comments to the string passed to re.compile()."
   ]
  },
  {
   "cell_type": "markdown",
   "id": "452e8a86",
   "metadata": {},
   "source": [
    "### 20. How would you write a regex that match a number with comma for every three digits? It must match the given following:\n",
    "\n",
    "'42'\n",
    "\n",
    "'1,234'\n",
    "\n",
    "'6,368,745'\n",
    "\n",
    "but not the following:\n",
    "\n",
    "'12,34,567' (which has only two digits between the commas)\n",
    "\n",
    "'1234' (which lacks commas)"
   ]
  },
  {
   "cell_type": "code",
   "execution_count": null,
   "id": "dc3f42e6",
   "metadata": {},
   "outputs": [],
   "source": [
    "re.compile(r'^\\d{1,3}(,\\d{3})*$') will create the regex that match a number with comma for every three digits."
   ]
  },
  {
   "cell_type": "markdown",
   "id": "710a4cd6",
   "metadata": {},
   "source": [
    "### 21. How would you write a regex that matches the full name of someone whose last name is Watanabe? You can assume that the first name that comes before it will always be one word that begins with a capital letter. The regex must match the following:\n",
    "'Haruto Watanabe'\n",
    "\n",
    "'Alice Watanabe'\n",
    "\n",
    "'RoboCop Watanabe'\n",
    "\n",
    "but not the following:\n",
    "\n",
    "'haruto Watanabe' (where the first name is not capitalized)\n",
    "\n",
    "'Mr. Watanabe' (where the preceding word has a nonletter character)\n",
    "\n",
    "'Watanabe' (which has no first name)\n",
    "\n",
    "'Haruto watanabe' (where Watanabe is not capitalized)"
   ]
  },
  {
   "cell_type": "code",
   "execution_count": null,
   "id": "81a2c916",
   "metadata": {},
   "outputs": [],
   "source": [
    "re.compile(r'[A-Z][a-z]*\\sWatanabe') will match the fullname whose last name is Watanabe with the set of given conditions."
   ]
  },
  {
   "cell_type": "markdown",
   "id": "fede9acd",
   "metadata": {},
   "source": [
    "### 22. How would you write a regex that matches a sentence where the first word is either Alice, Bob, or Carol; the second word is either eats, pets, or throws; the third word is apples, cats, or baseballs; and the sentence ends with a period? This regex should be case-insensitive. It must match the following:\n",
    "'Alice eats apples.'\n",
    "\n",
    "'Bob pets cats.'\n",
    "\n",
    "'Carol throws baseballs.'\n",
    "\n",
    "'Alice throws Apples.'\n",
    "\n",
    "'BOB EATS CATS.'\n",
    "\n",
    "but not the following:\n",
    "\n",
    "'RoboCop eats apples.'\n",
    "\n",
    "'ALICE THROWS FOOTBALLS.'\n",
    "\n",
    "'Carol eats 7 cats.'\n"
   ]
  },
  {
   "cell_type": "code",
   "execution_count": null,
   "id": "ad734c09",
   "metadata": {},
   "outputs": [],
   "source": [
    "re.compile(r'(Alice|Bob|Carol)\\s(eats|pets|throws)\\s(apples|cats|baseballs)\\.', re.IGNORECASE) will match the set of \n",
    "given conditions."
   ]
  },
  {
   "cell_type": "code",
   "execution_count": null,
   "id": "32f716c1",
   "metadata": {},
   "outputs": [],
   "source": []
  }
 ],
 "metadata": {
  "kernelspec": {
   "display_name": "Python 3 (ipykernel)",
   "language": "python",
   "name": "python3"
  },
  "language_info": {
   "codemirror_mode": {
    "name": "ipython",
    "version": 3
   },
   "file_extension": ".py",
   "mimetype": "text/x-python",
   "name": "python",
   "nbconvert_exporter": "python",
   "pygments_lexer": "ipython3",
   "version": "3.9.7"
  }
 },
 "nbformat": 4,
 "nbformat_minor": 5
}
