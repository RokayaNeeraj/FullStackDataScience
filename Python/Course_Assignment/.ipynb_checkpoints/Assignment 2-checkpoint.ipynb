{
 "cells": [
  {
   "cell_type": "markdown",
   "id": "a071f6ba",
   "metadata": {},
   "source": [
    "### 1.What are the two values of the Boolean data type? How do you write them?"
   ]
  },
  {
   "cell_type": "code",
   "execution_count": null,
   "id": "5bf1df98",
   "metadata": {},
   "outputs": [],
   "source": [
    "The two values of Boolean data type are TRUE and FALSE. We write them as True and False."
   ]
  },
  {
   "cell_type": "markdown",
   "id": "126745fa",
   "metadata": {},
   "source": [
    "### 2. What are the three different types of Boolean operators?\n"
   ]
  },
  {
   "cell_type": "code",
   "execution_count": null,
   "id": "fea0ce37",
   "metadata": {},
   "outputs": [],
   "source": [
    "The three different types of Boolean operatos are AND, OR, and Not."
   ]
  },
  {
   "cell_type": "markdown",
   "id": "f76181c3",
   "metadata": {},
   "source": [
    "### 3. Make a list of each Boolean operator's truth tables (i.e. every possible combination of Boolean values for the operator and what it evaluate )."
   ]
  },
  {
   "cell_type": "code",
   "execution_count": null,
   "id": "87568e13",
   "metadata": {},
   "outputs": [],
   "source": [
    "The boolean operator's truth table can be shown as below.\n",
    "\n",
    "AND and OR truth Table\n",
    "\n",
    "Operator  Condition I      Condition II       Result\n",
    "AND          True             True             True\n",
    "AND          True             False            False\n",
    "AND          False            True             False\n",
    "OR           True             True             True \n",
    "OR           False            True             True\n",
    "OR           True              False            True\n",
    "\n",
    "\n",
    "NOT truth Table\n",
    "x         x'\n",
    "0         1\n",
    "1         0"
   ]
  },
  {
   "cell_type": "markdown",
   "id": "a8c1a451",
   "metadata": {},
   "source": [
    "### 4. What are the values of the following expressions?\n",
    "(5 > 4) and (3 == 5)\n",
    "not (5 > 4)\n",
    "(5 > 4) or (3 == 5)\n",
    "not ((5 > 4) or (3 == 5))\n",
    "(True and True) and (True == False)\n",
    "(not False) or (not True)"
   ]
  },
  {
   "cell_type": "code",
   "execution_count": 7,
   "id": "3df0b0c9",
   "metadata": {},
   "outputs": [],
   "source": [
    "The values of the following expressions are:\n",
    "(5>4) and (3==5) = False\n",
    "not (5>4) = False\n",
    "(5 > 4) or (3 == 5) = True\n",
    "not ((5 > 4) or (3 == 5)) = False\n",
    "(True and True) and (True == False) = False\n",
    "(not False) or (not True) = True"
   ]
  },
  {
   "cell_type": "markdown",
   "id": "a394d7e9",
   "metadata": {},
   "source": [
    "### 5. What are the six comparison operators?\n"
   ]
  },
  {
   "cell_type": "code",
   "execution_count": null,
   "id": "cc2c7340",
   "metadata": {},
   "outputs": [],
   "source": [
    "The six comparison operators are as follows:\n",
    "   Description               Comparison Operators\n",
    "1) equal to:                     ==\n",
    "2) not equal to:                 !=\n",
    "3) greater than:                 >\n",
    "4) less than:                    <\n",
    "5) less than or equal to:        <=\n",
    "6) greater than or equal to:     >="
   ]
  },
  {
   "cell_type": "markdown",
   "id": "845697ec",
   "metadata": {},
   "source": [
    "### 6. How do you tell the difference between the equal to and assignment operators?Describe a condition and when you would use one.\n"
   ]
  },
  {
   "cell_type": "code",
   "execution_count": null,
   "id": "99fe0d77",
   "metadata": {},
   "outputs": [],
   "source": [
    "Equal to (==) operator is used to check condtion whether the operands whether they are equal or not.It returns a boolean\n",
    "value. Whereas, assignment operator is used to assign value to the variable. \n",
    "\n",
    "The condition when I would choose an == operator is when I have to check if values are equal.For eg 4 == 5. In this case,it \n",
    "will return False. I would use = operator when I have to assign a value to a variable. For eg, a = 4.Now, if we print a \n",
    "and see, then we can find that the value of a will be 4."
   ]
  },
  {
   "cell_type": "markdown",
   "id": "46852462",
   "metadata": {},
   "source": [
    "### 7. Identify the three blocks in this code:\n",
    "spam = 0\n",
    "if spam == 10:\n",
    "print('eggs')\n",
    "if spam > 5:\n",
    "print('bacon')\n",
    "else:\n",
    "print('ham')\n",
    "print('spam')\n",
    "print('spam')"
   ]
  },
  {
   "cell_type": "code",
   "execution_count": null,
   "id": "0fdc5152",
   "metadata": {},
   "outputs": [],
   "source": [
    "First Block\n",
    "spam = 0\n",
    "if spam == 10:\n",
    "    print('eggs') It checks whether, if spam is equal to 0.In this case,it returns False,so nothing will be printed.\n",
    "Second Block:    \n",
    "if spam > 5:\n",
    "    print('bacon'). It checks if spam is greater than 5 or not.In, this case, it is False.So, it will move to else statement.\n",
    "Third Block:\n",
    "else:\n",
    "print('ham')\n",
    "print('spam')\n",
    "print('spam'). Since, the second block statement is not true, third block will be executed.Hence, ham, spam and spam will\n",
    "                be printed."
   ]
  },
  {
   "cell_type": "markdown",
   "id": "b9ebf387",
   "metadata": {},
   "source": [
    "### 8. Write code that prints Hello if 1 is stored in spam, prints Howdy if 2 is stored in spam, and prints Greetings! if anything else is stored in spam."
   ]
  },
  {
   "cell_type": "code",
   "execution_count": 17,
   "id": "16240f99",
   "metadata": {},
   "outputs": [
    {
     "name": "stdout",
     "output_type": "stream",
     "text": [
      "enter the desired value5\n",
      "Greetings!\n"
     ]
    }
   ],
   "source": [
    "spam = int(input(\"enter the desired value\"))\n",
    "if spam == 1:\n",
    "    print(\"Hello\")\n",
    "elif spam == 2:\n",
    "    print(\"Howdy\")\n",
    "else:\n",
    "    print(\"Greetings!\")"
   ]
  },
  {
   "cell_type": "markdown",
   "id": "87247ee1",
   "metadata": {},
   "source": [
    "### 9.If your programme is stuck in an endless loop, what keys you’ll press?"
   ]
  },
  {
   "cell_type": "code",
   "execution_count": null,
   "id": "5ae444b5",
   "metadata": {},
   "outputs": [],
   "source": [
    "If my programme is stuck in  an endless loop, I will press ctrl + c."
   ]
  },
  {
   "cell_type": "markdown",
   "id": "bd684638",
   "metadata": {},
   "source": [
    "### 10. How can you tell the difference between break and continue?\n"
   ]
  },
  {
   "cell_type": "code",
   "execution_count": null,
   "id": "9fd5a275",
   "metadata": {},
   "outputs": [],
   "source": [
    "The main difference between both the statements is that when break keyword comes, it terminates the execution of the current \n",
    "loop and passes the control over the next loop or main body, whereas when continue keyword is encountered, it skips the \n",
    "current iteration and executes the very next iteration in the loop."
   ]
  },
  {
   "cell_type": "markdown",
   "id": "68009e0c",
   "metadata": {},
   "source": [
    "### 11. In a for loop, what is the difference between range(10), range(0, 10), and range(0, 10, 1)?\n"
   ]
  },
  {
   "cell_type": "code",
   "execution_count": null,
   "id": "e659977e",
   "metadata": {},
   "outputs": [],
   "source": [
    "range(10) generates 10 values. By default, it will start from 0.So, it will go upto 9.\n",
    "range(0,10) generaters values from 0 to 9.\n",
    "range(0,10,1) generates value starting from 0 and ending with 9 with difference of 1.\n",
    "Although, same elements are printed in the above condtion, the uses cases of above methods are different."
   ]
  },
  {
   "cell_type": "markdown",
   "id": "514f3145",
   "metadata": {},
   "source": [
    "### 12. Write a short program that prints the numbers 1 to 10 using a for loop. Then write an equivalent program that prints the numbers 1 to 10 using a while loop."
   ]
  },
  {
   "cell_type": "code",
   "execution_count": 21,
   "id": "72801055",
   "metadata": {},
   "outputs": [
    {
     "name": "stdout",
     "output_type": "stream",
     "text": [
      "1\n",
      "2\n",
      "3\n",
      "4\n",
      "5\n",
      "6\n",
      "7\n",
      "8\n",
      "9\n"
     ]
    }
   ],
   "source": [
    "#Using for loops\n",
    "for i in range(1,10):\n",
    "    print(i)"
   ]
  },
  {
   "cell_type": "code",
   "execution_count": 32,
   "id": "044ca913",
   "metadata": {},
   "outputs": [
    {
     "name": "stdout",
     "output_type": "stream",
     "text": [
      "1\n",
      "2\n",
      "3\n",
      "4\n",
      "5\n",
      "6\n",
      "7\n",
      "8\n",
      "9\n",
      "10\n"
     ]
    }
   ],
   "source": [
    "#While loop\n",
    "count = 0\n",
    "while count < 10:\n",
    "    count = count + 1\n",
    "    print(count)"
   ]
  },
  {
   "cell_type": "markdown",
   "id": "785dd3f6",
   "metadata": {},
   "source": [
    "### 13. If you had a function named bacon() inside a module named spam, how would you call it after importing spam?\n"
   ]
  },
  {
   "cell_type": "code",
   "execution_count": null,
   "id": "4ba01382",
   "metadata": {},
   "outputs": [],
   "source": [
    "spam.bacon() can be used to call the function."
   ]
  },
  {
   "cell_type": "code",
   "execution_count": null,
   "id": "b5676c35",
   "metadata": {},
   "outputs": [],
   "source": []
  },
  {
   "cell_type": "code",
   "execution_count": null,
   "id": "a7b78f99",
   "metadata": {},
   "outputs": [],
   "source": []
  }
 ],
 "metadata": {
  "kernelspec": {
   "display_name": "Python 3 (ipykernel)",
   "language": "python",
   "name": "python3"
  },
  "language_info": {
   "codemirror_mode": {
    "name": "ipython",
    "version": 3
   },
   "file_extension": ".py",
   "mimetype": "text/x-python",
   "name": "python",
   "nbconvert_exporter": "python",
   "pygments_lexer": "ipython3",
   "version": "3.9.7"
  }
 },
 "nbformat": 4,
 "nbformat_minor": 5
}
