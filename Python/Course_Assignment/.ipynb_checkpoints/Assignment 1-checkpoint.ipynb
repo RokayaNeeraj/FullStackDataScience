{
 "cells": [
  {
   "cell_type": "markdown",
   "id": "3c75f7e2",
   "metadata": {},
   "source": [
    "### 1. In the below elements which of them are values or an expression? eg:- values can be integer or string and expressions will be mathematical operators.\n",
    "# * \n",
    "# 'hello'\n",
    "# -87.8\n",
    "# - \n",
    "# / \n",
    "\n",
    "# 6 \n"
   ]
  },
  {
   "cell_type": "code",
   "execution_count": 1,
   "id": "38d785d4",
   "metadata": {},
   "outputs": [],
   "source": [
    "*, -, / are expressions whereas 'hello', -87.8 and 6 are values."
   ]
  },
  {
   "cell_type": "markdown",
   "id": "e7c33c23",
   "metadata": {},
   "source": [
    "### 2. What is the difference between string and variable?\n"
   ]
  },
  {
   "cell_type": "code",
   "execution_count": null,
   "id": "4a925ed6",
   "metadata": {},
   "outputs": [],
   "source": [
    "String is the value inside the quotes and variable are the alphabet or group of alphabet that stores the value.In addition \n",
    "underscore is also a variable.\n",
    "for example: ram = 'Ram'. Here, ram is a variable and 'Ram' is a string."
   ]
  },
  {
   "cell_type": "markdown",
   "id": "867c603e",
   "metadata": {},
   "source": [
    "### 3. Describe three different data types.\n"
   ]
  },
  {
   "cell_type": "code",
   "execution_count": null,
   "id": "9e605e5e",
   "metadata": {},
   "outputs": [],
   "source": [
    "Data type is the classification of data according to its properties. There are different data types in python such as integer,\n",
    "float, string, list, tuples, dictionary  and set. Some of them are described below:\n",
    "    \n",
    "i) Integer/Float - Integer are the basically the numbers but they doesnt have any decimal points where float contains\n",
    "                    decimal points in the numbers. For example, 2 is an integer whereas 2.3 is float."
   ]
  },
  {
   "cell_type": "markdown",
   "id": "e0ba5dbf",
   "metadata": {},
   "source": [
    "### 4. What is an expression made up of? What do all expressions do?\n"
   ]
  },
  {
   "cell_type": "code",
   "execution_count": 2,
   "id": "ea3d68d6",
   "metadata": {},
   "outputs": [],
   "source": [
    "Expression consists of operands and operator by which different types of calculations are performed.For example,2 + 2 * 4 = 10.\n",
    "In the above expression, 2, 4 and 10 are operands whereas +, * and = are operators."
   ]
  },
  {
   "cell_type": "markdown",
   "id": "4e41f067",
   "metadata": {},
   "source": [
    "### 5.This assignment statements, like spam = 10. What is the difference between an expression and a statement?\n"
   ]
  },
  {
   "cell_type": "code",
   "execution_count": null,
   "id": "bb9f4638",
   "metadata": {},
   "outputs": [],
   "source": [
    "Statements represent an action or command. e.g print statements, assignment statements whereas expression consists of \n",
    "operator and operands that yields a result. Spam = 10 is just assigning a value to a variable spam."
   ]
  },
  {
   "cell_type": "markdown",
   "id": "0fb0608b",
   "metadata": {},
   "source": [
    "### 6. After running the following code, what does the variable bacon contain?\n",
    "bacon = 22\n",
    "\n",
    "bacon + 1"
   ]
  },
  {
   "cell_type": "code",
   "execution_count": null,
   "id": "dedc5e5b",
   "metadata": {},
   "outputs": [],
   "source": [
    "If we run the following code, the variable bacon will hold 22 in it though we have run bacon + 1. It is because we haven't\n",
    "assigned bacon = bacon + 1 which would have changed its value to 23. So, the value of bacon will remain 22."
   ]
  },
  {
   "cell_type": "markdown",
   "id": "5fdcfea3",
   "metadata": {},
   "source": [
    "### 7. What should the values of the following two terms be?\n",
    "'spam' + 'spamspam'\n",
    "\n",
    "'spam' * 3"
   ]
  },
  {
   "cell_type": "code",
   "execution_count": null,
   "id": "d36e72dd",
   "metadata": {},
   "outputs": [],
   "source": [
    "Both expressions evaluate to the string 'spamspamspam'."
   ]
  },
  {
   "cell_type": "markdown",
   "id": "dd04a18d",
   "metadata": {},
   "source": [
    "### 8. Why is eggs a valid variable name while 100 is invalid?"
   ]
  },
  {
   "cell_type": "code",
   "execution_count": 3,
   "id": "dc191176",
   "metadata": {},
   "outputs": [],
   "source": [
    "Eggs is a valid variable name because it starts with alphabet whereas 100 is invalid, because a varible cannot begin with a  \n",
    "number."
   ]
  },
  {
   "cell_type": "markdown",
   "id": "c42be1d2",
   "metadata": {},
   "source": [
    "### 9. What three functions can be used to get the integer, floating-point number, or string version of a value?\n"
   ]
  },
  {
   "cell_type": "code",
   "execution_count": null,
   "id": "24982165",
   "metadata": {},
   "outputs": [],
   "source": [
    "The int(), float(), and str() functions can be used to get the integer, floating-point number, and string versions of the \n",
    "value passed to them."
   ]
  },
  {
   "cell_type": "markdown",
   "id": "10b23178",
   "metadata": {},
   "source": [
    "### 10. Why does this expression cause an error? How can you fix it?\n",
    "'I have eaten ' + 99 + ' burritos.'"
   ]
  },
  {
   "cell_type": "code",
   "execution_count": null,
   "id": "6b582ed6",
   "metadata": {},
   "outputs": [],
   "source": [
    "The above expression cause an error because we cannot concatenate integers. However, the above error will be fixed \n",
    "if we convert 99 to string as '99'.Now, after the conversion and concatination, our output will be 'i have eaten99burritos' as \n",
    "shown below:"
   ]
  },
  {
   "cell_type": "code",
   "execution_count": 1,
   "id": "dfa98710",
   "metadata": {},
   "outputs": [
    {
     "data": {
      "text/plain": [
       "'i have eaten99burritos'"
      ]
     },
     "execution_count": 1,
     "metadata": {},
     "output_type": "execute_result"
    }
   ],
   "source": [
    "'i have eaten'+'99'+'burritos'"
   ]
  },
  {
   "cell_type": "code",
   "execution_count": null,
   "id": "4439a8dd",
   "metadata": {},
   "outputs": [],
   "source": []
  }
 ],
 "metadata": {
  "kernelspec": {
   "display_name": "Python 3 (ipykernel)",
   "language": "python",
   "name": "python3"
  },
  "language_info": {
   "codemirror_mode": {
    "name": "ipython",
    "version": 3
   },
   "file_extension": ".py",
   "mimetype": "text/x-python",
   "name": "python",
   "nbconvert_exporter": "python",
   "pygments_lexer": "ipython3",
   "version": "3.9.7"
  }
 },
 "nbformat": 4,
 "nbformat_minor": 5
}
