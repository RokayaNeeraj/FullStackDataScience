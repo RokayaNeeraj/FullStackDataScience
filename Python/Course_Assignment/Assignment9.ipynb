{
 "cells": [
  {
   "cell_type": "markdown",
   "id": "96f338aa",
   "metadata": {},
   "source": [
    "### 1. To what does a relative path refer?"
   ]
  },
  {
   "cell_type": "code",
   "execution_count": null,
   "id": "9009fe1e",
   "metadata": {},
   "outputs": [],
   "source": [
    "A relative path refers to a location that is relative to a current directory"
   ]
  },
  {
   "cell_type": "markdown",
   "id": "73ec86b8",
   "metadata": {},
   "source": [
    "### 2. What does an absolute path start with your operating system?"
   ]
  },
  {
   "cell_type": "code",
   "execution_count": null,
   "id": "69422869",
   "metadata": {},
   "outputs": [],
   "source": [
    "An absolute path refers to the complete details needed to locate a file or folder, starting from the root element and ending\n",
    "with the other subdirectories."
   ]
  },
  {
   "cell_type": "markdown",
   "id": "aa83540d",
   "metadata": {},
   "source": [
    "### 3. What do the functions os.getcwd() and os.chdir() do?"
   ]
  },
  {
   "cell_type": "code",
   "execution_count": null,
   "id": "df236bbe",
   "metadata": {},
   "outputs": [],
   "source": [
    "os.getcwd allows us to see our current working directory and os.chdir() allows us to set the current working directory to a\n",
    "path of our choice."
   ]
  },
  {
   "cell_type": "markdown",
   "id": "87fbab70",
   "metadata": {},
   "source": [
    "### 4. What are the . and .. folders?"
   ]
  },
  {
   "cell_type": "code",
   "execution_count": null,
   "id": "95d1bd3b",
   "metadata": {},
   "outputs": [],
   "source": [
    ". and .. folders refers to current folder and the parent folder."
   ]
  },
  {
   "cell_type": "markdown",
   "id": "16da283a",
   "metadata": {},
   "source": [
    "### 5. In C:\\bacon\\eggs\\spam.txt, which part is the dir name, and which part is the base name?"
   ]
  },
  {
   "cell_type": "code",
   "execution_count": null,
   "id": "cfe0db6f",
   "metadata": {},
   "outputs": [],
   "source": [
    "C:\\bacon\\eggs is the dir name, while spam is the base name."
   ]
  },
  {
   "cell_type": "markdown",
   "id": "97987b19",
   "metadata": {},
   "source": [
    "### 6. What are the three “mode” arguments that can be passed to the open() function?"
   ]
  },
  {
   "cell_type": "code",
   "execution_count": null,
   "id": "4a87bd54",
   "metadata": {},
   "outputs": [],
   "source": [
    "The access modes available for the open() function are as follows:\n",
    "    \n",
    "1. r : Opens the file in read-only mode. ...\n",
    "2. rb : Opens the file as read-only in binary format and starts reading from the beginning of the file.\n",
    "3. r+ : Opens a file for reading and writing, placing the pointer at the beginning of the file."
   ]
  },
  {
   "cell_type": "markdown",
   "id": "fbc538cf",
   "metadata": {},
   "source": [
    "### 7. What happens if an existing file is opened in write mode?"
   ]
  },
  {
   "cell_type": "code",
   "execution_count": null,
   "id": "7f3b0458",
   "metadata": {},
   "outputs": [],
   "source": [
    "  If an existing file is opened in write mode then its contents are discarded and the file is treated as a new empty file."
   ]
  },
  {
   "cell_type": "markdown",
   "id": "7442be86",
   "metadata": {},
   "source": [
    "### 8. How do you tell the difference between read() and readlines()?"
   ]
  },
  {
   "cell_type": "code",
   "execution_count": null,
   "id": "59a82105",
   "metadata": {},
   "outputs": [],
   "source": [
    "The read() method will read all file at once and returns the specified number of bytes from the file whereas the readlines()\n",
    "function also reads but returns a list of all lines in the file."
   ]
  },
  {
   "cell_type": "markdown",
   "id": "264682c0",
   "metadata": {},
   "source": [
    "### 9. What data structure does a shelf value resemble?"
   ]
  },
  {
   "cell_type": "code",
   "execution_count": null,
   "id": "dd2e8c68",
   "metadata": {},
   "outputs": [],
   "source": [
    "A shelf value resembles a dictionary value and it has both keys and values."
   ]
  }
 ],
 "metadata": {
  "kernelspec": {
   "display_name": "Python 3 (ipykernel)",
   "language": "python",
   "name": "python3"
  },
  "language_info": {
   "codemirror_mode": {
    "name": "ipython",
    "version": 3
   },
   "file_extension": ".py",
   "mimetype": "text/x-python",
   "name": "python",
   "nbconvert_exporter": "python",
   "pygments_lexer": "ipython3",
   "version": "3.9.7"
  }
 },
 "nbformat": 4,
 "nbformat_minor": 5
}
