{
 "cells": [
  {
   "cell_type": "markdown",
   "id": "a133a465",
   "metadata": {},
   "source": [
    "### 1. Why are functions advantageous to have in your programs?\n"
   ]
  },
  {
   "cell_type": "code",
   "execution_count": null,
   "id": "6adaabde",
   "metadata": {},
   "outputs": [],
   "source": [
    "Functions are advantageous to have in our programs because of following reasons:\n",
    "1) Removes deuplication of code\n",
    "2) Clarity of the code\n",
    "3) Reusability of the code"
   ]
  },
  {
   "cell_type": "markdown",
   "id": "0dc9ad27",
   "metadata": {},
   "source": [
    "### 2. When does the code in a function run: when it's specified or when it's called?\n"
   ]
  },
  {
   "cell_type": "code",
   "execution_count": null,
   "id": "c1d4565d",
   "metadata": {},
   "outputs": [],
   "source": [
    "Function code runs when we call the function."
   ]
  },
  {
   "cell_type": "markdown",
   "id": "9caba13d",
   "metadata": {},
   "source": [
    "### 3. What statement creates a function?\n"
   ]
  },
  {
   "cell_type": "code",
   "execution_count": 2,
   "id": "aa3db03d",
   "metadata": {},
   "outputs": [],
   "source": [
    "To create a function, we should use def at the beginning, and then function followed by parenthesis and finally end it with a \n",
    "colon(:).The code below the function must be written giving the indentation. For example:\n",
    "def sum():\n",
    "    pass"
   ]
  },
  {
   "cell_type": "markdown",
   "id": "6e575fcc",
   "metadata": {},
   "source": [
    "### 4. What is the difference between a function and a function call?\n"
   ]
  },
  {
   "cell_type": "code",
   "execution_count": 10,
   "id": "5d76cb82",
   "metadata": {},
   "outputs": [],
   "source": [
    "Function consists a block of code that gets executed when a function is called.A functions doesnt get excuted unless it is\n",
    "called. for example:\n",
    "def sum(a,b):     #initializing a function\n",
    "    return a + b  #returns a + b to sum function\n",
    "x = sum(2,3)      #calling a function and storing it in a variable\n",
    "print(x)          #Printing the variable, x."
   ]
  },
  {
   "cell_type": "markdown",
   "id": "efc28dcf",
   "metadata": {},
   "source": [
    "### 5. How many global scopes are there in a Python program? How many local scopes?\n"
   ]
  },
  {
   "cell_type": "code",
   "execution_count": null,
   "id": "95ebb744",
   "metadata": {},
   "outputs": [],
   "source": [
    "There is a one global scope per program execution. There can be many local scope depending on our program."
   ]
  },
  {
   "cell_type": "markdown",
   "id": "9ea2f73d",
   "metadata": {},
   "source": [
    "### 6. What happens to variables in a local scope when the function call returns?"
   ]
  },
  {
   "cell_type": "code",
   "execution_count": null,
   "id": "9e748487",
   "metadata": {},
   "outputs": [],
   "source": [
    "A local variable retains its value until the next time the function is called A local variable becomes undefined after the \n",
    "function call completes.The local variable can be used outside the function any time after the function call completes."
   ]
  },
  {
   "cell_type": "markdown",
   "id": "94dd6e10",
   "metadata": {},
   "source": [
    "### 7. What is the concept of a return value? Is it possible to have a return value in an expression?\n"
   ]
  },
  {
   "cell_type": "code",
   "execution_count": null,
   "id": "7f689b66",
   "metadata": {},
   "outputs": [],
   "source": [
    "A return value is a value that a function returns to the calling script or function when it completes its task.Yes, it is\n",
    "possible to have a return value in an expression.A return statement is used to end the execution of the function call and \n",
    "returns the result (value of the expression following the return keyword) to the caller."
   ]
  },
  {
   "cell_type": "markdown",
   "id": "46fd77a1",
   "metadata": {},
   "source": [
    "### 8. If a function does not have a return statement, what is the return value of a call to that function?\n"
   ]
  },
  {
   "cell_type": "code",
   "execution_count": 14,
   "id": "628e0250",
   "metadata": {},
   "outputs": [],
   "source": [
    "If no return statement appears in a function definition, control automatically returns to the calling function after the last\n",
    "statement of the called function is executed. In this case, the return value of the called function is undefined."
   ]
  },
  {
   "cell_type": "markdown",
   "id": "4f6813fe",
   "metadata": {},
   "source": [
    "### 9. How do you make a function variable refer to the global variable?\n"
   ]
  },
  {
   "cell_type": "code",
   "execution_count": null,
   "id": "fa672910",
   "metadata": {},
   "outputs": [],
   "source": [
    "If we want to refer to a global variable in a function, we can use the global keyword to declare which variables are global."
   ]
  },
  {
   "cell_type": "markdown",
   "id": "c3acd56f",
   "metadata": {},
   "source": [
    "### 10. What is the data type of None?\n"
   ]
  },
  {
   "cell_type": "code",
   "execution_count": null,
   "id": "03c82f0e",
   "metadata": {},
   "outputs": [],
   "source": [
    "The data type of None is NoneType."
   ]
  },
  {
   "cell_type": "markdown",
   "id": "380fca5b",
   "metadata": {},
   "source": [
    "### 11. What does the sentence import areallyourpetsnamederic do?"
   ]
  },
  {
   "cell_type": "code",
   "execution_count": null,
   "id": "a450b493",
   "metadata": {},
   "outputs": [],
   "source": [
    "That import statement imports a module named areallyourpetsnamederic."
   ]
  },
  {
   "cell_type": "markdown",
   "id": "4fb32250",
   "metadata": {},
   "source": [
    "### 12. If you had a bacon() feature in a spam module, how would you call it after importing spam?\n"
   ]
  },
  {
   "cell_type": "code",
   "execution_count": null,
   "id": "57c08f8f",
   "metadata": {},
   "outputs": [],
   "source": [
    "The function can be called with spam.bacon()."
   ]
  },
  {
   "cell_type": "markdown",
   "id": "df80db34",
   "metadata": {},
   "source": [
    "### 13. What can you do to save a programme from crashing if it encounters an error?\n"
   ]
  },
  {
   "cell_type": "code",
   "execution_count": 24,
   "id": "f3927942",
   "metadata": {},
   "outputs": [],
   "source": [
    "We can use exception handling to save a programme from crashing if it encounters an error. For example:\n",
    "def divide(a,b):\n",
    "    try:\n",
    "        return a/b\n",
    "    except:\n",
    "        return \"some error\"\n",
    "divide(2,0)\n",
    "\n",
    "In the above example, after the function is called, a and b are set to 2,0. While executing the code, a/b will lead to division\n",
    "error and our program would have crashed if we didnt used try and except. As, we have used try and except, it will first\n",
    "try to divide 2 by 0 which is not possible, so it will go to except block and print 'some error'."
   ]
  },
  {
   "cell_type": "markdown",
   "id": "729048c8",
   "metadata": {},
   "source": [
    "### 14. What is the purpose of the try clause? What is the purpose of the except clause?"
   ]
  },
  {
   "cell_type": "code",
   "execution_count": null,
   "id": "097eb55b",
   "metadata": {},
   "outputs": [],
   "source": [
    "We can use exception handling to save a programme from crashing if it encounters an error. For example:\n",
    "def divide(a,b):\n",
    "    try:\n",
    "        return a/b\n",
    "    except:\n",
    "        return \"some error\"\n",
    "divide(2,0)\n",
    "\n",
    "In the above example, after the function is called, a and b are set to 2,0. While executing the code, a/b will lead to division\n",
    "error and our program would have crashed if we didnt used try and except. As, we have used try and except, it will first\n",
    "try to divide 2 by 0 which is not possible, so it will go to except block and print 'some error'."
   ]
  }
 ],
 "metadata": {
  "kernelspec": {
   "display_name": "Python 3 (ipykernel)",
   "language": "python",
   "name": "python3"
  },
  "language_info": {
   "codemirror_mode": {
    "name": "ipython",
    "version": 3
   },
   "file_extension": ".py",
   "mimetype": "text/x-python",
   "name": "python",
   "nbconvert_exporter": "python",
   "pygments_lexer": "ipython3",
   "version": "3.9.7"
  }
 },
 "nbformat": 4,
 "nbformat_minor": 5
}
