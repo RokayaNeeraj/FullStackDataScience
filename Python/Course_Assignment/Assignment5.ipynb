{
 "cells": [
  {
   "cell_type": "markdown",
   "id": "918dc7bc",
   "metadata": {},
   "source": [
    "### 1. What does an empty dictionary's code look like?\n",
    "\n"
   ]
  },
  {
   "cell_type": "code",
   "execution_count": 6,
   "id": "d60af3bc",
   "metadata": {},
   "outputs": [
    {
     "data": {
      "text/plain": [
       "dict"
      ]
     },
     "execution_count": 6,
     "metadata": {},
     "output_type": "execute_result"
    }
   ],
   "source": [
    "The empty dictionary code will look like:\n",
    "a = {}\n",
    "If we check the type of a, it will show us a dict."
   ]
  },
  {
   "cell_type": "markdown",
   "id": "22a328e6",
   "metadata": {},
   "source": [
    "### 2. What is the value of a dictionary value with the key 'foo' and the value 42?"
   ]
  },
  {
   "cell_type": "code",
   "execution_count": 1,
   "id": "f89d87a2",
   "metadata": {},
   "outputs": [
    {
     "name": "stdout",
     "output_type": "stream",
     "text": [
      "foo 42\n"
     ]
    }
   ],
   "source": [
    "d = {'foo':42}\n",
    "d_items = d.items()\n",
    "for k,v in d.items():\n",
    "    print(k,v)\n",
    "#Here, foo is the key and 42 is the value."
   ]
  },
  {
   "cell_type": "markdown",
   "id": "ec000a1a",
   "metadata": {},
   "source": [
    "### 3. What is the most significant distinction between a dictionary and a list?"
   ]
  },
  {
   "cell_type": "code",
   "execution_count": null,
   "id": "ceabc0e1",
   "metadata": {},
   "outputs": [],
   "source": [
    "The items in the dictionary is accessed with their keys while items in list are accessed with index."
   ]
  },
  {
   "cell_type": "markdown",
   "id": "51a0da18",
   "metadata": {},
   "source": [
    "### 4. What happens if you try to access spam['foo'] if spam is {'bar': 100}?\n"
   ]
  },
  {
   "cell_type": "code",
   "execution_count": 2,
   "id": "90252bad",
   "metadata": {},
   "outputs": [],
   "source": [
    "We get key error as there is no key named 'foo'."
   ]
  },
  {
   "cell_type": "markdown",
   "id": "b5e08a2a",
   "metadata": {},
   "source": [
    "### 5. If a dictionary is stored in spam, what is the difference between the expressions 'cat' in spam and 'cat' in spam.keys()?\n"
   ]
  },
  {
   "cell_type": "code",
   "execution_count": null,
   "id": "78f4305b",
   "metadata": {},
   "outputs": [],
   "source": [
    "There is no difference. The in operator checks whether a value exists as a key in the dictionary."
   ]
  },
  {
   "cell_type": "markdown",
   "id": "6cd6e350",
   "metadata": {},
   "source": [
    "### 6. If a dictionary is stored in spam, what is the difference between the expressions 'cat' in spam and 'cat' in spam.values()?\n"
   ]
  },
  {
   "cell_type": "code",
   "execution_count": null,
   "id": "90baabdd",
   "metadata": {},
   "outputs": [],
   "source": [
    "'cat' in spam checks whether there is a 'cat' key in the dictionary, while 'cat' in spam.values() checks whether there is\n",
    "a value 'cat' for one of the keys in spam."
   ]
  },
  {
   "cell_type": "markdown",
   "id": "9c601ec5",
   "metadata": {},
   "source": [
    "### 7. What is a shortcut for the following code?\n",
    "if 'color' not in spam:\n",
    "\n",
    "spam['color'] = 'black'"
   ]
  },
  {
   "cell_type": "code",
   "execution_count": 4,
   "id": "2f1ecf79",
   "metadata": {},
   "outputs": [],
   "source": [
    "spam.setdefault('color','black')"
   ]
  },
  {
   "cell_type": "markdown",
   "id": "b56c0a96",
   "metadata": {},
   "source": [
    "### 8. How do you \"pretty print\" dictionary values using which module and function?\n"
   ]
  },
  {
   "cell_type": "code",
   "execution_count": null,
   "id": "8d0227a3",
   "metadata": {},
   "outputs": [],
   "source": [
    "We can use pprint.pprint().Below is the code to show the difference, which shows that ppprint.ppprint makes the output\n",
    "more readable."
   ]
  },
  {
   "cell_type": "code",
   "execution_count": 5,
   "id": "515e4920",
   "metadata": {},
   "outputs": [
    {
     "name": "stdout",
     "output_type": "stream",
     "text": [
      "[{'Age': '25', 'Country': 'Nepal', 'Name': 'niraj'},\n",
      " {'Age': '46', 'Country': 'India', 'Name': 'rokaya'}]\n"
     ]
    }
   ],
   "source": [
    "import pprint\n",
    "\n",
    "arr = [\n",
    "  {'Name': 'niraj', 'Age': '25', 'Country': 'Nepal'},\n",
    "  {'Name': 'rokaya', 'Age': '46', 'Country': 'India'},\n",
    "]\n",
    "\n",
    "pprint.pprint(arr)"
   ]
  },
  {
   "cell_type": "code",
   "execution_count": 6,
   "id": "ff4bb511",
   "metadata": {},
   "outputs": [
    {
     "name": "stdout",
     "output_type": "stream",
     "text": [
      "[{'Name': 'niraj', 'Age': '25', 'Country': 'Nepal'}, {'Name': 'rokaya', 'Age': '46', 'Country': 'India'}]\n"
     ]
    }
   ],
   "source": [
    "print(arr)"
   ]
  }
 ],
 "metadata": {
  "kernelspec": {
   "display_name": "Python 3 (ipykernel)",
   "language": "python",
   "name": "python3"
  },
  "language_info": {
   "codemirror_mode": {
    "name": "ipython",
    "version": 3
   },
   "file_extension": ".py",
   "mimetype": "text/x-python",
   "name": "python",
   "nbconvert_exporter": "python",
   "pygments_lexer": "ipython3",
   "version": "3.9.7"
  }
 },
 "nbformat": 4,
 "nbformat_minor": 5
}
