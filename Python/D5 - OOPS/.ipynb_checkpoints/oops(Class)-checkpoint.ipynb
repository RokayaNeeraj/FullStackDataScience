{
 "cells": [
  {
   "cell_type": "markdown",
   "id": "6ff5f6ef",
   "metadata": {},
   "source": [
    "Developers often choose to use OOP in their Python programs because it makes code more reusable and makes it easier to \n",
    "work with larger programs. OOP programs prevent you from repeating code because a class can be defined once and reused \n",
    "many times."
   ]
  },
  {
   "cell_type": "code",
   "execution_count": 1,
   "id": "43192627",
   "metadata": {},
   "outputs": [],
   "source": [
    "class car:\n",
    "    pass"
   ]
  },
  {
   "cell_type": "code",
   "execution_count": 6,
   "id": "3dc27c2c",
   "metadata": {},
   "outputs": [],
   "source": [
    "class car:\n",
    "    def __init__(self,brand_name,fuel_type,body_type):\n",
    "        self.brand_name = brand_name\n",
    "        self.fuel_type = fuel_type\n",
    "        self.body_type= body_type\n",
    "    def desc_car(self):\n",
    "        print(self.brand_name,self.fuel_type,self.body_type)"
   ]
  },
  {
   "cell_type": "code",
   "execution_count": 7,
   "id": "1c6f57e4",
   "metadata": {},
   "outputs": [],
   "source": [
    "innova = car(\"toyota\",'diesel','suv')"
   ]
  },
  {
   "cell_type": "raw",
   "id": "5c0bdfa2",
   "metadata": {},
   "source": [
    "#constructor is an entity helps to pass data to the class/"
   ]
  },
  {
   "cell_type": "code",
   "execution_count": 8,
   "id": "e7ff2f29",
   "metadata": {},
   "outputs": [
    {
     "name": "stdout",
     "output_type": "stream",
     "text": [
      "toyota diesel suv\n"
     ]
    }
   ],
   "source": [
    "innova.desc_car()"
   ]
  },
  {
   "cell_type": "code",
   "execution_count": 10,
   "id": "d83822cf",
   "metadata": {},
   "outputs": [
    {
     "data": {
      "text/plain": [
       "'toyota'"
      ]
     },
     "execution_count": 10,
     "metadata": {},
     "output_type": "execute_result"
    }
   ],
   "source": [
    "innova.brand_name"
   ]
  },
  {
   "cell_type": "code",
   "execution_count": 1,
   "id": "e604bdd9",
   "metadata": {},
   "outputs": [],
   "source": [
    "class course:\n",
    "    def __init__(self,course_name,cost,time_months):\n",
    "        self.course_name = course_name\n",
    "        self.cost = cost\n",
    "        self.time = time_months\n",
    "    def desc_course(self):\n",
    "        print(self.course_name,self.cost,self.time)"
   ]
  },
  {
   "cell_type": "code",
   "execution_count": 2,
   "id": "4e8c8ee5",
   "metadata": {},
   "outputs": [],
   "source": [
    "python = course(\"programming\",'30000',13)"
   ]
  },
  {
   "cell_type": "code",
   "execution_count": 3,
   "id": "fb42a474",
   "metadata": {},
   "outputs": [
    {
     "name": "stdout",
     "output_type": "stream",
     "text": [
      "programming 30000 13\n"
     ]
    }
   ],
   "source": [
    "python.desc_course()"
   ]
  },
  {
   "cell_type": "code",
   "execution_count": 5,
   "id": "4df33ad5",
   "metadata": {},
   "outputs": [],
   "source": [
    "class list_parser:\n",
    "    def parcer(self,a):\n",
    "        if type(a)==list:\n",
    "            for i in a:\n",
    "                print(i)\n",
    "    \n",
    "    def reverse_list(self,b):\n",
    "        if type(b) == list:\n",
    "            return b[::-1]\n",
    "        \n",
    "    "
   ]
  },
  {
   "cell_type": "code",
   "execution_count": 6,
   "id": "8d816f8b",
   "metadata": {},
   "outputs": [
    {
     "name": "stdout",
     "output_type": "stream",
     "text": [
      "2\n",
      "3\n",
      "4\n",
      "5\n",
      "6\n",
      "7\n",
      "9\n"
     ]
    }
   ],
   "source": [
    "c=list_parser()\n",
    "c.parcer([2,3,4,5,6,7,9])"
   ]
  },
  {
   "cell_type": "code",
   "execution_count": 7,
   "id": "47354b1b",
   "metadata": {},
   "outputs": [
    {
     "data": {
      "text/plain": [
       "[9, 7, 6, 5, 4, 3, 2]"
      ]
     },
     "execution_count": 7,
     "metadata": {},
     "output_type": "execute_result"
    }
   ],
   "source": [
    "c.reverse_list([2,3,4,5,6,7,9])"
   ]
  },
  {
   "cell_type": "code",
   "execution_count": 42,
   "id": "3e96785f",
   "metadata": {},
   "outputs": [],
   "source": [
    "#to pass elements at the same time\n",
    "class list_parser:\n",
    "    def __init__(self,c):\n",
    "        self.c  = c\n",
    "    \n",
    "    def parser(self):\n",
    "        if type(self.c) == list:\n",
    "            for i in self.c:\n",
    "                print(i)\n",
    "                \n",
    "    def reverse_list(self):\n",
    "            if type(self.c) == list:\n",
    "                return self.c[::-1]"
   ]
  },
  {
   "cell_type": "code",
   "execution_count": 43,
   "id": "f7e2b859",
   "metadata": {},
   "outputs": [
    {
     "name": "stdout",
     "output_type": "stream",
     "text": [
      "2\n",
      "3\n",
      "45\n",
      "6\n",
      "7\n",
      "8\n"
     ]
    }
   ],
   "source": [
    "c = list_parser([2,3,45,6,7,8])\n",
    "c.parser()"
   ]
  },
  {
   "cell_type": "code",
   "execution_count": 44,
   "id": "131b8fe2",
   "metadata": {},
   "outputs": [
    {
     "data": {
      "text/plain": [
       "[8, 7, 6, 45, 3, 2]"
      ]
     },
     "execution_count": 44,
     "metadata": {},
     "output_type": "execute_result"
    }
   ],
   "source": [
    "c.reverse_list()"
   ]
  },
  {
   "cell_type": "markdown",
   "id": "3762111e",
   "metadata": {},
   "source": [
    "create a class for dictionary parsing\n",
    "1. write a function to give all the keys\n",
    "2. write a function to give all the values\n",
    "3. write a function to throw an error in case of input is not a dictionary\n",
    "4. write a function for take user input and then parse a key and value out of dictionary\n",
    "5. write a function to insert new key value pair into dictionary"
   ]
  },
  {
   "cell_type": "code",
   "execution_count": 149,
   "id": "9da86d64",
   "metadata": {},
   "outputs": [],
   "source": [
    "class dic:\n",
    "    def __init__(self,c):\n",
    "        self.c = c\n",
    "    \n",
    "    def keys(self):\n",
    "        if type(self.c) == dict:\n",
    "            return self.c.keys()\n",
    "        \n",
    "    def values(self):\n",
    "        if type(self.c) == dict:\n",
    "            return self.c.values()\n",
    "        \n",
    "    def err(self):\n",
    "        if type(self.c) != dict:\n",
    "            raise Exception(self.c,'It is not a dictionary')\n",
    "        else:\n",
    "            return 'It is a dictionary'\n",
    "            \n",
    "    def key_value(self):\n",
    "        self.c = eval(input())\n",
    "        print(self.c.keys())\n",
    "        print(self.c.values())        \n",
    "        \n",
    "    def insertion(self,kv):\n",
    "        self.c[k] = v"
   ]
  },
  {
   "cell_type": "code",
   "execution_count": 150,
   "id": "0a250b7e",
   "metadata": {},
   "outputs": [],
   "source": [
    "c = dic({\"key1\":\"ram\", \"key2\": \"shyam\", \"key3\":234})"
   ]
  },
  {
   "cell_type": "code",
   "execution_count": 151,
   "id": "d18d6d55",
   "metadata": {},
   "outputs": [
    {
     "data": {
      "text/plain": [
       "dict_keys(['key1', 'key2', 'key3'])"
      ]
     },
     "execution_count": 151,
     "metadata": {},
     "output_type": "execute_result"
    }
   ],
   "source": [
    "c.keys()"
   ]
  },
  {
   "cell_type": "code",
   "execution_count": 152,
   "id": "44d29327",
   "metadata": {},
   "outputs": [
    {
     "data": {
      "text/plain": [
       "dict_values(['ram', 'shyam', 234])"
      ]
     },
     "execution_count": 152,
     "metadata": {},
     "output_type": "execute_result"
    }
   ],
   "source": [
    "c.values()"
   ]
  },
  {
   "cell_type": "code",
   "execution_count": 153,
   "id": "1bf1f394",
   "metadata": {},
   "outputs": [
    {
     "data": {
      "text/plain": [
       "'It is a dictionary'"
      ]
     },
     "execution_count": 153,
     "metadata": {},
     "output_type": "execute_result"
    }
   ],
   "source": [
    "c.err()"
   ]
  },
  {
   "cell_type": "code",
   "execution_count": null,
   "id": "c97f8499",
   "metadata": {},
   "outputs": [],
   "source": [
    "c.key_value()"
   ]
  },
  {
   "cell_type": "code",
   "execution_count": 118,
   "id": "70e83b94",
   "metadata": {},
   "outputs": [],
   "source": [
    "f = open('mydict.py','w')"
   ]
  },
  {
   "cell_type": "markdown",
   "id": "8f0482b3",
   "metadata": {},
   "source": [
    "Create your own package for list function\n",
    "Create your own package for tuple function\n",
    "Create your own package for dictionary function\n",
    "Create your own package for set function\n",
    "\n",
    "Guidelines:\n",
    "    docstring\n",
    "    always use exception handling\n",
    "    never use print statement\n",
    "    always use logging while writing a code and log every activity performed by code in respective logging file\n",
    "    \n",
    "sudhanshu@ineuron.ai"
   ]
  },
  {
   "cell_type": "code",
   "execution_count": 26,
   "id": "05047db7",
   "metadata": {},
   "outputs": [
    {
     "name": "stdout",
     "output_type": "stream",
     "text": [
      "[1, 2, 3, 4, 5, 6, 7]\n"
     ]
    }
   ],
   "source": [
    "x = [1,2,3,4]\n",
    "y = [5,6,7]\n",
    "x.extend(y)\n",
    "print(x)"
   ]
  },
  {
   "cell_type": "code",
   "execution_count": 45,
   "id": "be74c1c7",
   "metadata": {},
   "outputs": [],
   "source": [
    "import logging\n",
    "logging.basicConfig(filename = 'test0.log',level = logging.DEBUG,format = '%(asctime)s %(levelname)s %(message)s') #displays date-time"
   ]
  },
  {
   "cell_type": "code",
   "execution_count": 50,
   "id": "90a32307",
   "metadata": {},
   "outputs": [],
   "source": [
    "class ListMethod:\n",
    "    \n",
    "    def __init__(self,a):\n",
    "        self.a = a\n",
    "        \n",
    "    def append(self):\n",
    "        x = []\n",
    "        logging.info(\"I am trying to enter %x as empty list and append it to elements of %a\", x, self.a)\n",
    "        try:\n",
    "            if type(x) == list:\n",
    "                for i in self.a:\n",
    "                    x.append(i)\n",
    "                return\n",
    "        except:\n",
    "            raise exception(\"Please enter a list\")\n",
    "n = ListMethod([1,2,3,4,6])"
   ]
  },
  {
   "cell_type": "code",
   "execution_count": 51,
   "id": "b5a61114",
   "metadata": {},
   "outputs": [
    {
     "name": "stderr",
     "output_type": "stream",
     "text": [
      "--- Logging error ---\n",
      "Traceback (most recent call last):\n",
      "  File \"C:\\ProgramData\\Anaconda3\\lib\\logging\\__init__.py\", line 1083, in emit\n",
      "    msg = self.format(record)\n",
      "  File \"C:\\ProgramData\\Anaconda3\\lib\\logging\\__init__.py\", line 927, in format\n",
      "    return fmt.format(record)\n",
      "  File \"C:\\ProgramData\\Anaconda3\\lib\\logging\\__init__.py\", line 663, in format\n",
      "    record.message = record.getMessage()\n",
      "  File \"C:\\ProgramData\\Anaconda3\\lib\\logging\\__init__.py\", line 367, in getMessage\n",
      "    msg = msg % self.args\n",
      "TypeError: %x format: an integer is required, not list\n",
      "Call stack:\n",
      "  File \"C:\\ProgramData\\Anaconda3\\lib\\runpy.py\", line 197, in _run_module_as_main\n",
      "    return _run_code(code, main_globals, None,\n",
      "  File \"C:\\ProgramData\\Anaconda3\\lib\\runpy.py\", line 87, in _run_code\n",
      "    exec(code, run_globals)\n",
      "  File \"C:\\ProgramData\\Anaconda3\\lib\\site-packages\\ipykernel_launcher.py\", line 16, in <module>\n",
      "    app.launch_new_instance()\n",
      "  File \"C:\\ProgramData\\Anaconda3\\lib\\site-packages\\traitlets\\config\\application.py\", line 846, in launch_instance\n",
      "    app.start()\n",
      "  File \"C:\\ProgramData\\Anaconda3\\lib\\site-packages\\ipykernel\\kernelapp.py\", line 677, in start\n",
      "    self.io_loop.start()\n",
      "  File \"C:\\ProgramData\\Anaconda3\\lib\\site-packages\\tornado\\platform\\asyncio.py\", line 199, in start\n",
      "    self.asyncio_loop.run_forever()\n",
      "  File \"C:\\ProgramData\\Anaconda3\\lib\\asyncio\\base_events.py\", line 596, in run_forever\n",
      "    self._run_once()\n",
      "  File \"C:\\ProgramData\\Anaconda3\\lib\\asyncio\\base_events.py\", line 1890, in _run_once\n",
      "    handle._run()\n",
      "  File \"C:\\ProgramData\\Anaconda3\\lib\\asyncio\\events.py\", line 80, in _run\n",
      "    self._context.run(self._callback, *self._args)\n",
      "  File \"C:\\ProgramData\\Anaconda3\\lib\\site-packages\\ipykernel\\kernelbase.py\", line 457, in dispatch_queue\n",
      "    await self.process_one()\n",
      "  File \"C:\\ProgramData\\Anaconda3\\lib\\site-packages\\ipykernel\\kernelbase.py\", line 446, in process_one\n",
      "    await dispatch(*args)\n",
      "  File \"C:\\ProgramData\\Anaconda3\\lib\\site-packages\\ipykernel\\kernelbase.py\", line 353, in dispatch_shell\n",
      "    await result\n",
      "  File \"C:\\ProgramData\\Anaconda3\\lib\\site-packages\\ipykernel\\kernelbase.py\", line 648, in execute_request\n",
      "    reply_content = await reply_content\n",
      "  File \"C:\\ProgramData\\Anaconda3\\lib\\site-packages\\ipykernel\\ipkernel.py\", line 353, in do_execute\n",
      "    res = shell.run_cell(code, store_history=store_history, silent=silent)\n",
      "  File \"C:\\ProgramData\\Anaconda3\\lib\\site-packages\\ipykernel\\zmqshell.py\", line 533, in run_cell\n",
      "    return super(ZMQInteractiveShell, self).run_cell(*args, **kwargs)\n",
      "  File \"C:\\ProgramData\\Anaconda3\\lib\\site-packages\\IPython\\core\\interactiveshell.py\", line 2901, in run_cell\n",
      "    result = self._run_cell(\n",
      "  File \"C:\\ProgramData\\Anaconda3\\lib\\site-packages\\IPython\\core\\interactiveshell.py\", line 2947, in _run_cell\n",
      "    return runner(coro)\n",
      "  File \"C:\\ProgramData\\Anaconda3\\lib\\site-packages\\IPython\\core\\async_helpers.py\", line 68, in _pseudo_sync_runner\n",
      "    coro.send(None)\n",
      "  File \"C:\\ProgramData\\Anaconda3\\lib\\site-packages\\IPython\\core\\interactiveshell.py\", line 3172, in run_cell_async\n",
      "    has_raised = await self.run_ast_nodes(code_ast.body, cell_name,\n",
      "  File \"C:\\ProgramData\\Anaconda3\\lib\\site-packages\\IPython\\core\\interactiveshell.py\", line 3364, in run_ast_nodes\n",
      "    if (await self.run_code(code, result,  async_=asy)):\n",
      "  File \"C:\\ProgramData\\Anaconda3\\lib\\site-packages\\IPython\\core\\interactiveshell.py\", line 3444, in run_code\n",
      "    exec(code_obj, self.user_global_ns, self.user_ns)\n",
      "  File \"C:\\Users\\ROKAYA~1\\AppData\\Local\\Temp/ipykernel_5256/1489819993.py\", line 1, in <module>\n",
      "    n.append()\n",
      "  File \"C:\\Users\\ROKAYA~1\\AppData\\Local\\Temp/ipykernel_5256/2041050733.py\", line 8, in append\n",
      "    logging.info(\"I am trying to enter %x as empty list and append it to elements of %a\", x, self.a)\n",
      "Message: 'I am trying to enter %x as empty list and append it to elements of %a'\n",
      "Arguments: ([], [1, 2, 3, 4, 6])\n"
     ]
    }
   ],
   "source": [
    "n.append()"
   ]
  },
  {
   "cell_type": "code",
   "execution_count": null,
   "id": "c09582c6",
   "metadata": {},
   "outputs": [],
   "source": []
  },
  {
   "cell_type": "code",
   "execution_count": 21,
   "id": "4605eda7",
   "metadata": {},
   "outputs": [],
   "source": [
    "class TupleMethod:\n",
    "    def __init__(self,a):\n",
    "        self.a = a\n",
    "    def counting(self):\n",
    "        '''It helps to count the number of elements'''\n",
    "        return len(self.a)\n",
    "\n",
    "    def Maxi(self):\n",
    "        '''It returns the highes integer'''\n",
    "        return max(self.a)\n",
    "    \n",
    "    def sorted(self):\n",
    "        '''It helps to sort the elements in ascending order'''\n",
    "        return sorted(self.a)\n",
    "        \n",
    "    def reversing(self):\n",
    "        '''It helps to reverse the elements of the sequence'''\n",
    "        x = tuple(reversed(self.a))\n",
    "        return x\n",
    "            \n",
    "n = TupleMethod((1,2,6,4,3))"
   ]
  },
  {
   "cell_type": "code",
   "execution_count": 22,
   "id": "53e5a9ca",
   "metadata": {},
   "outputs": [
    {
     "data": {
      "text/plain": [
       "5"
      ]
     },
     "execution_count": 22,
     "metadata": {},
     "output_type": "execute_result"
    }
   ],
   "source": [
    "n.counting()"
   ]
  },
  {
   "cell_type": "code",
   "execution_count": 20,
   "id": "8c4b6ab7",
   "metadata": {},
   "outputs": [],
   "source": [
    "class Dic_Method:\n",
    "    def __init__(self,n):\n",
    "        self.n = n\n",
    "    \n",
    "    def keys(self):\n",
    "        '''It helps to return keys of the dictionary'''\n",
    "        if type(self.n) == dict:\n",
    "            return self.n.keys()\n",
    "        \n",
    "    def values(self):\n",
    "        '''It helps to return values of the dictionary'''\n",
    "        if type(self.n) == dict:\n",
    "            return self.n.values()\n",
    "        \n",
    "    def err(self):\n",
    "        '''It helps to deal with exception that if the enetered data is not dictionary, the it returns it is not dictionary else\n",
    "        return it is a dictionary'''\n",
    "        if type(self.n) != dict:\n",
    "            raise Exception(self.n,'It is not a dictionary')\n",
    "        else:\n",
    "            return 'It is a dictionary'\n",
    "n = Dic_Method({\"key1\":\"ram\", \"key2\": \"shyam\", \"key3\":[2,3,4,5]})        "
   ]
  },
  {
   "cell_type": "code",
   "execution_count": 58,
   "id": "babc2119",
   "metadata": {},
   "outputs": [],
   "source": [
    "class Set_Method:\n",
    "    def __init__(self,a,b):\n",
    "        self.a = a\n",
    "        self.b = b\n",
    "    \n",
    "    def Union(self):\n",
    "        '''It merges the elements of the two sets'''\n",
    "        c = self.a.union(self.b)\n",
    "        return c\n",
    "    \n",
    "    def Inter(self):\n",
    "        '''It helps to find the common elements of the set'''\n",
    "        c = self.a.intersection(self.b)\n",
    "        return c\n",
    "    \n",
    "    def Subset(self):\n",
    "        '''It returns if all the elemts of b is present in a or not.It the condtion is true,it results,it is a subest or it\n",
    "        returns it is not a subset'''\n",
    "        c = self.b.issubset(self.a)\n",
    "        return c\n",
    "    \n",
    "x = Set_Method({1,2,3,4,5,6},{1,2,3})"
   ]
  }
 ],
 "metadata": {
  "kernelspec": {
   "display_name": "Python 3 (ipykernel)",
   "language": "python",
   "name": "python3"
  },
  "language_info": {
   "codemirror_mode": {
    "name": "ipython",
    "version": 3
   },
   "file_extension": ".py",
   "mimetype": "text/x-python",
   "name": "python",
   "nbconvert_exporter": "python",
   "pygments_lexer": "ipython3",
   "version": "3.9.7"
  }
 },
 "nbformat": 4,
 "nbformat_minor": 5
}
