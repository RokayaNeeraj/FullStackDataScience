{
 "cells": [
  {
   "cell_type": "code",
   "execution_count": 4,
   "id": "5941e871",
   "metadata": {},
   "outputs": [],
   "source": [
    "def test(a,b):\n",
    "    return a+b"
   ]
  },
  {
   "cell_type": "code",
   "execution_count": 5,
   "id": "3fd3fe88",
   "metadata": {},
   "outputs": [
    {
     "data": {
      "text/plain": [
       "7"
      ]
     },
     "execution_count": 5,
     "metadata": {},
     "output_type": "execute_result"
    }
   ],
   "source": [
    "test(3,4)"
   ]
  },
  {
   "cell_type": "code",
   "execution_count": 6,
   "id": "500486be",
   "metadata": {},
   "outputs": [
    {
     "data": {
      "text/plain": [
       "'NirajRokaya'"
      ]
     },
     "execution_count": 6,
     "metadata": {},
     "output_type": "execute_result"
    }
   ],
   "source": [
    "test(\"Niraj\",\"Rokaya\")"
   ]
  },
  {
   "cell_type": "code",
   "execution_count": 8,
   "id": "be0a5962",
   "metadata": {},
   "outputs": [
    {
     "data": {
      "text/plain": [
       "[1, 2, 3, 4, 5, 6]"
      ]
     },
     "execution_count": 8,
     "metadata": {},
     "output_type": "execute_result"
    }
   ],
   "source": [
    "test([1,2,3],[4,5,6])"
   ]
  },
  {
   "cell_type": "markdown",
   "id": "eb8b2c25",
   "metadata": {},
   "source": [
    "test function does various types of work depending on the call.It is polymorphism"
   ]
  },
  {
   "cell_type": "markdown",
   "id": "ff1b8557",
   "metadata": {},
   "source": [
    "User defined exception"
   ]
  },
  {
   "cell_type": "code",
   "execution_count": 14,
   "id": "f98d830d",
   "metadata": {},
   "outputs": [
    {
     "name": "stdout",
     "output_type": "stream",
     "text": [
      "This is my own exception class\n"
     ]
    }
   ],
   "source": [
    "class test(Exception):\n",
    "    def __init__(self,msg):\n",
    "        self.msg = msg\n",
    "    try:\n",
    "        raise(test(\"This is my own exception class\"))\n",
    "    except test as t:\n",
    "        print(t)"
   ]
  },
  {
   "cell_type": "code",
   "execution_count": 17,
   "id": "0c5d842d",
   "metadata": {},
   "outputs": [
    {
     "name": "stdout",
     "output_type": "stream",
     "text": [
      "('This is my own exception class', 'fsafa')\n"
     ]
    }
   ],
   "source": [
    "class test(Exception):\n",
    "    def __init__(self,msg,myval):\n",
    "        self.msg = msg\n",
    "        self.myval = myval\n",
    "    try:\n",
    "        raise(test(\"This is my own exception class\",\"fsafa\"))\n",
    "        5/0\n",
    "    except test as t:\n",
    "        print(t)"
   ]
  },
  {
   "cell_type": "markdown",
   "id": "1c2112f3",
   "metadata": {},
   "source": [
    "Practise Question\n",
    "q1. create your own class to achieve multiple, multilevel inheritance\n",
    "q2. create your own class to represent polymorphism\n",
    "q3. create your own class for custom exception\n",
    "q4. create your own class to achieve encapsulation\n",
    "q5. create your own class to achieve method overriding"
   ]
  },
  {
   "cell_type": "code",
   "execution_count": 33,
   "id": "a64e3abc",
   "metadata": {},
   "outputs": [],
   "source": [
    "class l1:\n",
    "    '''This is to display multiple,multilevel inheritance'''\n",
    "    def __init__(self,a,b):\n",
    "        self.a = a\n",
    "        self.b = b\n",
    "    \n",
    "    def f1(self):\n",
    "            x = self.a + self.b\n",
    "            return x\n",
    "class l2():\n",
    "    def f2(self):\n",
    "        y = self.a * self.b\n",
    "        return y\n",
    "\n",
    "class l3(l1,l2):\n",
    "    def f3(self):\n",
    "        z = self.a % self.b\n",
    "        return z"
   ]
  },
  {
   "cell_type": "code",
   "execution_count": 34,
   "id": "3e249700",
   "metadata": {},
   "outputs": [],
   "source": [
    "val = l3(6,3)"
   ]
  },
  {
   "cell_type": "code",
   "execution_count": 35,
   "id": "22209099",
   "metadata": {},
   "outputs": [
    {
     "data": {
      "text/plain": [
       "18"
      ]
     },
     "execution_count": 35,
     "metadata": {},
     "output_type": "execute_result"
    }
   ],
   "source": [
    "val.f2()"
   ]
  },
  {
   "cell_type": "code",
   "execution_count": 36,
   "id": "cc438441",
   "metadata": {},
   "outputs": [
    {
     "data": {
      "text/plain": [
       "9"
      ]
     },
     "execution_count": 36,
     "metadata": {},
     "output_type": "execute_result"
    }
   ],
   "source": [
    "val.f1()"
   ]
  },
  {
   "cell_type": "code",
   "execution_count": 37,
   "id": "8bcaa882",
   "metadata": {},
   "outputs": [
    {
     "data": {
      "text/plain": [
       "0"
      ]
     },
     "execution_count": 37,
     "metadata": {},
     "output_type": "execute_result"
    }
   ],
   "source": [
    "val.f3()"
   ]
  },
  {
   "cell_type": "code",
   "execution_count": 26,
   "id": "cf2fe915",
   "metadata": {},
   "outputs": [],
   "source": [
    "class nursery:\n",
    "    '''Class to show polymorphism'''\n",
    "    def math(self):\n",
    "        print(\"The obtained marks was 10\")\n",
    "class ten():\n",
    "    def math(self):\n",
    "        print(\"The obtained marks was 99\")"
   ]
  },
  {
   "cell_type": "code",
   "execution_count": 28,
   "id": "ff1bb882",
   "metadata": {},
   "outputs": [],
   "source": [
    "n = nursery()\n",
    "t = ten()"
   ]
  },
  {
   "cell_type": "code",
   "execution_count": 29,
   "id": "0e88a3cf",
   "metadata": {},
   "outputs": [
    {
     "name": "stdout",
     "output_type": "stream",
     "text": [
      "The obtained marks was 10\n"
     ]
    }
   ],
   "source": [
    "n.math()"
   ]
  },
  {
   "cell_type": "code",
   "execution_count": 31,
   "id": "c3f0e085",
   "metadata": {},
   "outputs": [
    {
     "name": "stdout",
     "output_type": "stream",
     "text": [
      "The obtained marks was 99\n"
     ]
    }
   ],
   "source": [
    "t.math()"
   ]
  },
  {
   "cell_type": "code",
   "execution_count": 63,
   "id": "f9e9dc91",
   "metadata": {},
   "outputs": [],
   "source": [
    "class ex:\n",
    "    '''displaying custom exception'''\n",
    "    def __init__(self,a,b):\n",
    "        self.a = a\n",
    "        self.b = b\n",
    "    def div(self):\n",
    "        if self.a/self.b == 2:\n",
    "            raise Exception(\"The division is not possible\")\n",
    "        else:\n",
    "            return (a/b)"
   ]
  },
  {
   "cell_type": "code",
   "execution_count": 64,
   "id": "5bf8cb99",
   "metadata": {},
   "outputs": [
    {
     "ename": "Exception",
     "evalue": "The division is not possible",
     "output_type": "error",
     "traceback": [
      "\u001b[1;31m---------------------------------------------------------------------------\u001b[0m",
      "\u001b[1;31mException\u001b[0m                                 Traceback (most recent call last)",
      "\u001b[1;32mC:\\Users\\ROKAYA~1\\AppData\\Local\\Temp/ipykernel_3000/2573321199.py\u001b[0m in \u001b[0;36m<module>\u001b[1;34m\u001b[0m\n\u001b[0;32m      1\u001b[0m \u001b[0mx\u001b[0m \u001b[1;33m=\u001b[0m \u001b[0mex\u001b[0m\u001b[1;33m(\u001b[0m\u001b[1;36m6\u001b[0m\u001b[1;33m,\u001b[0m\u001b[1;36m3\u001b[0m\u001b[1;33m)\u001b[0m\u001b[1;33m\u001b[0m\u001b[1;33m\u001b[0m\u001b[0m\n\u001b[1;32m----> 2\u001b[1;33m \u001b[0mx\u001b[0m\u001b[1;33m.\u001b[0m\u001b[0mdiv\u001b[0m\u001b[1;33m(\u001b[0m\u001b[1;33m)\u001b[0m\u001b[1;33m\u001b[0m\u001b[1;33m\u001b[0m\u001b[0m\n\u001b[0m",
      "\u001b[1;32mC:\\Users\\ROKAYA~1\\AppData\\Local\\Temp/ipykernel_3000/2907716612.py\u001b[0m in \u001b[0;36mdiv\u001b[1;34m(self)\u001b[0m\n\u001b[0;32m      6\u001b[0m     \u001b[1;32mdef\u001b[0m \u001b[0mdiv\u001b[0m\u001b[1;33m(\u001b[0m\u001b[0mself\u001b[0m\u001b[1;33m)\u001b[0m\u001b[1;33m:\u001b[0m\u001b[1;33m\u001b[0m\u001b[1;33m\u001b[0m\u001b[0m\n\u001b[0;32m      7\u001b[0m         \u001b[1;32mif\u001b[0m \u001b[0mself\u001b[0m\u001b[1;33m.\u001b[0m\u001b[0ma\u001b[0m\u001b[1;33m/\u001b[0m\u001b[0mself\u001b[0m\u001b[1;33m.\u001b[0m\u001b[0mb\u001b[0m \u001b[1;33m==\u001b[0m \u001b[1;36m2\u001b[0m\u001b[1;33m:\u001b[0m\u001b[1;33m\u001b[0m\u001b[1;33m\u001b[0m\u001b[0m\n\u001b[1;32m----> 8\u001b[1;33m             \u001b[1;32mraise\u001b[0m \u001b[0mException\u001b[0m\u001b[1;33m(\u001b[0m\u001b[1;34m\"The division is not possible\"\u001b[0m\u001b[1;33m)\u001b[0m\u001b[1;33m\u001b[0m\u001b[1;33m\u001b[0m\u001b[0m\n\u001b[0m\u001b[0;32m      9\u001b[0m         \u001b[1;32melse\u001b[0m\u001b[1;33m:\u001b[0m\u001b[1;33m\u001b[0m\u001b[1;33m\u001b[0m\u001b[0m\n\u001b[0;32m     10\u001b[0m             \u001b[1;32mreturn\u001b[0m \u001b[1;33m(\u001b[0m\u001b[0ma\u001b[0m\u001b[1;33m/\u001b[0m\u001b[0mb\u001b[0m\u001b[1;33m)\u001b[0m\u001b[1;33m\u001b[0m\u001b[1;33m\u001b[0m\u001b[0m\n",
      "\u001b[1;31mException\u001b[0m: The division is not possible"
     ]
    }
   ],
   "source": [
    "x = ex(6,3)\n",
    "x.div()"
   ]
  },
  {
   "cell_type": "code",
   "execution_count": 18,
   "id": "b662c9e5",
   "metadata": {},
   "outputs": [],
   "source": [
    "class e1:\n",
    "    '''example of encapsulation'''\n",
    "    def __init__(self,a,b):\n",
    "        self._a = 5\n",
    "        self._b = 6\n",
    "    \n",
    "    def c1(self):\n",
    "        return 'xyz'\n",
    "\n",
    "class e2(e1):\n",
    "    pass\n",
    "    \n",
    "N = e2(5,6)"
   ]
  },
  {
   "cell_type": "code",
   "execution_count": 19,
   "id": "2d2f050f",
   "metadata": {},
   "outputs": [
    {
     "data": {
      "text/plain": [
       "'xyz'"
      ]
     },
     "execution_count": 19,
     "metadata": {},
     "output_type": "execute_result"
    }
   ],
   "source": [
    "N.c1()"
   ]
  },
  {
   "cell_type": "code",
   "execution_count": 22,
   "id": "afc5c3d4",
   "metadata": {},
   "outputs": [
    {
     "data": {
      "text/plain": [
       "5"
      ]
     },
     "execution_count": 22,
     "metadata": {},
     "output_type": "execute_result"
    }
   ],
   "source": [
    "N._a"
   ]
  },
  {
   "cell_type": "code",
   "execution_count": 29,
   "id": "23dbc06a",
   "metadata": {},
   "outputs": [],
   "source": [
    "class m:\n",
    "    '''method oveririding'''\n",
    "    def __init__(self,a,b):\n",
    "        self.a = a\n",
    "        self.b = b\n",
    "    \n",
    "    def sum(self):\n",
    "        return (self.a +self.b)\n",
    "\n",
    "class m1(m):\n",
    "    def sum(self):\n",
    "        return (self.a*self.b)"
   ]
  },
  {
   "cell_type": "code",
   "execution_count": 30,
   "id": "6f5ce8da",
   "metadata": {},
   "outputs": [],
   "source": [
    "su = m(3,6)\n",
    "mult = m1(3,6)"
   ]
  },
  {
   "cell_type": "code",
   "execution_count": 31,
   "id": "13b6f58f",
   "metadata": {},
   "outputs": [
    {
     "data": {
      "text/plain": [
       "18"
      ]
     },
     "execution_count": 31,
     "metadata": {},
     "output_type": "execute_result"
    }
   ],
   "source": [
    "mult.sum()"
   ]
  },
  {
   "cell_type": "code",
   "execution_count": 32,
   "id": "e7aba482",
   "metadata": {},
   "outputs": [
    {
     "data": {
      "text/plain": [
       "9"
      ]
     },
     "execution_count": 32,
     "metadata": {},
     "output_type": "execute_result"
    }
   ],
   "source": [
    "su.sum()"
   ]
  },
  {
   "cell_type": "markdown",
   "id": "9a7c521c",
   "metadata": {},
   "source": [
    "Overloading"
   ]
  },
  {
   "cell_type": "code",
   "execution_count": 1,
   "id": "7f8f4387",
   "metadata": {},
   "outputs": [],
   "source": [
    "class test:\n",
    "    def fun(self):\n",
    "        print(\"ABC\")"
   ]
  },
  {
   "cell_type": "code",
   "execution_count": 2,
   "id": "3ec0f2ea",
   "metadata": {},
   "outputs": [],
   "source": [
    "t = test()"
   ]
  },
  {
   "cell_type": "code",
   "execution_count": 3,
   "id": "c80f1e8b",
   "metadata": {},
   "outputs": [
    {
     "name": "stdout",
     "output_type": "stream",
     "text": [
      "<__main__.test object at 0x000002B30125FD60>\n"
     ]
    }
   ],
   "source": [
    "print(t) "
   ]
  },
  {
   "cell_type": "code",
   "execution_count": 4,
   "id": "118b7cdb",
   "metadata": {},
   "outputs": [],
   "source": [
    "class test:\n",
    "    def fun(self):\n",
    "        print(\"ABC\")\n",
    "    def __str__(self):\n",
    "        return str(\"this is a func\") #overloading msg"
   ]
  },
  {
   "cell_type": "code",
   "execution_count": 5,
   "id": "881319da",
   "metadata": {},
   "outputs": [],
   "source": [
    "t = test()"
   ]
  },
  {
   "cell_type": "code",
   "execution_count": 6,
   "id": "a635763e",
   "metadata": {},
   "outputs": [
    {
     "name": "stdout",
     "output_type": "stream",
     "text": [
      "this is a func\n"
     ]
    }
   ],
   "source": [
    "print(t)"
   ]
  },
  {
   "cell_type": "code",
   "execution_count": 7,
   "id": "38c67fd6",
   "metadata": {},
   "outputs": [],
   "source": [
    "#Example 2\n",
    "def xyz(*args):\n",
    "    return args"
   ]
  },
  {
   "cell_type": "code",
   "execution_count": 8,
   "id": "334d3292",
   "metadata": {},
   "outputs": [
    {
     "data": {
      "text/plain": [
       "(45, 6, 7, 8, 9)"
      ]
     },
     "execution_count": 8,
     "metadata": {},
     "output_type": "execute_result"
    }
   ],
   "source": [
    "xyz(45,6,7,8,9)"
   ]
  },
  {
   "cell_type": "code",
   "execution_count": 9,
   "id": "a8e43d8f",
   "metadata": {},
   "outputs": [
    {
     "data": {
      "text/plain": [
       "('jkdsak', 'dmnask', 'ndkamdlqas')"
      ]
     },
     "execution_count": 9,
     "metadata": {},
     "output_type": "execute_result"
    }
   ],
   "source": [
    "xyz(\"jkdsak\",\"dmnask\",\"ndkamdlqas\") #overloading the values for *args"
   ]
  },
  {
   "cell_type": "markdown",
   "id": "775ba26d",
   "metadata": {},
   "source": [
    "Overriding"
   ]
  },
  {
   "cell_type": "code",
   "execution_count": 33,
   "id": "4c41fd53",
   "metadata": {},
   "outputs": [],
   "source": [
    "class nursery:\n",
    "    '''Class to show polymorphism'''\n",
    "    def __init__(self,a):\n",
    "        self.a = a\n",
    "        \n",
    "    def math(self):\n",
    "        print(\"The obtained marks was 10\")\n",
    "class ten(nursery):\n",
    "    def math(self):\n",
    "        print(\"The obtained marks was 99\")"
   ]
  },
  {
   "cell_type": "code",
   "execution_count": 34,
   "id": "07583df6",
   "metadata": {},
   "outputs": [],
   "source": [
    "x = nursery(90)\n",
    "y = ten(99)"
   ]
  },
  {
   "cell_type": "code",
   "execution_count": 35,
   "id": "446c2434",
   "metadata": {},
   "outputs": [
    {
     "name": "stdout",
     "output_type": "stream",
     "text": [
      "The obtained marks was 99\n"
     ]
    }
   ],
   "source": [
    "y.math() #overiding math func of parent class"
   ]
  },
  {
   "cell_type": "code",
   "execution_count": null,
   "id": "32bbd2dc",
   "metadata": {},
   "outputs": [],
   "source": []
  }
 ],
 "metadata": {
  "kernelspec": {
   "display_name": "Python 3 (ipykernel)",
   "language": "python",
   "name": "python3"
  },
  "language_info": {
   "codemirror_mode": {
    "name": "ipython",
    "version": 3
   },
   "file_extension": ".py",
   "mimetype": "text/x-python",
   "name": "python",
   "nbconvert_exporter": "python",
   "pygments_lexer": "ipython3",
   "version": "3.9.7"
  }
 },
 "nbformat": 4,
 "nbformat_minor": 5
}
