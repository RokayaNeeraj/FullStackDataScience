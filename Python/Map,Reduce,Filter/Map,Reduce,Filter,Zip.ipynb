{
 "cells": [
  {
   "cell_type": "code",
   "execution_count": 6,
   "id": "ffd9f8fe",
   "metadata": {},
   "outputs": [],
   "source": [
    "l = [1,2,3,4,5]"
   ]
  },
  {
   "cell_type": "code",
   "execution_count": 7,
   "id": "8e8294d8",
   "metadata": {},
   "outputs": [],
   "source": [
    "l1 = []\n",
    "for i in l: #for loop\n",
    "    l1.append(i+1)"
   ]
  },
  {
   "cell_type": "code",
   "execution_count": 8,
   "id": "7dcf5d9d",
   "metadata": {},
   "outputs": [
    {
     "data": {
      "text/plain": [
       "[2, 3, 4, 5, 6]"
      ]
     },
     "execution_count": 8,
     "metadata": {},
     "output_type": "execute_result"
    }
   ],
   "source": [
    "l1"
   ]
  },
  {
   "cell_type": "code",
   "execution_count": 10,
   "id": "5d870a0d",
   "metadata": {},
   "outputs": [
    {
     "data": {
      "text/plain": [
       "[3, 4, 5, 6, 7]"
      ]
     },
     "execution_count": 10,
     "metadata": {},
     "output_type": "execute_result"
    }
   ],
   "source": [
    "[i+1 for i in l1] #list comprehension"
   ]
  },
  {
   "cell_type": "markdown",
   "id": "2bc6f0b3",
   "metadata": {},
   "source": [
    "### MAP"
   ]
  },
  {
   "cell_type": "code",
   "execution_count": 11,
   "id": "bc6ac640",
   "metadata": {},
   "outputs": [],
   "source": [
    "l = [1,2,3,4,5]"
   ]
  },
  {
   "cell_type": "code",
   "execution_count": 12,
   "id": "4436036d",
   "metadata": {},
   "outputs": [],
   "source": [
    "def test(a):\n",
    "    return a+5"
   ]
  },
  {
   "cell_type": "code",
   "execution_count": 16,
   "id": "9da9a791",
   "metadata": {},
   "outputs": [
    {
     "data": {
      "text/plain": [
       "[6, 7, 8, 9, 10]"
      ]
     },
     "execution_count": 16,
     "metadata": {},
     "output_type": "execute_result"
    }
   ],
   "source": [
    "list(map(test,l)) #calling function and list"
   ]
  },
  {
   "cell_type": "code",
   "execution_count": 19,
   "id": "ab8ba69a",
   "metadata": {},
   "outputs": [],
   "source": [
    "l = ['1',' 2', '32', '67']"
   ]
  },
  {
   "cell_type": "code",
   "execution_count": 57,
   "id": "c2b84da1",
   "metadata": {},
   "outputs": [
    {
     "data": {
      "text/plain": [
       "[1, 2, 32, 67]"
      ]
     },
     "execution_count": 57,
     "metadata": {},
     "output_type": "execute_result"
    }
   ],
   "source": [
    "#converting list of string to list of integer\n",
    "#method 1 \n",
    "[int(i) for i in l]"
   ]
  },
  {
   "cell_type": "code",
   "execution_count": 121,
   "id": "c0d42e10",
   "metadata": {},
   "outputs": [
    {
     "data": {
      "text/plain": [
       "[1, 2, 32, 67]"
      ]
     },
     "execution_count": 121,
     "metadata": {},
     "output_type": "execute_result"
    }
   ],
   "source": [
    "#method 2\n",
    "def test0(l):\n",
    "    l1 = [ ]\n",
    "    for i in l:\n",
    "        l1.append(int(i))\n",
    "    return l1\n",
    "test2(l)"
   ]
  },
  {
   "cell_type": "code",
   "execution_count": 130,
   "id": "0513419e",
   "metadata": {},
   "outputs": [],
   "source": [
    "def test00(y):\n",
    "    for i in y:\n",
    "        return int(y)\n",
    "y =['1',' 2', '32', '67']"
   ]
  },
  {
   "cell_type": "code",
   "execution_count": 131,
   "id": "6ea141ef",
   "metadata": {},
   "outputs": [
    {
     "data": {
      "text/plain": [
       "[1, 2, 32, 67]"
      ]
     },
     "execution_count": 131,
     "metadata": {},
     "output_type": "execute_result"
    }
   ],
   "source": [
    "#method 3\n",
    "list(map(test00,y)) #converted string object to int in a list"
   ]
  },
  {
   "cell_type": "code",
   "execution_count": 138,
   "id": "cee54cb0",
   "metadata": {},
   "outputs": [
    {
     "data": {
      "text/plain": [
       "[2, 3, 4, 5, 6]"
      ]
     },
     "execution_count": 138,
     "metadata": {},
     "output_type": "execute_result"
    }
   ],
   "source": [
    "#method 4\n",
    "list(map(lambda z:int(z),l1)) #original l1 is not updated"
   ]
  },
  {
   "cell_type": "markdown",
   "id": "5744ccf4",
   "metadata": {},
   "source": [
    "Note:-\n",
    "x = lambda a,b:a*b #lamda first takes parameter and then returns a value \n",
    "print(x(5,6))"
   ]
  },
  {
   "cell_type": "markdown",
   "id": "d22b39f6",
   "metadata": {},
   "source": [
    "Return only even integer\n",
    "l = [4, 5 , 6, 7, 78, 8, 76]"
   ]
  },
  {
   "cell_type": "code",
   "execution_count": 32,
   "id": "f70f6011",
   "metadata": {},
   "outputs": [],
   "source": [
    "#Method 1\n",
    "def even(l):\n",
    "    l1 = []\n",
    "    if not isinstance(l,list):\n",
    "            return \"cannot perform the operation.Please enter list\"\n",
    "    else:\n",
    "        for i in l:\n",
    "            if i % 2 == 0:\n",
    "                l1.append(i)\n",
    "        return l1\n",
    "l = [4, 5 , 6, 7, 78, 8, 76]"
   ]
  },
  {
   "cell_type": "code",
   "execution_count": 33,
   "id": "87ef1cf9",
   "metadata": {},
   "outputs": [
    {
     "data": {
      "text/plain": [
       "[4, 6, 78, 8, 76]"
      ]
     },
     "execution_count": 33,
     "metadata": {},
     "output_type": "execute_result"
    }
   ],
   "source": [
    "even(l)"
   ]
  },
  {
   "cell_type": "code",
   "execution_count": 38,
   "id": "73953ae7",
   "metadata": {},
   "outputs": [
    {
     "data": {
      "text/plain": [
       "[4, 6, 78, 8, 76]"
      ]
     },
     "execution_count": 38,
     "metadata": {},
     "output_type": "execute_result"
    }
   ],
   "source": [
    "#Method 2\n",
    "l = [4, 5 , 6, 7, 78, 8, 76]\n",
    "[i for i in l if i%2 == 0]"
   ]
  },
  {
   "cell_type": "markdown",
   "id": "da601cbd",
   "metadata": {},
   "source": [
    "### FILTER"
   ]
  },
  {
   "cell_type": "code",
   "execution_count": 44,
   "id": "a90660b4",
   "metadata": {},
   "outputs": [],
   "source": [
    "#method 3\n",
    "def another_new(l):\n",
    "        if l%2 == 0:\n",
    "            return l"
   ]
  },
  {
   "cell_type": "code",
   "execution_count": 45,
   "id": "a9a291c3",
   "metadata": {},
   "outputs": [
    {
     "data": {
      "text/plain": [
       "[4, 6, 78, 8, 76]"
      ]
     },
     "execution_count": 45,
     "metadata": {},
     "output_type": "execute_result"
    }
   ],
   "source": [
    "list(filter(another_new,l))"
   ]
  },
  {
   "cell_type": "code",
   "execution_count": 48,
   "id": "070dda48",
   "metadata": {},
   "outputs": [
    {
     "data": {
      "text/plain": [
       "[True, False, True, False, True, True, True]"
      ]
     },
     "execution_count": 48,
     "metadata": {},
     "output_type": "execute_result"
    }
   ],
   "source": [
    "list(map(lambda x: x%2 == 0,l)) #Map is giving a boolean value"
   ]
  },
  {
   "cell_type": "code",
   "execution_count": 49,
   "id": "389fff78",
   "metadata": {},
   "outputs": [
    {
     "data": {
      "text/plain": [
       "[4, 6, 78, 8, 76]"
      ]
     },
     "execution_count": 49,
     "metadata": {},
     "output_type": "execute_result"
    }
   ],
   "source": [
    "list(filter(lambda x: x%2 == 0,l)) #filter filters according to the given condition and returns the  true value"
   ]
  },
  {
   "cell_type": "markdown",
   "id": "78e1a761",
   "metadata": {},
   "source": [
    "### Reduce"
   ]
  },
  {
   "cell_type": "code",
   "execution_count": 52,
   "id": "fe2c2a26",
   "metadata": {},
   "outputs": [],
   "source": [
    "from functools import reduce"
   ]
  },
  {
   "cell_type": "code",
   "execution_count": 54,
   "id": "d3c5e6f2",
   "metadata": {},
   "outputs": [],
   "source": [
    "l = [4, 5 , 6, 7, 78, 8, 76]"
   ]
  },
  {
   "cell_type": "code",
   "execution_count": 55,
   "id": "98a40029",
   "metadata": {},
   "outputs": [
    {
     "data": {
      "text/plain": [
       "184"
      ]
     },
     "execution_count": 55,
     "metadata": {},
     "output_type": "execute_result"
    }
   ],
   "source": [
    "sum(l)"
   ]
  },
  {
   "cell_type": "code",
   "execution_count": 65,
   "id": "a78f8c5b",
   "metadata": {},
   "outputs": [],
   "source": [
    "def test5(a,b):\n",
    "    return a+b"
   ]
  },
  {
   "cell_type": "code",
   "execution_count": 66,
   "id": "21824e32",
   "metadata": {},
   "outputs": [
    {
     "data": {
      "text/plain": [
       "184"
      ]
     },
     "execution_count": 66,
     "metadata": {},
     "output_type": "execute_result"
    }
   ],
   "source": [
    "reduce(test5, l)"
   ]
  },
  {
   "cell_type": "markdown",
   "id": "d58d26d3",
   "metadata": {},
   "source": [
    "reduce works on a loop.For eg in the above case, first a is  4 and b is 5.It return 9.So, for the next iteration, 9 is a and 6\n",
    "is b and it continues until the opration is done."
   ]
  },
  {
   "cell_type": "code",
   "execution_count": 71,
   "id": "1b56efb6",
   "metadata": {},
   "outputs": [],
   "source": [
    "def test6(a,b,c):\n",
    "    return a+b+c"
   ]
  },
  {
   "cell_type": "code",
   "execution_count": 73,
   "id": "b59a87f7",
   "metadata": {},
   "outputs": [
    {
     "ename": "TypeError",
     "evalue": "reduce() arg 2 must support iteration",
     "output_type": "error",
     "traceback": [
      "\u001b[1;31m---------------------------------------------------------------------------\u001b[0m",
      "\u001b[1;31mTypeError\u001b[0m                                 Traceback (most recent call last)",
      "\u001b[1;32mC:\\Users\\ROKAYA~1\\AppData\\Local\\Temp/ipykernel_1552/2011429904.py\u001b[0m in \u001b[0;36m<module>\u001b[1;34m\u001b[0m\n\u001b[1;32m----> 1\u001b[1;33m \u001b[0mreduce\u001b[0m\u001b[1;33m(\u001b[0m\u001b[0mtest5\u001b[0m\u001b[1;33m,\u001b[0m\u001b[1;36m1\u001b[0m\u001b[1;33m)\u001b[0m \u001b[1;31m#it gives error because, reduce takes only two input\u001b[0m\u001b[1;33m\u001b[0m\u001b[1;33m\u001b[0m\u001b[0m\n\u001b[0m",
      "\u001b[1;31mTypeError\u001b[0m: reduce() arg 2 must support iteration"
     ]
    }
   ],
   "source": [
    "reduce(test5,1) #it gives error because, reduce takes only two input"
   ]
  },
  {
   "cell_type": "code",
   "execution_count": 74,
   "id": "c1945efd",
   "metadata": {},
   "outputs": [],
   "source": [
    "l1 = [9]"
   ]
  },
  {
   "cell_type": "code",
   "execution_count": 76,
   "id": "575d57b5",
   "metadata": {},
   "outputs": [
    {
     "data": {
      "text/plain": [
       "9"
      ]
     },
     "execution_count": 76,
     "metadata": {},
     "output_type": "execute_result"
    }
   ],
   "source": [
    "reduce(9,l1) #can take single argument"
   ]
  },
  {
   "cell_type": "code",
   "execution_count": 77,
   "id": "fb6ddb89",
   "metadata": {},
   "outputs": [
    {
     "data": {
      "text/plain": [
       "184"
      ]
     },
     "execution_count": 77,
     "metadata": {},
     "output_type": "execute_result"
    }
   ],
   "source": [
    "reduce(lambda x,y: x+y,l)"
   ]
  },
  {
   "cell_type": "markdown",
   "id": "7902ba55",
   "metadata": {},
   "source": [
    "### ZIP"
   ]
  },
  {
   "cell_type": "code",
   "execution_count": 81,
   "id": "d41e556a",
   "metadata": {},
   "outputs": [
    {
     "data": {
      "text/plain": [
       "[(3, 56), (7, 98), (8, 87), (9, 77)]"
      ]
     },
     "execution_count": 81,
     "metadata": {},
     "output_type": "execute_result"
    }
   ],
   "source": [
    "#Zip creates a tuple of element of matching indexes\n",
    "l1 =[3,7,8,9]\n",
    "l2 = [56,98,87,77,90]\n",
    "list(zip(l1,l2))"
   ]
  },
  {
   "cell_type": "code",
   "execution_count": 84,
   "id": "29dadd13",
   "metadata": {},
   "outputs": [
    {
     "data": {
      "text/plain": [
       "[(3, 56, 'niraj'), (7, 98, 'pradip'), (8, 87, 'ramesh')]"
      ]
     },
     "execution_count": 84,
     "metadata": {},
     "output_type": "execute_result"
    }
   ],
   "source": [
    "l1 =[3,7,8,9]\n",
    "l2 = [56,98,87,77,90]\n",
    "l3 = ['niraj','pradip','ramesh']\n",
    "list(zip(l1,l2,l3))"
   ]
  }
 ],
 "metadata": {
  "kernelspec": {
   "display_name": "Python 3 (ipykernel)",
   "language": "python",
   "name": "python3"
  },
  "language_info": {
   "codemirror_mode": {
    "name": "ipython",
    "version": 3
   },
   "file_extension": ".py",
   "mimetype": "text/x-python",
   "name": "python",
   "nbconvert_exporter": "python",
   "pygments_lexer": "ipython3",
   "version": "3.9.7"
  }
 },
 "nbformat": 4,
 "nbformat_minor": 5
}
