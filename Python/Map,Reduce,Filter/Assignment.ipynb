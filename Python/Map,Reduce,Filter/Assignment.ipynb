{
 "cells": [
  {
   "cell_type": "markdown",
   "id": "268e753b",
   "metadata": {},
   "source": [
    "link :- https://archive.ics.uci.edu/ml/machine-learning-databases/bag-of-words/ (bottom 5 .txt file only)\n",
    "q1 : try to find a count of each and every word in a respective file\n",
    "q2 : return list of tuples with words and respective count eg [('niraj', 10), ('rokaya',10)]\n",
    "q3 : perform a reduce operation to get a count of all the word starting with same alphabet eg [('a',56), ('b',34)]...\n",
    "q4 : try to filter out all the words from data set. For eg 000.abstract --- output = abstract\n",
    "q5: create a tuple set of all the records available in all the five file and then store it in a sqlite DB.\n",
    "    index wise mapping(use zip)"
   ]
  },
  {
   "cell_type": "code",
   "execution_count": 65,
   "id": "cc38c5d3",
   "metadata": {},
   "outputs": [],
   "source": [
    "import logging\n",
    "logging.basicConfig(filename = 'count.log', level = logging.DEBUG, format = '%(asctime)s %(levelname)s %(message)s')\n",
    "\n",
    "class count:\n",
    "    def text(self,data):\n",
    "        '''this is the function to count the number of elements'''\n",
    "        logging.info(\"I am trying to pass %s text file\",data)\n",
    "        try:\n",
    "            count = 0\n",
    "            for i in data:\n",
    "                count = count + 1\n",
    "            return(\"The number of element in {} is {}\".format(data,count))\n",
    "            logging.info(\"executed successfully\")\n",
    "        except Exception as e:\n",
    "            logging.error(\"Error occured\")\n",
    "            logging.exception(\"exception occured\" + str(e))\n",
    "        \n",
    "c = count()\n",
    "with open(\"vocab.enron.txt\") as data:\n",
    "    c.text(data)\n",
    "with open(\"vocab.kos.txt\") as data:\n",
    "    c.text(data)\n",
    "with open(\"vocab.nips.txt\") as data:\n",
    "    c.text(data)\n",
    "with open(\"vocab.nytimes.txt\") as data:\n",
    "    c.text(data)\n",
    "with open(\"vocab.pubmed.txt\",encoding = \"utf8\") as data:\n",
    "    c.text(data)"
   ]
  },
  {
   "cell_type": "code",
   "execution_count": 66,
   "id": "359b4e16",
   "metadata": {},
   "outputs": [],
   "source": [
    "#q2 : return list of tuples with words and respective count\n",
    "class words_count:\n",
    "    def counting(self,data):\n",
    "        d = dict()\n",
    "        for line in data:\n",
    "            line = line.strip() # removes spaces and bacline character\n",
    "            line = line.lower() #converts to lower case to avoid mismatch\n",
    "            words = line.split(\" \") #split the line into words\n",
    "\n",
    "            for word in words: #iterate over each word in line\n",
    "                if word in d: #checks if the word is present in the dictionary\n",
    "                    d[word] = d[word] + 1 #increament word count by 1\n",
    "                else:\n",
    "                    d[word] = 1 \n",
    "                    \n",
    "#         for key, value in d.items():\n",
    "#               print(key, '->', value)\n",
    "\n",
    "        list = [(k, v) for k, v in d.items()] \n",
    "        return(list)\n",
    "c = words_count()\n",
    "with open('vocab.enron.txt') as data:\n",
    "    c.counting(data)\n",
    "with open(\"vocab.kos.txt\") as data:\n",
    "    c.counting(data)\n",
    "with open(\"vocab.nips.txt\") as data:\n",
    "    c.counting(data)\n",
    "with open(\"vocab.nytimes.txt\") as data:\n",
    "    c.counting(data)\n",
    "with open(\"vocab.pubmed.txt\",encoding = \"utf8\") as data:\n",
    "    c.counting(data)"
   ]
  },
  {
   "cell_type": "code",
   "execution_count": 42,
   "id": "75b9eec9",
   "metadata": {},
   "outputs": [],
   "source": []
  },
  {
   "cell_type": "code",
   "execution_count": null,
   "id": "9a1b9f6c",
   "metadata": {},
   "outputs": [],
   "source": []
  }
 ],
 "metadata": {
  "kernelspec": {
   "display_name": "Python 3 (ipykernel)",
   "language": "python",
   "name": "python3"
  },
  "language_info": {
   "codemirror_mode": {
    "name": "ipython",
    "version": 3
   },
   "file_extension": ".py",
   "mimetype": "text/x-python",
   "name": "python",
   "nbconvert_exporter": "python",
   "pygments_lexer": "ipython3",
   "version": "3.9.7"
  }
 },
 "nbformat": 4,
 "nbformat_minor": 5
}
